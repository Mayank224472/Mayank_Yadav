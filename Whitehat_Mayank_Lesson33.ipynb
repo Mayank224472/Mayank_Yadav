{
  "nbformat": 4,
  "nbformat_minor": 0,
  "metadata": {
    "colab": {
      "name": "Copy of AT - Lesson 33 - Class Copy - v0",
      "provenance": [],
      "collapsed_sections": [],
      "include_colab_link": true
    },
    "kernelspec": {
      "name": "python3",
      "display_name": "Python 3"
    }
  },
  "cells": [
    {
      "cell_type": "markdown",
      "metadata": {
        "id": "view-in-github",
        "colab_type": "text"
      },
      "source": [
        "<a href=\"https://colab.research.google.com/github/Mayank224472/Mayank_Yadav/blob/WhiteHat_Mayank_Applied_Tech/Whitehat_Mayank_Lesson33.ipynb\" target=\"_parent\"><img src=\"https://colab.research.google.com/assets/colab-badge.svg\" alt=\"Open In Colab\"/></a>"
      ]
    },
    {
      "cell_type": "markdown",
      "metadata": {
        "id": "DOQ43Vq9IBwE"
      },
      "source": [
        "# Lesson 33: Python Tuples I"
      ]
    },
    {
      "cell_type": "markdown",
      "metadata": {
        "id": "s2pZAC4BWtxM"
      },
      "source": [
        "### Teacher-Student Activities\n",
        "\n",
        "So far you have learned two data-structures: lists and dictionaries. In this class, we will learn Python tuples in detail. We have been using them but never really discussed them much.\n",
        "\n",
        "Essentially, Python tuples behave exactly like Python lists with just one difference. Python tuples are immutable in nature. In other words, the contents of a tuple are unchangeable. Once a tuple is created, you cannot add a new item, cannot update an existing item and cannot delete an item.\n",
        "\n",
        "To sum it up, a Python tuple is an **ordered and immutable** collection of items. A Python list, on the other hand, is an ordered but mutable collection of items.\n",
        "\n",
        "In real-life situations, a tuple is used to store unchangeable information such as bank account number, email-id, coordinates of a location or any universally true fact such as water has two molecules of hydrogen and one molecule of oxygen. \n"
      ]
    },
    {
      "cell_type": "markdown",
      "metadata": {
        "id": "3kS83R_RkxZt"
      },
      "source": [
        "---"
      ]
    },
    {
      "cell_type": "markdown",
      "metadata": {
        "id": "UL4aH3IwkyTs"
      },
      "source": [
        "#### Activity 1: Create Python Tuple\n",
        "\n",
        "Let's create a tuple which stores the names of the six naturally occurring noble gases. They are as follows:\n",
        "\n",
        "`helium (He), neon (Ne), argon (Ar), krypton (Kr), xenon (Xe), radon (Rn)`\n",
        "\n",
        "To create a tuple, you simply have to write the items enclosed between the common brackets `()` such that the items are separated by a comma."
      ]
    },
    {
      "cell_type": "code",
      "metadata": {
        "id": "sGXjP_9XLI0X",
        "colab": {
          "base_uri": "https://localhost:8080/"
        },
        "outputId": "7455cf6e-c0f2-4449-9472-382061379b8c"
      },
      "source": [
        "# Student Action: Create a tuple containing the names of the six naturally occurring noble gases.\n",
        "noble_gases=(\"He\",\"Ne\",\"Ar\",\"Kr\",\"Xe\",\"Rn\")\n",
        "noble_gases\n"
      ],
      "execution_count": null,
      "outputs": [
        {
          "output_type": "execute_result",
          "data": {
            "text/plain": [
              "('He', 'Ne', 'Ar', 'Kr', 'Xe', 'Rn')"
            ]
          },
          "metadata": {
            "tags": []
          },
          "execution_count": 2
        }
      ]
    },
    {
      "cell_type": "markdown",
      "metadata": {
        "id": "mlP16hWpXgd3"
      },
      "source": [
        " To verify whether a data structure is a tuple or not, you can use the `type()` function."
      ]
    },
    {
      "cell_type": "code",
      "metadata": {
        "id": "uYRMrXEaXe51",
        "colab": {
          "base_uri": "https://localhost:8080/"
        },
        "outputId": "5eb1eac0-5f59-47aa-ec2e-e2331ecb6e42"
      },
      "source": [
        "# Student Action: Verify whether the data-structure stored in the 'noble_gases' variable is a tuple or not.\n",
        "type(noble_gases)"
      ],
      "execution_count": null,
      "outputs": [
        {
          "output_type": "execute_result",
          "data": {
            "text/plain": [
              "tuple"
            ]
          },
          "metadata": {
            "tags": []
          },
          "execution_count": 3
        }
      ]
    },
    {
      "cell_type": "markdown",
      "metadata": {
        "id": "YiIAzbVIY0Hq"
      },
      "source": [
        "Similar to a Python list, a Python tuple can also contain different types of items such as integer, float, string, list, boolean, tuple etc. Let's learn this concept with the help of an example.\n",
        "\n",
        "Consider the following properties of helium.\n",
        "\n",
        "|Properties of Helium (He) |Values|\n",
        "|-|-|\n",
        "|Atomic number|2|\n",
        "|Atomic mass $\\left(\\frac{g}{mol}\\right)$|4.0026|\n",
        "|Electronegativity according to Pauling|unknown|\n",
        "|Present in Earth's atmosphere|Yes|\n",
        "|Stable isotopes|helium-3, helium-4|\n",
        "\n",
        "The `Values` column in the above list contains items of all the types. Let's put the same items in a tuple and store it in the `helium_props` variable.\n",
        "\n",
        "\n"
      ]
    },
    {
      "cell_type": "code",
      "metadata": {
        "id": "uU_TcNO7TxQy",
        "colab": {
          "base_uri": "https://localhost:8080/"
        },
        "outputId": "532016fc-b807-41ea-a642-d2b0bffaffcf"
      },
      "source": [
        "# Student Action: Create a tuple containing all the properties of Helium.\n",
        "helium_props=(2,4.0026,\"unknown\",True,[\"helium-3\",\"helium-4\"])\n",
        "helium_props"
      ],
      "execution_count": null,
      "outputs": [
        {
          "output_type": "execute_result",
          "data": {
            "text/plain": [
              "(2, 4.0026, 'unknown', True, ['helium-3', 'helium-4'])"
            ]
          },
          "metadata": {
            "tags": []
          },
          "execution_count": 4
        }
      ]
    },
    {
      "cell_type": "markdown",
      "metadata": {
        "id": "ZfCaFwjJYX2b"
      },
      "source": [
        "As you can see, a tuple can contain different types of items.\n"
      ]
    },
    {
      "cell_type": "markdown",
      "metadata": {
        "id": "9RV3-ZMkxrZG"
      },
      "source": [
        "---"
      ]
    },
    {
      "cell_type": "markdown",
      "metadata": {
        "id": "gCe9LYbXaSvI"
      },
      "source": [
        "#### Activity 2: Tuple Length\n",
        "\n",
        "The length of a tuple (or tuple length) is the number of items contained in the tuple. To calculate the length of a tuple (or the number of items present in a tuple), you can use the `len()` function (the same function that you have been using for Python lists)."
      ]
    },
    {
      "cell_type": "code",
      "metadata": {
        "id": "J-Z09gTba5Gt",
        "colab": {
          "base_uri": "https://localhost:8080/"
        },
        "outputId": "35162e25-09b0-4af8-e1f3-10b186b2f103"
      },
      "source": [
        "# Student Action: Calculate the number of items contained in the 'helium_props' tuple.\n",
        "len(helium_props)"
      ],
      "execution_count": null,
      "outputs": [
        {
          "output_type": "execute_result",
          "data": {
            "text/plain": [
              "5"
            ]
          },
          "metadata": {
            "tags": []
          },
          "execution_count": 5
        }
      ]
    },
    {
      "cell_type": "markdown",
      "metadata": {
        "id": "WuND4hQYa7Lw"
      },
      "source": [
        "The last item `['helium-3', 'helium-4']` is a list acting as a singular item contained in the `helium_props` tuple."
      ]
    },
    {
      "cell_type": "markdown",
      "metadata": {
        "id": "2uI5LyWYNiXr"
      },
      "source": [
        "---"
      ]
    },
    {
      "cell_type": "markdown",
      "metadata": {
        "id": "mDDIaAO7xVrl"
      },
      "source": [
        "#### Activity 3: Empty Tuple & One-Item Tuple\n",
        "\n",
        "You can also create an empty tuple (a tuple having no item) by simply writing the common brackets (or parentheses)."
      ]
    },
    {
      "cell_type": "code",
      "metadata": {
        "id": "ouw082yTu95T",
        "colab": {
          "base_uri": "https://localhost:8080/"
        },
        "outputId": "a8b83980-6b35-4a2b-aa96-35bcadae4bdf"
      },
      "source": [
        "# Student Action: Create an empty tuple.\n",
        "empty=()\n",
        "empty"
      ],
      "execution_count": null,
      "outputs": [
        {
          "output_type": "execute_result",
          "data": {
            "text/plain": [
              "()"
            ]
          },
          "metadata": {
            "tags": []
          },
          "execution_count": 6
        }
      ]
    },
    {
      "cell_type": "markdown",
      "metadata": {
        "id": "KVm8f5k1vRh1"
      },
      "source": [
        "Interestingly, creating a tuple containing only one item is quite tricky. As an experiment, create the following five tuples containing only one item and check their types using the `type` function.\n",
        "\n",
        "```\n",
        "atomic_num = (2)\n",
        "atomic_mass = (4.0026)\n",
        "elec_neg = ('unknown')\n",
        "in_earth_atmos = (True)\n",
        "stable_isotopes = (('helium-3', 'helium-4'))\n",
        "```"
      ]
    },
    {
      "cell_type": "code",
      "metadata": {
        "id": "RSPj_JS0vZG3",
        "colab": {
          "base_uri": "https://localhost:8080/"
        },
        "outputId": "d181638c-49f5-4111-caa1-d50591a4028f"
      },
      "source": [
        "# Student Action: Create the above five tuples and check their types.\n",
        "atomic_num = (2)\n",
        "atomic_mass = (4.0026)\n",
        "elec_neg = ('unknown')\n",
        "in_earth_atmos = (True)\n",
        "stable_isotopes = (('helium-3', 'helium-4'))\n",
        "type(stable_isotopes)"
      ],
      "execution_count": null,
      "outputs": [
        {
          "output_type": "execute_result",
          "data": {
            "text/plain": [
              "tuple"
            ]
          },
          "metadata": {
            "tags": []
          },
          "execution_count": 7
        }
      ]
    },
    {
      "cell_type": "markdown",
      "metadata": {
        "id": "g3Zw7bK-yI6m"
      },
      "source": [
        "As you can see, the `type()` function returns all the other types except for `tuple`. This is how the Python interpreter works. We can't do anything about it.\n",
        "\n",
        "Now, put a comma after the item in each of the above five tuples and check their types again. "
      ]
    },
    {
      "cell_type": "code",
      "metadata": {
        "id": "EJYYKtsZyoFt",
        "colab": {
          "base_uri": "https://localhost:8080/"
        },
        "outputId": "4cef71ac-9182-4254-99ce-109a07812cce"
      },
      "source": [
        "# Student Action: Create the above five tuples again by putting a comma after item in each tuple and check their types.\n",
        "atomic_num = (2,)\n",
        "atomic_mass = (4.0026,)\n",
        "elec_neg = ('unknown',)\n",
        "in_earth_atmos = (True,)\n",
        "stable_isotopes = (('helium-3', 'helium-4'))\n",
        "type(atomic_num)"
      ],
      "execution_count": null,
      "outputs": [
        {
          "output_type": "execute_result",
          "data": {
            "text/plain": [
              "tuple"
            ]
          },
          "metadata": {
            "tags": []
          },
          "execution_count": 8
        }
      ]
    },
    {
      "cell_type": "markdown",
      "metadata": {
        "id": "5z7-el8VzNq7"
      },
      "source": [
        "As you can see, we have now created five tuples. Each of them contains only one item. Hence, the trick to create a tuple having only one item is to put a comma after the item. \n",
        "\n",
        "**Note:** Even if you don't enclose the items within parentheses but put a trailing comma, then also Python will create a tuple."
      ]
    },
    {
      "cell_type": "code",
      "metadata": {
        "id": "inB4D0glz5Us"
      },
      "source": [
        "# Student Action: Create two tuples without putting parentheses: one having only one item and another having at least two items.\n",
        "# Verify whether they both are tuples or not.\n"
      ],
      "execution_count": null,
      "outputs": []
    },
    {
      "cell_type": "markdown",
      "metadata": {
        "id": "JfGAxG_i0MA6"
      },
      "source": [
        "As you can see, even without putting parentheses, we can create a tuple. This is a very unique property of a Python tuple."
      ]
    },
    {
      "cell_type": "markdown",
      "metadata": {
        "id": "axkkh0lFbN9m"
      },
      "source": [
        "---"
      ]
    },
    {
      "cell_type": "markdown",
      "metadata": {
        "id": "zX2UYla-ZZr7"
      },
      "source": [
        "#### Activity 4: Tuple Indexing^\n",
        "\n",
        "Tuple indexing is exactly the same as list indexing. Every item in a Python tuple, occupies a unique position called index. \n",
        "\n",
        "- The first item in a tuple occupies `index = 0`. \n",
        "\n",
        "- Similarly, the second item occupies `index = 1` and so on.\n",
        "\n",
        "- The last item occupies `index = (n - 1)`, where `n` is the number of items contained in a tuple.\n",
        "\n",
        "To get an item of a specific index, write the name of the variable storing the tuple followed by the index value enclosed between square brackets `[]`.\n",
        "\n",
        "**Syntax:** `tuple_name[index_value]`\n"
      ]
    },
    {
      "cell_type": "markdown",
      "metadata": {
        "id": "MTQcsObYeTAk"
      },
      "source": [
        "Here's the expected output for the following exercise:\n",
        "\n",
        "```\n",
        "Item at index 0 is 2\n",
        "Item at index 1 is 4.0026\n",
        "Item at index 2 is unknown\n",
        "Item at index 3 is True\n",
        "Item at index 4 is ['helium-3', 'helium-4']\n",
        "```\n"
      ]
    },
    {
      "cell_type": "code",
      "metadata": {
        "id": "r9YReDgvYbnJ",
        "colab": {
          "base_uri": "https://localhost:8080/"
        },
        "outputId": "a4d40ddb-79d0-4131-a49c-8f375584d0f1"
      },
      "source": [
        "# Student Action: Print all the items one-by-one contained in the 'helium_props' tuple using the indexing method along with a 'for' loop.\n",
        "helium_props[1]\n",
        "for i in range(0,5) :\n",
        "  print(\"item at index\",i,\"is\",helium_props[i])\n"
      ],
      "execution_count": null,
      "outputs": [
        {
          "output_type": "stream",
          "text": [
            "item at index 0 is 2\n",
            "item at index 1 is 4.0026\n",
            "item at index 2 is unknown\n",
            "item at index 3 is True\n",
            "item at index 4 is ['helium-3', 'helium-4']\n"
          ],
          "name": "stdout"
        }
      ]
    },
    {
      "cell_type": "markdown",
      "metadata": {
        "id": "_Rv7qabdcnoD"
      },
      "source": [
        "As you can see, you can get individual items by writing their indices enclosed between square brackets after the variable containing the tuple.\n",
        "\n",
        "Just like a Python list, you can use negative indexing as well to retrieve an item from a tuple.\n"
      ]
    },
    {
      "cell_type": "markdown",
      "metadata": {
        "id": "fOjwNFdceWWM"
      },
      "source": [
        "Here's the expected output for the following exercise:\n",
        "\n",
        "```\n",
        "Item at index -5 is 2\n",
        "Item at index -4 is 4.0026\n",
        "Item at index -3 is unknown\n",
        "Item at index -2 is True\n",
        "Item at index -1 is ['helium-3', 'helium-4']\n",
        "```"
      ]
    },
    {
      "cell_type": "code",
      "metadata": {
        "id": "oV_NMDsjgS86",
        "colab": {
          "base_uri": "https://localhost:8080/"
        },
        "outputId": "8d17efd3-55ea-4547-c0c4-14c3973287cb"
      },
      "source": [
        "# Student Action: Print all the items one-by-one contained in the 'helium_props' tuple using the negative indexing method along with a 'for' loop.\n",
        "helium_props[0]\n",
        "for i in range(0,5) :\n",
        "  print(\"item at index\",i-5,\"is\",helium_props[i])"
      ],
      "execution_count": null,
      "outputs": [
        {
          "output_type": "stream",
          "text": [
            "item at index -5 is 2\n",
            "item at index -4 is 4.0026\n",
            "item at index -3 is unknown\n",
            "item at index -2 is True\n",
            "item at index -1 is ['helium-3', 'helium-4']\n"
          ],
          "name": "stdout"
        }
      ]
    },
    {
      "cell_type": "markdown",
      "metadata": {
        "id": "twJpb_FYdGg1"
      },
      "source": [
        "Here's the expected output for the following exercise:\n",
        "\n",
        "```\n",
        "Item at index -1 is ['helium-3', 'helium-4']\n",
        "Item at index -2 is True\n",
        "Item at index -3 is unknown\n",
        "Item at index -4 is 4.0026\n",
        "Item at index -5 is 2\n",
        "```"
      ]
    },
    {
      "cell_type": "code",
      "metadata": {
        "id": "xgpEp-eQbW12",
        "colab": {
          "base_uri": "https://localhost:8080/"
        },
        "outputId": "47b77e9b-7359-4c56-cb1a-0c08aeedf68a"
      },
      "source": [
        "# Student Action: Get all the items of the 'helium_props' tuple in the reverse order using the negative indexing method along with a 'for' loop.\n",
        "for i in range(1,6) :\n",
        "  print(\"item at index\",-i,\"is\",helium_props[-i])"
      ],
      "execution_count": null,
      "outputs": [
        {
          "output_type": "stream",
          "text": [
            "item at index -1 is ['helium-3', 'helium-4']\n",
            "item at index -2 is True\n",
            "item at index -3 is unknown\n",
            "item at index -4 is 4.0026\n",
            "item at index -5 is 2\n"
          ],
          "name": "stdout"
        }
      ]
    },
    {
      "cell_type": "markdown",
      "metadata": {
        "id": "A9GPlohcvxU7"
      },
      "source": [
        "You can also retrieve all the items from a tuple without using the `range()` function in a `for` loop.\n",
        "\n"
      ]
    },
    {
      "cell_type": "markdown",
      "metadata": {
        "id": "ULb6zpkJej5l"
      },
      "source": [
        "Here's the expected output for the following exercise:\n",
        "\n",
        "```\n",
        "Item at index 0 is 2\n",
        "Item at index 1 is 4.0026\n",
        "Item at index 2 is unknown\n",
        "Item at index 3 is True\n",
        "Item at index 4 is ['helium-3', 'helium-4']\n",
        "```\n"
      ]
    },
    {
      "cell_type": "code",
      "metadata": {
        "id": "dOQoESx4wmOr",
        "colab": {
          "base_uri": "https://localhost:8080/"
        },
        "outputId": "3df7bd3e-2f6f-4622-f1e5-da31346c96b2"
      },
      "source": [
        "# Student Action: Retrieve all the items from 'helium_props' tuple without using the 'range()' function in a 'for' loop.\n",
        "for i in range(0,5) :\n",
        "  print(\"item at index\",i,\"is\",helium_props[i])"
      ],
      "execution_count": null,
      "outputs": [
        {
          "output_type": "stream",
          "text": [
            "item at index 0 is 2\n",
            "item at index 1 is 4.0026\n",
            "item at index 2 is unknown\n",
            "item at index 3 is True\n",
            "item at index 4 is ['helium-3', 'helium-4']\n"
          ],
          "name": "stdout"
        }
      ]
    },
    {
      "cell_type": "markdown",
      "metadata": {
        "id": "ain-xGoSdeJG"
      },
      "source": [
        "**Note:** The `i += 1` is another way of writing `i = i + 1`. Similarly, \n",
        "\n",
        "- `i -= 1` is another way of writing `i = i - 1`.\n",
        "\n",
        "- `i *= 2` is another way of writing `i = i * 2` and so on."
      ]
    },
    {
      "cell_type": "markdown",
      "metadata": {
        "id": "ehuJdrrDdbf3"
      },
      "source": [
        "---"
      ]
    },
    {
      "cell_type": "markdown",
      "metadata": {
        "id": "Gl6PMYFzdcuY"
      },
      "source": [
        "#### Activity 5: Tuple Slicing^^\n",
        "\n",
        "Again, tuple slicing is exactly the same as the list slicing. We will quickly go through this concept."
      ]
    },
    {
      "cell_type": "code",
      "metadata": {
        "id": "g4St23LCckp5",
        "colab": {
          "base_uri": "https://localhost:8080/"
        },
        "outputId": "feedf7d1-3c14-454e-be11-19615ca5fd17"
      },
      "source": [
        "# Student Action: Get the first four items from the 'helium_props' tuple.\n",
        "helium_props[0:2]"
      ],
      "execution_count": null,
      "outputs": [
        {
          "output_type": "execute_result",
          "data": {
            "text/plain": [
              "(2, 4.0026)"
            ]
          },
          "metadata": {
            "tags": []
          },
          "execution_count": 14
        }
      ]
    },
    {
      "cell_type": "code",
      "metadata": {
        "id": "8awzIZSGfAz9",
        "colab": {
          "base_uri": "https://localhost:8080/"
        },
        "outputId": "f5b3c48d-1f65-4cc5-ba43-a5fa4212e943"
      },
      "source": [
        "# Student Action: Get all the items from the 'helium_props' tuple in the reverse order.\n",
        "helium_props[::-1]"
      ],
      "execution_count": null,
      "outputs": [
        {
          "output_type": "execute_result",
          "data": {
            "text/plain": [
              "(['helium-3', 'helium-4'], True, 'unknown', 4.0026, 2)"
            ]
          },
          "metadata": {
            "tags": []
          },
          "execution_count": 15
        }
      ]
    },
    {
      "cell_type": "code",
      "metadata": {
        "id": "qOtYwIANhkZD",
        "colab": {
          "base_uri": "https://localhost:8080/"
        },
        "outputId": "d6f7a01f-18e0-468e-990a-81892f296838"
      },
      "source": [
        "# Student Action: Get the alternate items from the 'helium_props' tuple.\n",
        "helium_props[::2]"
      ],
      "execution_count": null,
      "outputs": [
        {
          "output_type": "execute_result",
          "data": {
            "text/plain": [
              "(2, 'unknown', ['helium-3', 'helium-4'])"
            ]
          },
          "metadata": {
            "tags": []
          },
          "execution_count": 16
        }
      ]
    },
    {
      "cell_type": "code",
      "metadata": {
        "id": "gtS9zNIejcqV",
        "colab": {
          "base_uri": "https://localhost:8080/"
        },
        "outputId": "f03d52d3-f686-4ab7-cb6a-b59c9b6dfd2c"
      },
      "source": [
        "# Student Action: Get the last three items from the 'helium_props' tuple.\n",
        "helium_props[2:5]"
      ],
      "execution_count": null,
      "outputs": [
        {
          "output_type": "execute_result",
          "data": {
            "text/plain": [
              "('unknown', True, ['helium-3', 'helium-4'])"
            ]
          },
          "metadata": {
            "tags": []
          },
          "execution_count": 17
        }
      ]
    },
    {
      "cell_type": "code",
      "metadata": {
        "id": "6SudkgSafxNx",
        "colab": {
          "base_uri": "https://localhost:8080/"
        },
        "outputId": "e1efda3c-7ec6-4530-9e42-91422f6c25b7"
      },
      "source": [
        "# Student Action: Get all the items from the 'helium_props' tuple using negative indexing except for the first and the last items.\n",
        "helium_props[-3:]"
      ],
      "execution_count": null,
      "outputs": [
        {
          "output_type": "execute_result",
          "data": {
            "text/plain": [
              "('unknown', True, ['helium-3', 'helium-4'])"
            ]
          },
          "metadata": {
            "tags": []
          },
          "execution_count": 18
        }
      ]
    },
    {
      "cell_type": "code",
      "metadata": {
        "id": "wN2ip7IXOA3a",
        "colab": {
          "base_uri": "https://localhost:8080/",
          "height": 34
        },
        "outputId": "d6bc9355-5bbf-4f27-d3a9-18a13cd1b26d"
      },
      "source": [
        "# Student Action: Get the second item of the list stored in the 'helium_props' tuple.\n",
        "helium_props[4][1]"
      ],
      "execution_count": null,
      "outputs": [
        {
          "output_type": "execute_result",
          "data": {
            "application/vnd.google.colaboratory.intrinsic+json": {
              "type": "string"
            },
            "text/plain": [
              "'helium-4'"
            ]
          },
          "metadata": {
            "tags": []
          },
          "execution_count": 19
        }
      ]
    },
    {
      "cell_type": "markdown",
      "metadata": {
        "id": "34tM0N5Pl4gc"
      },
      "source": [
        "---"
      ]
    },
    {
      "cell_type": "markdown",
      "metadata": {
        "id": "tBXa9yhPukbh"
      },
      "source": [
        "#### Activity 6: The `index()` Function\n",
        "\n",
        "You can use the `index()` function to find out the index of an item in a tuple. The same function can also be used for a Python list.\n",
        "\n",
        "**Syntax:** `tuple_name.index(item)`"
      ]
    },
    {
      "cell_type": "code",
      "metadata": {
        "id": "TV_dXbgYlzxw",
        "colab": {
          "base_uri": "https://localhost:8080/"
        },
        "outputId": "25274785-2531-4c56-f269-076f9b59f90d"
      },
      "source": [
        "# Student Action: Get the index of the item 'unknown' that is present in the 'helium_props' tuple.\n",
        "helium_props.index(\"unknown\")"
      ],
      "execution_count": null,
      "outputs": [
        {
          "output_type": "execute_result",
          "data": {
            "text/plain": [
              "2"
            ]
          },
          "metadata": {
            "tags": []
          },
          "execution_count": 20
        }
      ]
    },
    {
      "cell_type": "markdown",
      "metadata": {
        "id": "ushE05W8PZSs"
      },
      "source": [
        "**Note:** The `index()` function throws `ValueError` if an item does not exist in the tuple."
      ]
    },
    {
      "cell_type": "markdown",
      "metadata": {
        "id": "73bW5MU8PwUm"
      },
      "source": [
        "---"
      ]
    },
    {
      "cell_type": "markdown",
      "metadata": {
        "id": "zKlZahzS8GuO"
      },
      "source": [
        "#### Activity 7: The `count()` Function\n",
        "\n",
        "The `count()` function in tuple counts the number of times an item occurs in a tuple. The same function can also be used for a Python list.\n",
        "\n",
        "Here we have a tuple containing the FIFA football world cup winners starting from the year 1982 till 2018. \n",
        "\n",
        "`fifa_wc_winners = ('Italy', 'Argentina', 'Germany', 'Brazil', 'France', 'Brazil', 'Italy', 'Spain', 'Germany', 'France')`\n",
        "\n",
        "Find out how many times France and Brazil have won the world cup in the given period."
      ]
    },
    {
      "cell_type": "code",
      "metadata": {
        "id": "paKTAiIq7Acp",
        "colab": {
          "base_uri": "https://localhost:8080/"
        },
        "outputId": "9c1b0c34-6e92-4345-ea47-1326a8c4a54a"
      },
      "source": [
        "# Student Action: Count the number of times 'France' & 'Brazil' have won the world cup between the years 1982 and 2018.\n",
        "fifa_wc_winners = ('Italy', 'Argentina', 'Germany', 'Brazil', 'France', 'Brazil', 'Italy', 'Spain', 'Germany', 'France')\n",
        "fifa_wc_winners.count('France')"
      ],
      "execution_count": null,
      "outputs": [
        {
          "output_type": "execute_result",
          "data": {
            "text/plain": [
              "2"
            ]
          },
          "metadata": {
            "tags": []
          },
          "execution_count": 21
        }
      ]
    },
    {
      "cell_type": "markdown",
      "metadata": {
        "id": "QwedUG329Gpd"
      },
      "source": [
        "So, both the countries have won the FIFA world cup twice between the years 1982 and 2018. This also proves that a tuple can contain repeated elements (or items)."
      ]
    },
    {
      "cell_type": "markdown",
      "metadata": {
        "id": "44YH35S_RITK"
      },
      "source": [
        "---"
      ]
    },
    {
      "cell_type": "markdown",
      "metadata": {
        "id": "348_q6lxSZYV"
      },
      "source": [
        "#### Activity 8: Add, Replace & Delete Item^^^\n",
        "\n",
        "As discussed at the beginning of this class, we cannot add, replace (or update) & delete an item from a tuple. Let's verify this theory. \n",
        "\n",
        "Let's try to replace the item `'unknown'` contained in the `helium_props` tuple with the string `'Not Available'`. We should get an error."
      ]
    },
    {
      "cell_type": "code",
      "metadata": {
        "id": "ZvW7-FvETYqm",
        "colab": {
          "base_uri": "https://localhost:8080/",
          "height": 200
        },
        "outputId": "421add50-1bfd-46c0-d574-59ea1ce407d2"
      },
      "source": [
        "# Student Action: Try to replace the item 'unknown' contained in the 'helium_props' tuple with the string 'Not Available'.\n",
        "helium_props[2]='Not Available'\n",
        "helium_props"
      ],
      "execution_count": null,
      "outputs": [
        {
          "output_type": "error",
          "ename": "TypeError",
          "evalue": "ignored",
          "traceback": [
            "\u001b[0;31m---------------------------------------------------------------------------\u001b[0m",
            "\u001b[0;31mTypeError\u001b[0m                                 Traceback (most recent call last)",
            "\u001b[0;32m<ipython-input-22-4b22408461f6>\u001b[0m in \u001b[0;36m<module>\u001b[0;34m()\u001b[0m\n\u001b[1;32m      1\u001b[0m \u001b[0;31m# Student Action: Try to replace the item 'unknown' contained in the 'helium_props' tuple with the string 'Not Available'.\u001b[0m\u001b[0;34m\u001b[0m\u001b[0;34m\u001b[0m\u001b[0;34m\u001b[0m\u001b[0m\n\u001b[0;32m----> 2\u001b[0;31m \u001b[0mhelium_props\u001b[0m\u001b[0;34m[\u001b[0m\u001b[0;36m2\u001b[0m\u001b[0;34m]\u001b[0m\u001b[0;34m=\u001b[0m\u001b[0;34m'Not Available'\u001b[0m\u001b[0;34m\u001b[0m\u001b[0;34m\u001b[0m\u001b[0m\n\u001b[0m\u001b[1;32m      3\u001b[0m \u001b[0mhelium_props\u001b[0m\u001b[0;34m\u001b[0m\u001b[0;34m\u001b[0m\u001b[0m\n",
            "\u001b[0;31mTypeError\u001b[0m: 'tuple' object does not support item assignment"
          ]
        }
      ]
    },
    {
      "cell_type": "markdown",
      "metadata": {
        "id": "csp3eeh3UBBr"
      },
      "source": [
        "As you can see, Python throws `TypeError` saying that `'tuple' object does not support item assignment`. Hence, we have verified that we cannot replace or update an existing item in a tuple.\n",
        "\n",
        "Let's try to delete the item `'unknown'` using the `del` keyword. It works for a Python list as well. There exists no `remove()` function for a Python tuple like the one that exists for a Python list.\n",
        "\n",
        "**Note:** Again you will get an error."
      ]
    },
    {
      "cell_type": "code",
      "metadata": {
        "id": "2cgn3b0pUuVL"
      },
      "source": [
        "# Student Action: Try to delete the item 'unknown' from the 'helium_props' tuple. using the 'del' keyword.\n",
        "del helium_props[2]"
      ],
      "execution_count": null,
      "outputs": []
    },
    {
      "cell_type": "markdown",
      "metadata": {
        "id": "g5QBOAkhVHyg"
      },
      "source": [
        "As you can see, Python throws `TypeError` saying that `'tuple' object doesn't support item deletion`. Hence, we have verified that we cannot delete an existing item from a tuple.\n",
        "\n",
        "There exists no function like the `append()` function (exists for a Python list) that can add an item to a tuple. But can concatenate or join two or more tuples.\n",
        "\n",
        "We will pause here and will continue the discussion on Python tuples in the next class."
      ]
    },
    {
      "cell_type": "markdown",
      "metadata": {
        "id": "XKPonIJBSX3c"
      },
      "source": [
        "---"
      ]
    }
  ]
}