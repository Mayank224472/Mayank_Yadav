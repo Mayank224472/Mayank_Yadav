{
  "nbformat": 4,
  "nbformat_minor": 0,
  "metadata": {
    "colab": {
      "name": "20200821_Mayank_Lesson9",
      "provenance": [],
      "collapsed_sections": [],
      "include_colab_link": true
    },
    "kernelspec": {
      "name": "python3",
      "display_name": "Python 3"
    }
  },
  "cells": [
    {
      "cell_type": "markdown",
      "metadata": {
        "id": "view-in-github",
        "colab_type": "text"
      },
      "source": [
        "<a href=\"https://colab.research.google.com/github/Mayank224472/Mayank224472/blob/main/Whitehat_Mayank_Lesson9.ipynb\" target=\"_parent\"><img src=\"https://colab.research.google.com/assets/colab-badge.svg\" alt=\"Open In Colab\"/></a>"
      ]
    },
    {
      "cell_type": "markdown",
      "metadata": {
        "id": "7LlG_PPFjJUz"
      },
      "source": [
        "# Lesson 9: NumPy Arrays I\n"
      ]
    },
    {
      "cell_type": "markdown",
      "metadata": {
        "id": "3rJJF2_hNmmS"
      },
      "source": [
        "### Teacher-Student Activities\n",
        "\n",
        "In the previous lesson, we learnt how to create a Python list using the list comprehension method. In this lesson, we are going to learn how to create NumPy arrays.\n",
        "\n",
        "An array is also a data-structure which contains multiple values. Working with NumPy arrays is much easier than working with Python lists.\n",
        "\n",
        "The term NumPy stands for Numeric (or Numerical) Python. It is one of the most popular modules amongst Statisticians and Data Scientists across the globe to perform heavy mathematical computations. NumPy arrays are also faster than Python lists in terms of code execution time.\n",
        "\n",
        "For all practical purposes, **an array is the same as a list**. Fundamentally, they have been programmed differently by the inventors of Python language. We are **NOT** required to know how they were created. We only need to know how to apply them in different situations.\n"
      ]
    },
    {
      "cell_type": "markdown",
      "metadata": {
        "id": "TD65811mb1s6"
      },
      "source": [
        "---"
      ]
    },
    {
      "cell_type": "markdown",
      "metadata": {
        "id": "8C6arOgwIdZR"
      },
      "source": [
        "#### Activity 1: NumPy Arrays - The `ones()` & `zeros()` Functions\n",
        "\n",
        "To get started with NumPy arrays, let's create an array having each item as `1` with dimensions `5` blocks, `3` rows and `3` columns. \n",
        "\n",
        "To create such an array, you first need to `import` the `numpy` module at the beginning of the code. Then use the `ones()` function from the `numpy` module.\n",
        "\n",
        "The `ones()` function requires two inputs. The first input should be the required dimension of the array and the second input should define the data-type of the items in the required array. \n"
      ]
    },
    {
      "cell_type": "code",
      "metadata": {
        "id": "vlgvfn4lhd2L",
        "colab": {
          "base_uri": "https://localhost:8080/",
          "height": 340
        },
        "outputId": "a9617690-7b6f-4cc9-c948-2f8165cb699d"
      },
      "source": [
        "# Teacher Action: Create an array containing '1' as its items using the 'ones()' function from the 'numpy' module.\n",
        "\n",
        "# Step 1: Always import the 'numpy' module at the beginning of the code and give it an alias (or nickname) called np. \n",
        "# We will always refer to the 'numpy' module as 'np' throughout the code.\n",
        "import numpy as np\n",
        "ones=np.ones((5,3,3),dtype=int)\n",
        "# Step 2: Call 'ones()' function from the np module using the dot operator.\n",
        "# The 'ones()' function, requires two inputs: the dimension of the array and data-type of the items which in this case is 'int'. \n",
        "ones"
      ],
      "execution_count": null,
      "outputs": [
        {
          "output_type": "execute_result",
          "data": {
            "text/plain": [
              "array([[[1, 1, 1],\n",
              "        [1, 1, 1],\n",
              "        [1, 1, 1]],\n",
              "\n",
              "       [[1, 1, 1],\n",
              "        [1, 1, 1],\n",
              "        [1, 1, 1]],\n",
              "\n",
              "       [[1, 1, 1],\n",
              "        [1, 1, 1],\n",
              "        [1, 1, 1]],\n",
              "\n",
              "       [[1, 1, 1],\n",
              "        [1, 1, 1],\n",
              "        [1, 1, 1]],\n",
              "\n",
              "       [[1, 1, 1],\n",
              "        [1, 1, 1],\n",
              "        [1, 1, 1]]])"
            ]
          },
          "metadata": {
            "tags": []
          },
          "execution_count": 2
        }
      ]
    },
    {
      "cell_type": "markdown",
      "metadata": {
        "id": "rCnmusCAc6gI"
      },
      "source": [
        "**Note:** \n",
        "\n",
        "1. Always import the `numpy` module at the beginning of the code with `np` as its alias (or nickname). Throughout the course, we will always refer to the `numpy` module as `np` unless otherwise specified.\n",
        "\n",
        "2. The de facto data-type of an item in a NumPy array is `float`.\n",
        "\n",
        "Using the `type()` function, you can verify whether an array is a NumPy array or not."
      ]
    },
    {
      "cell_type": "code",
      "metadata": {
        "id": "AXL0BiNXc7iK",
        "colab": {
          "base_uri": "https://localhost:8080/",
          "height": 34
        },
        "outputId": "53b0db10-e0d7-4598-b32a-6d74e4f1d2f2"
      },
      "source": [
        "# Teacher Action: Using the 'type()' function, verify whether the 'ones' array is a NumPy array or not.\n",
        "type(ones)"
      ],
      "execution_count": null,
      "outputs": [
        {
          "output_type": "execute_result",
          "data": {
            "text/plain": [
              "numpy.ndarray"
            ]
          },
          "metadata": {
            "tags": []
          },
          "execution_count": 3
        }
      ]
    },
    {
      "cell_type": "markdown",
      "metadata": {
        "id": "wwpuCqm3aIZm"
      },
      "source": [
        "As you can see, the `type()` function has returned `numpy.ndarray` as an output which confirms that the `ones` array is indeed a NumPy array. \n",
        "\n",
        "Similarly, you try to create a NumPy array having each item as `0` with dimensions `4` blocks, `2` rows and `3` columns using the `zeros()` function. Make sure that each item is an integer.\n"
      ]
    },
    {
      "cell_type": "code",
      "metadata": {
        "id": "lD8__Mj7oT6G",
        "colab": {
          "base_uri": "https://localhost:8080/",
          "height": 196
        },
        "outputId": "04d92f4a-6e40-430c-8d70-7c9e67201b83"
      },
      "source": [
        "# Student Action: Using 'zeros()' function, create a NumPy array having 4 blocks, 2 rows and 3 columns. The items should be int data-type.\n",
        "import numpy as np\n",
        "zeros=np.zeros((4,2,3),dtype=int)\n",
        "zeros"
      ],
      "execution_count": null,
      "outputs": [
        {
          "output_type": "execute_result",
          "data": {
            "text/plain": [
              "array([[[0, 0, 0],\n",
              "        [0, 0, 0]],\n",
              "\n",
              "       [[0, 0, 0],\n",
              "        [0, 0, 0]],\n",
              "\n",
              "       [[0, 0, 0],\n",
              "        [0, 0, 0]],\n",
              "\n",
              "       [[0, 0, 0],\n",
              "        [0, 0, 0]]])"
            ]
          },
          "metadata": {
            "tags": []
          },
          "execution_count": 1
        }
      ]
    },
    {
      "cell_type": "markdown",
      "metadata": {
        "id": "rTfcnhivbui_"
      },
      "source": [
        "Recreate the above array without providing the data-type as input. The output should be a three-dimensional array with each item as `0.` which is a floating-point number.\n",
        "\n",
        "Here's the desired output:\n",
        "\n",
        "```\n",
        "array([[[0., 0., 0.],\n",
        "        [0., 0., 0.]],\n",
        "\n",
        "       [[0., 0., 0.],\n",
        "        [0., 0., 0.]],\n",
        "\n",
        "       [[0., 0., 0.],\n",
        "        [0., 0., 0.]],\n",
        "\n",
        "       [[0., 0., 0.],\n",
        "        [0., 0., 0.]]])\n",
        "```"
      ]
    },
    {
      "cell_type": "code",
      "metadata": {
        "id": "iM5JTdq3b8kt",
        "colab": {
          "base_uri": "https://localhost:8080/",
          "height": 196
        },
        "outputId": "78d3e815-22b8-4952-f1e6-a28a5f5997f9"
      },
      "source": [
        "# Student Action: Using 'zeros()' function, create a numpy array having 4 blocks, 2 rows and 3 columns.\n",
        "zero_float=np.zeros((4,2,3))\n",
        "zero_float"
      ],
      "execution_count": null,
      "outputs": [
        {
          "output_type": "execute_result",
          "data": {
            "text/plain": [
              "array([[[0., 0., 0.],\n",
              "        [0., 0., 0.]],\n",
              "\n",
              "       [[0., 0., 0.],\n",
              "        [0., 0., 0.]],\n",
              "\n",
              "       [[0., 0., 0.],\n",
              "        [0., 0., 0.]],\n",
              "\n",
              "       [[0., 0., 0.],\n",
              "        [0., 0., 0.]]])"
            ]
          },
          "metadata": {
            "tags": []
          },
          "execution_count": 2
        }
      ]
    },
    {
      "cell_type": "markdown",
      "metadata": {
        "id": "M5PzhOjLfyCi"
      },
      "source": [
        "As you can see, all the items of the `zero_float` array are of `float` data-type. \n"
      ]
    },
    {
      "cell_type": "markdown",
      "metadata": {
        "id": "5MTE0KcDqqUe"
      },
      "source": [
        "---"
      ]
    },
    {
      "cell_type": "markdown",
      "metadata": {
        "id": "r9A3Qj0cqrCA"
      },
      "source": [
        "#### Activity 2: The `dtype` Keyword\n",
        "\n",
        "To check the data-type of the values stored in a NumPy array, you can use the `dtype` keyword.\n"
      ]
    },
    {
      "cell_type": "code",
      "metadata": {
        "id": "pxd0yIn5eE9J",
        "colab": {
          "base_uri": "https://localhost:8080/",
          "height": 33
        },
        "outputId": "a4a9226b-6f73-4802-da22-c2f025d1bb52"
      },
      "source": [
        "# Student Action: Using the 'dtype' keyword, verify whether the 'zeros_float' array items are floating-point values or not. \n",
        "zero_float.dtype"
      ],
      "execution_count": null,
      "outputs": [
        {
          "output_type": "execute_result",
          "data": {
            "text/plain": [
              "dtype('float64')"
            ]
          },
          "metadata": {
            "tags": []
          },
          "execution_count": 3
        }
      ]
    },
    {
      "cell_type": "markdown",
      "metadata": {
        "id": "zym6XMZugTPY"
      },
      "source": [
        "For the time being ignore the number `64`. As you can see, the `dtype` keyword has returned `dtype('float64')` as an output confirming that all the items of the `zeros_float` array are floating-point values. \n"
      ]
    },
    {
      "cell_type": "code",
      "metadata": {
        "id": "2lFDm3JvgwgN",
        "colab": {
          "base_uri": "https://localhost:8080/",
          "height": 33
        },
        "outputId": "411e5577-fa69-409f-bfc5-9e0c0528c54a"
      },
      "source": [
        "# Student Action: Using the 'dtype' keyword, verify whether the 'ones' array items are int values or not. \n",
        "ones=np.ones((5,3,3),dtype=int)\n",
        "ones.dtype"
      ],
      "execution_count": null,
      "outputs": [
        {
          "output_type": "execute_result",
          "data": {
            "text/plain": [
              "dtype('int64')"
            ]
          },
          "metadata": {
            "tags": []
          },
          "execution_count": 6
        }
      ]
    },
    {
      "cell_type": "markdown",
      "metadata": {
        "id": "YqEeGauMg6Gd"
      },
      "source": [
        "For the time being ignore the number `64`. As you can see, the `dtype` keyword has returned `dtype('int64')` as an output confirming that all the items of the `ones` array are integer values. \n",
        " \n",
        "\n",
        "**Difference Between The `type()` Function & The `dtype` Keyword**\n",
        "\n",
        "The `type()` function is a function of Python. It returns the type of Python object. The data-types or more accurately the **primitive data-types** `int`, `float`, `str` and `bool` are actually Python objects. Similarly, Python lists, NumPy module, `random` modules are also Python objects. The `type()` function will tell you what type of Python objects they are. "
      ]
    },
    {
      "cell_type": "code",
      "metadata": {
        "id": "cA-nCcNS6T9I",
        "colab": {
          "base_uri": "https://localhost:8080/",
          "height": 126
        },
        "outputId": "31a68489-e0ab-4c4b-8b77-757ff6b2e80f"
      },
      "source": [
        "# Student Action: Run the code shown below to see that the 'type()' function returns the type of Python object.\n",
        "#import random\n",
        "#import numpy \n",
        "# 1. The 'int' Python object.\n",
        "print(type(10))\n",
        "# 2. The 'float' Python object.\n",
        "print(type(0.))\n",
        "# 3. The 'str' Python object.\n",
        "print(type(\"python\"))\n",
        "# 4. The 'list' Python object\n",
        "print(type([i for i in range (1,11)])\n",
        "# 5. 'numpy' is a 'module' Python object.\n",
        "#print(type(numpy))\n",
        "# 6. 'random' is a 'module' Python object.\n",
        "#print(type(random))\n"
      ],
      "execution_count": null,
      "outputs": [
        {
          "output_type": "error",
          "ename": "SyntaxError",
          "evalue": "ignored",
          "traceback": [
            "\u001b[0;36m  File \u001b[0;32m\"<ipython-input-1-bcba769a7148>\"\u001b[0;36m, line \u001b[0;32m15\u001b[0m\n\u001b[0;31m    #print(type(random))\u001b[0m\n\u001b[0m                        ^\u001b[0m\n\u001b[0;31mSyntaxError\u001b[0m\u001b[0;31m:\u001b[0m unexpected EOF while parsing\n"
          ]
        }
      ]
    },
    {
      "cell_type": "code",
      "metadata": {
        "id": "nCE2uyIjJu2x",
        "colab": {
          "base_uri": "https://localhost:8080/",
          "height": 119
        },
        "outputId": "ce224f1b-b316-4fe1-8f63-019e81d7e7dd"
      },
      "source": [
        "# Student Action: Run the code shown below to see that the 'type()' function returns the type of Python object.\n",
        "import random\n",
        "import numpy\n",
        "\n",
        "# 1. The 'int' Python object.\n",
        "print(type(10))\n",
        "\n",
        "# 2. The 'float' Python object.\n",
        "print(type(3.14))\n",
        "\n",
        "# 3. The 'str' Python object.\n",
        "print(type('python'))\n",
        "\n",
        "# 4. The 'list' Python object\n",
        "print(type([i for i in range(1, 11)]))\n",
        "\n",
        "# 5. 'numpy' is a 'module' Python object.\n",
        "print(type(numpy))\n",
        "\n",
        "# 6. 'random' is a 'module' Python object.\n",
        "print(type(random))"
      ],
      "execution_count": null,
      "outputs": [
        {
          "output_type": "stream",
          "text": [
            "<class 'int'>\n",
            "<class 'float'>\n",
            "<class 'str'>\n",
            "<class 'list'>\n",
            "<class 'module'>\n",
            "<class 'module'>\n"
          ],
          "name": "stdout"
        }
      ]
    },
    {
      "cell_type": "markdown",
      "metadata": {
        "id": "oJqyhPWq77Uw"
      },
      "source": [
        "In the output, ignore the term `class`. As you can see, the `type()` function indeed returns the type of Python object for an entity in Python."
      ]
    },
    {
      "cell_type": "markdown",
      "metadata": {
        "id": "qikzHXnYobUR"
      },
      "source": [
        "---"
      ]
    },
    {
      "cell_type": "markdown",
      "metadata": {
        "id": "qkZj_ZVTiHz9"
      },
      "source": [
        "#### Activity 3: The `ndim` And `shape` Keywords\n",
        "\n",
        "**The `ndim` Keyword:** Using the `ndim` keyword, you can find out the dimension of a NumPy array. The `ones`, `zeros` and `zeros_float` arrays are three-dimensional arrays. So, the `ndim` keyword should return `3` for each of these arrays."
      ]
    },
    {
      "cell_type": "code",
      "metadata": {
        "id": "aKuQhbixiMVK",
        "colab": {
          "base_uri": "https://localhost:8080/",
          "height": 66
        },
        "outputId": "04514264-73b9-48d9-8df6-2bf40897e7e8"
      },
      "source": [
        "# Student Action: Using the 'ndim' array, find out the dimension of 'ones', 'zeros' and 'zeros_float' NumPy arrays.\n",
        "print(ones.ndim)\n",
        "print(zeros.ndim)\n",
        "print(zero_float.ndim)"
      ],
      "execution_count": null,
      "outputs": [
        {
          "output_type": "stream",
          "text": [
            "3\n",
            "3\n",
            "3\n"
          ],
          "name": "stdout"
        }
      ]
    },
    {
      "cell_type": "markdown",
      "metadata": {
        "id": "tC0fYlbmlRxH"
      },
      "source": [
        "**The `shape` Keyword:** Using the `shape` keyword, you can find out the number of blocks, rows and columns present in NumPy arrays."
      ]
    },
    {
      "cell_type": "code",
      "metadata": {
        "id": "f8jxBActlY0o",
        "colab": {
          "base_uri": "https://localhost:8080/",
          "height": 66
        },
        "outputId": "d6f1a04d-32f5-4b76-f8b4-773991cd2b4a"
      },
      "source": [
        "# Student Action: Using the 'shape' keyword find out the number of blocks, rows and columns in the 'ones', 'zeros' and 'zeros_float' arrays.\n",
        "print(ones.shape)\n",
        "print(zeros.shape)\n",
        "print(zero_float.shape)"
      ],
      "execution_count": null,
      "outputs": [
        {
          "output_type": "stream",
          "text": [
            "(5, 3, 3)\n",
            "(4, 2, 3)\n",
            "(4, 2, 3)\n"
          ],
          "name": "stdout"
        }
      ]
    },
    {
      "cell_type": "markdown",
      "metadata": {
        "id": "Sr-QqVlgmB7G"
      },
      "source": [
        "As you can see:\n",
        "\n",
        "- The `ones` array has 5 blocks, 3 rows and 3 columns.\n",
        "\n",
        "- The `zeros` array has 4 blocks, 2 rows and 3 columns.\n",
        "\n",
        "- The `zeros_ones` array also has 4 blocks, 2 rows and 3 columns."
      ]
    },
    {
      "cell_type": "markdown",
      "metadata": {
        "id": "jW-6nwfUlQi1"
      },
      "source": [
        "---"
      ]
    },
    {
      "cell_type": "markdown",
      "metadata": {
        "id": "83zFWveBmVT4"
      },
      "source": [
        "#### Activity 4: The `arange()` And `linspace()` Functions^^\n",
        "\n",
        "The are `arange()` and `linspace()` functions in NumPy module create an array of numbers such that the difference between a pair of any two consecutive numbers in the array is constant. However, there is a slight difference in their outputs.\n",
        "\n",
        "**The `arange()` Function:** It returns a one-dimensional array containing numbers between two specific numbers. It is similar to the `range()` function in the `for` loop."
      ]
    },
    {
      "cell_type": "code",
      "metadata": {
        "id": "RvOk2XS6mz7g",
        "colab": {
          "base_uri": "https://localhost:8080/",
          "height": 33
        },
        "outputId": "b8ee484a-d17b-4151-d606-21e023f43407"
      },
      "source": [
        "# Student Action: Create a one-dimensional array containing numbers between 5 and 20 using the 'arange()' function in the NumPy module.\n",
        "array1=np.arange(5,21)\n",
        "array1"
      ],
      "execution_count": null,
      "outputs": [
        {
          "output_type": "execute_result",
          "data": {
            "text/plain": [
              "array([ 5,  6,  7,  8,  9, 10, 11, 12, 13, 14, 15, 16, 17, 18, 19, 20])"
            ]
          },
          "metadata": {
            "tags": []
          },
          "execution_count": 16
        }
      ]
    },
    {
      "cell_type": "markdown",
      "metadata": {
        "id": "17OYVXuAm2Jl"
      },
      "source": [
        "Here, the `arange()` function has created an array of numbers from `5` to `20`. The difference between a pair of any two consecutive numbers is `1`. The `arange()` function will not include the last number specified in the array created.\n",
        "\n",
        "If you want the difference between two consecutive numbers to be greater than `1` (say `4`) in an array, then you can specify the difference as an additional input to the `arange()` function."
      ]
    },
    {
      "cell_type": "code",
      "metadata": {
        "id": "MlDrsatOm4uU",
        "colab": {
          "base_uri": "https://localhost:8080/",
          "height": 33
        },
        "outputId": "bfbd4984-d62c-4bde-bbe7-28cb635ac828"
      },
      "source": [
        "# Student Action: Create an array of numbers from 1 to 24 such that the difference between two consecutive numbers is 4.\n",
        "array2=np.arange(1,25,4)\n",
        "array2"
      ],
      "execution_count": null,
      "outputs": [
        {
          "output_type": "execute_result",
          "data": {
            "text/plain": [
              "array([ 1,  5,  9, 13, 17, 21])"
            ]
          },
          "metadata": {
            "tags": []
          },
          "execution_count": 18
        }
      ]
    },
    {
      "cell_type": "markdown",
      "metadata": {
        "id": "5_r2bBl4m7cm"
      },
      "source": [
        "As you can see, the `arange()` function has created an array of numbers from `1` to `24` such that the difference between two consecutive numbers is `4`. \n",
        "\n",
        "**Note:** If the difference between two consecutive numbers is not specified, then the `arange()` function will assume that the difference is `1`.\n",
        "\n",
        "You can also create an array containing the floating-point numbers using the `arange()` function by providing `dtype=float` as an additional input to the function."
      ]
    },
    {
      "cell_type": "code",
      "metadata": {
        "id": "G3TJYq0dm9qU",
        "colab": {
          "base_uri": "https://localhost:8080/",
          "height": 33
        },
        "outputId": "ed78a4cf-17ac-413d-e9cf-86012232ddd6"
      },
      "source": [
        "# Student Action: Create an array of numbers from 1 to 24 such that the difference between two consecutive numbers is 4 and each item is a float.\n",
        "array3=np.arange(1,25,4,dtype=float)\n",
        "array3"
      ],
      "execution_count": null,
      "outputs": [
        {
          "output_type": "execute_result",
          "data": {
            "text/plain": [
              "array([ 1.,  5.,  9., 13., 17., 21.])"
            ]
          },
          "metadata": {
            "tags": []
          },
          "execution_count": 19
        }
      ]
    },
    {
      "cell_type": "markdown",
      "metadata": {
        "id": "UnR5FyRpnAWy"
      },
      "source": [
        "As you can see, the items contained in `array3` are floating-point numbers.\n",
        "\n",
        "**The `linspace()` Function:** This function creates an array containing a fixed number of numbers between two specific numbers such that the difference between any two consecutive numbers in the array is constant. This will be clear to you with an example.\n",
        "\n",
        "Suppose you want to create an array containing exactly `4` numbers between the numbers `1` and `25` such that all the difference between any two consecutive numbers is constant, then you can use the `linspace()` function."
      ]
    },
    {
      "cell_type": "code",
      "metadata": {
        "id": "SCdhTcEinE9y",
        "colab": {
          "base_uri": "https://localhost:8080/",
          "height": 33
        },
        "outputId": "1de36375-696d-47e3-b122-2db0703c4327"
      },
      "source": [
        "# Student Action: Create an array containing 4 numbers between 1 to 25.\n",
        "array4=np.linspace(1,25,4)\n",
        "array4"
      ],
      "execution_count": null,
      "outputs": [
        {
          "output_type": "execute_result",
          "data": {
            "text/plain": [
              "array([ 1.,  9., 17., 25.])"
            ]
          },
          "metadata": {
            "tags": []
          },
          "execution_count": 21
        }
      ]
    },
    {
      "cell_type": "markdown",
      "metadata": {
        "id": "aNIZgk9NnF1G"
      },
      "source": [
        "As you can see, the `linspace()` function has created an array containing `4` numbers between `1` and `25` (including `25`) such that the difference between two consecutive numbers is constant. Take a pair of any two consecutive numbers in `array5`, the difference between them will be `8.`\n",
        "\n",
        "Notice the difference between the outputs of the `arange()` and `linspace()` functions for exactly the same inputs. The `arange()` function returns `6` numbers such that the difference between them is exactly `4` whereas the `linspace()` function returns exactly `4` numbers such that the difference between two consecutive numbers is constant. \n",
        "\n",
        "In other words:\n",
        "\n",
        "- In the `arange()` function, you specify the value of the difference between two consecutive numbers as the third input.\n",
        "\n",
        "- Whereas, in the `linspace()` function, you specify the length of the array to be created as the third input.\n",
        "\n",
        "Let's create another array using the `linspace()` function to get a better understanding. Let's create an array containing `10` numbers between `1` and `25` such that the difference between two consecutive numbers is constant. \n"
      ]
    },
    {
      "cell_type": "code",
      "metadata": {
        "id": "Yma1-oPkFXuU",
        "colab": {
          "base_uri": "https://localhost:8080/",
          "height": 50
        },
        "outputId": "34ac436c-19b2-4a81-8f00-2afdf2828b32"
      },
      "source": [
        "# Student Action: Create an array containing 10 numbers between 1 and 25 such that the difference between two consecutive numbers is constant.\n",
        "array5=np.linspace(1,25,10)\n",
        "array5"
      ],
      "execution_count": null,
      "outputs": [
        {
          "output_type": "execute_result",
          "data": {
            "text/plain": [
              "array([ 1.        ,  3.66666667,  6.33333333,  9.        , 11.66666667,\n",
              "       14.33333333, 17.        , 19.66666667, 22.33333333, 25.        ])"
            ]
          },
          "metadata": {
            "tags": []
          },
          "execution_count": 22
        }
      ]
    },
    {
      "cell_type": "markdown",
      "metadata": {
        "id": "LjM6JCndGMR9"
      },
      "source": [
        "Take a pair of any two consecutive numbers in the `array5`, the difference between them will be `2.66666666`"
      ]
    },
    {
      "cell_type": "markdown",
      "metadata": {
        "id": "KQ0PGPSitkjx"
      },
      "source": [
        "---"
      ]
    },
    {
      "cell_type": "markdown",
      "metadata": {
        "id": "i5XfedwAtmQn"
      },
      "source": [
        "#### Activity 5: The `reshape()` Function\n",
        "\n",
        "\n",
        "The `reshape()` function reshapes an array from one configuration to another without changing the items.\n",
        "\n",
        "The `zeros` array has 4 blocks, 2 rows and 3 columns. Suppose you want to reshape it into another array having `6` rows and `4` columns without changing the items, then you can use the `reshape()` function."
      ]
    },
    {
      "cell_type": "code",
      "metadata": {
        "id": "TVSPwGGJuZUb",
        "colab": {
          "base_uri": "https://localhost:8080/",
          "height": 223
        },
        "outputId": "a695d2fd-111d-48e2-ddf3-75dbdd1d20c5"
      },
      "source": [
        "# Student Action: Reshape the 'zeros' array so that it has 6 rows and 4 columns.\n",
        "# Before reshaping\n",
        "print(zeros)\n",
        "# After reshaping\n",
        "print(reshaped_zeros=zeros.reshape(6,4))"
      ],
      "execution_count": null,
      "outputs": [
        {
          "output_type": "error",
          "ename": "NameError",
          "evalue": "ignored",
          "traceback": [
            "\u001b[0;31m---------------------------------------------------------------------------\u001b[0m",
            "\u001b[0;31mNameError\u001b[0m                                 Traceback (most recent call last)",
            "\u001b[0;32m<ipython-input-4-6835141101b9>\u001b[0m in \u001b[0;36m<module>\u001b[0;34m()\u001b[0m\n\u001b[1;32m      1\u001b[0m \u001b[0;31m# Student Action: Reshape the 'zeros' array so that it has 6 rows and 4 columns.\u001b[0m\u001b[0;34m\u001b[0m\u001b[0;34m\u001b[0m\u001b[0;34m\u001b[0m\u001b[0m\n\u001b[1;32m      2\u001b[0m \u001b[0;31m# Before reshaping\u001b[0m\u001b[0;34m\u001b[0m\u001b[0;34m\u001b[0m\u001b[0;34m\u001b[0m\u001b[0m\n\u001b[0;32m----> 3\u001b[0;31m \u001b[0mprint\u001b[0m\u001b[0;34m(\u001b[0m\u001b[0mzeros\u001b[0m\u001b[0;34m)\u001b[0m\u001b[0;34m\u001b[0m\u001b[0;34m\u001b[0m\u001b[0m\n\u001b[0m\u001b[1;32m      4\u001b[0m \u001b[0;31m# After reshaping\u001b[0m\u001b[0;34m\u001b[0m\u001b[0;34m\u001b[0m\u001b[0;34m\u001b[0m\u001b[0m\n\u001b[1;32m      5\u001b[0m \u001b[0mprint\u001b[0m\u001b[0;34m(\u001b[0m\u001b[0mreshaped_zeros\u001b[0m\u001b[0;34m=\u001b[0m\u001b[0mzeros\u001b[0m\u001b[0;34m.\u001b[0m\u001b[0mreshape\u001b[0m\u001b[0;34m(\u001b[0m\u001b[0;36m6\u001b[0m\u001b[0;34m,\u001b[0m\u001b[0;36m4\u001b[0m\u001b[0;34m)\u001b[0m\u001b[0;34m)\u001b[0m\u001b[0;34m\u001b[0m\u001b[0;34m\u001b[0m\u001b[0m\n",
            "\u001b[0;31mNameError\u001b[0m: name 'zeros' is not defined"
          ]
        }
      ]
    },
    {
      "cell_type": "markdown",
      "metadata": {
        "id": "UR-_4ugcudOM"
      },
      "source": [
        "The `reshape()` function has reshaped the `zeros` array to a two-dimensional array having 6 rows and 4 columns. Inside the `reshape()` function, you have to provide the new configuration. \n",
        "\n",
        "This operation is only valid when the number of items in the new configuration is exactly the same as the number of items in the original configuration. \n",
        "\n",
        "In this case, there are 24 items (4 blocks $\\times$ 2 rows $\\times$ $3$ columns = 24 items) in the original configuration. So the new configuration must also have 24 items.\n",
        "\n",
        "You can also convert a multi-dimensional array into a one-dimensional array using the `reshape()` function. Let's convert `ones` into a one-dimensional array using the `reshape()` function. It has 45 items. The reshaped array must also contain 45 items."
      ]
    },
    {
      "cell_type": "code",
      "metadata": {
        "id": "pruLdnwvulL3"
      },
      "source": [
        "# Student Action: Reshape the 'ones' array so that it has just 1 row.\n"
      ],
      "execution_count": null,
      "outputs": []
    },
    {
      "cell_type": "markdown",
      "metadata": {
        "id": "sihbD2dEumGE"
      },
      "source": [
        "As you can see, the three-dimensional array is converted into a one-dimensional array using the `reshape()` function."
      ]
    },
    {
      "cell_type": "markdown",
      "metadata": {
        "id": "PABm6WB9mUbu"
      },
      "source": [
        "---"
      ]
    },
    {
      "cell_type": "markdown",
      "metadata": {
        "id": "BzGc9n870SGw"
      },
      "source": [
        "#### Activity 6: The `ndarray()` Function\n",
        "In general, we can create a NumPy array containing some random values using `ndarray()` function.\n",
        "\n",
        "Let's say we want to create a NumPy array having some random integer values which have 5 rows and 2 columns, then you can use the `ndarray()` function.\n",
        "\n",
        "Similar to the `zeros()` and `ones()` functions, the `ndarray()` function takes two inputs: the first input is the configuration of the required array and the second input is the data-type of items. The de facto data-type is a floating-point value."
      ]
    },
    {
      "cell_type": "code",
      "metadata": {
        "id": "col1d2ca0H9D"
      },
      "source": [
        "# Student Action: Create a 'numpy' array using 'ndarray()' function having 5 rows and 2 columns.\n"
      ],
      "execution_count": null,
      "outputs": []
    },
    {
      "cell_type": "markdown",
      "metadata": {
        "id": "7kDnzej73oIB"
      },
      "source": [
        "---"
      ]
    },
    {
      "cell_type": "markdown",
      "metadata": {
        "id": "bNXJRQFk3vyp"
      },
      "source": [
        "#### Activity 7: The `random.randint()` Function\n",
        "\n",
        "The NumPy module also has its `random.randint()` function. It takes two inputs. The first input is the range of two integers between which a random number is to be created. The second input is the `size` parameter which defines the number of random integers to be created.\n",
        "\n",
        "**Syntax:** `np.random.randint(num1, num2, size=N)`\n",
        " \n",
        " where `num1` and `num2` are starting numbers and `N` is the number of items to be contained in the array."
      ]
    },
    {
      "cell_type": "code",
      "metadata": {
        "id": "EjiLbM0y31Gi",
        "colab": {
          "base_uri": "https://localhost:8080/",
          "height": 34
        },
        "outputId": "1ee4a7d1-a5f2-4b53-bc28-24ddb09197e0"
      },
      "source": [
        "# Student Action: Create a one-dimensional NumPy array containing 15 random integers between 50 and 100.\n",
        "rand_1d_array = np.random.randint(50, 100, size=15)\n",
        "rand_1d_array"
      ],
      "execution_count": null,
      "outputs": [
        {
          "output_type": "execute_result",
          "data": {
            "text/plain": [
              "array([80, 54, 90, 98, 77, 71, 88, 80, 78, 50, 98, 60, 64, 70, 95])"
            ]
          },
          "metadata": {
            "tags": []
          },
          "execution_count": 14
        }
      ]
    },
    {
      "cell_type": "markdown",
      "metadata": {
        "id": "GUc7b6_L36CD"
      },
      "source": [
        "Similarly, you can create a multi-dimensional NumPy array containing random integers by specifying the dimensions of the array to be created in the `size` parameter."
      ]
    },
    {
      "cell_type": "code",
      "metadata": {
        "id": "wjVrnDj334Ww",
        "colab": {
          "base_uri": "https://localhost:8080/",
          "height": 102
        },
        "outputId": "7993f9cc-450e-4e82-f7e5-46e109d9544e"
      },
      "source": [
        "# Student Action: Create a two-dimensional NumPy array containing 15 random integers between 50 and 100.\n",
        "rand_2d_array = np.random.randint(50, 100, size=(5, 3))\n",
        "rand_2d_array"
      ],
      "execution_count": null,
      "outputs": [
        {
          "output_type": "execute_result",
          "data": {
            "text/plain": [
              "array([[52, 67, 98],\n",
              "       [78, 60, 88],\n",
              "       [91, 64, 98],\n",
              "       [75, 67, 90],\n",
              "       [57, 95, 83]])"
            ]
          },
          "metadata": {
            "tags": []
          },
          "execution_count": 15
        }
      ]
    },
    {
      "cell_type": "code",
      "metadata": {
        "id": "1wjZETPp39rR",
        "colab": {
          "base_uri": "https://localhost:8080/",
          "height": 196
        },
        "outputId": "66569562-a766-4d33-8a69-8003340cc6f7"
      },
      "source": [
        "# Student Action: Create a three-dimensional NumPy array containing 40 random integers between 50 and 100.\n",
        "rand_3d_array = np.random.randint(50, 100, size=(4,2,5))\n",
        "rand_3d_array"
      ],
      "execution_count": null,
      "outputs": [
        {
          "output_type": "execute_result",
          "data": {
            "text/plain": [
              "array([[[99, 73, 94, 60, 66],\n",
              "        [97, 66, 96, 55, 61]],\n",
              "\n",
              "       [[59, 52, 85, 78, 61],\n",
              "        [93, 86, 91, 58, 50]],\n",
              "\n",
              "       [[71, 50, 83, 80, 80],\n",
              "        [74, 62, 58, 59, 51]],\n",
              "\n",
              "       [[60, 74, 92, 76, 78],\n",
              "        [79, 88, 85, 64, 67]]])"
            ]
          },
          "metadata": {
            "tags": []
          },
          "execution_count": 34
        }
      ]
    },
    {
      "cell_type": "markdown",
      "metadata": {
        "id": "EbGXKH-c3uJh"
      },
      "source": [
        "---"
      ]
    },
    {
      "cell_type": "markdown",
      "metadata": {
        "id": "V_OCAj0f3paN"
      },
      "source": [
        "#### Activity 8: The `array()` Function^\n",
        "\n",
        "We can convert a Python list into a NumPy array. To do this, use the `array()` function which takes a Python list as an input.\n",
        "\n",
        "Let's first create a list of natural numbers from `1` to `15` using the list comprehension method. Then convert the list into a NumPy array using the `array()` function."
      ]
    },
    {
      "cell_type": "code",
      "metadata": {
        "id": "ekUreHwA4AuX",
        "colab": {
          "base_uri": "https://localhost:8080/",
          "height": 33
        },
        "outputId": "d398d7fa-a583-4397-c29e-840cd243e459"
      },
      "source": [
        "# Student Action: Convert a Python list into a NumPy array using the 'array()' function.\n",
        "arr=np.array([i for i in range(1,16)])\n",
        "arr"
      ],
      "execution_count": null,
      "outputs": [
        {
          "output_type": "execute_result",
          "data": {
            "text/plain": [
              "array([ 1,  2,  3,  4,  5,  6,  7,  8,  9, 10, 11, 12, 13, 14, 15])"
            ]
          },
          "metadata": {
            "tags": []
          },
          "execution_count": 36
        }
      ]
    },
    {
      "cell_type": "markdown",
      "metadata": {
        "id": "EqudPIx11ZHd"
      },
      "source": [
        "To check whether a Python list is converted into a NumPy array or not, you can use the `type()` function."
      ]
    },
    {
      "cell_type": "code",
      "metadata": {
        "id": "VOEbjYwC1nF7",
        "colab": {
          "base_uri": "https://localhost:8080/",
          "height": 33
        },
        "outputId": "2c164420-1f80-4a5a-a241-9d63886e1d6c"
      },
      "source": [
        "# Student Action: Verify whether the 'arr' array is a NumPy array or a Python list.\n",
        "type(arr)"
      ],
      "execution_count": null,
      "outputs": [
        {
          "output_type": "execute_result",
          "data": {
            "text/plain": [
              "numpy.ndarray"
            ]
          },
          "metadata": {
            "tags": []
          },
          "execution_count": 37
        }
      ]
    },
    {
      "cell_type": "markdown",
      "metadata": {
        "id": "2doxkX1qyC9S"
      },
      "source": [
        "---"
      ]
    },
    {
      "cell_type": "markdown",
      "metadata": {
        "id": "yDM2ZGP6J00k"
      },
      "source": [
        "#### Activity 9: The `list()` Function\n",
        "\n",
        "We can convert a NumPy array into a Python list using the `list()` function.\n",
        "\n",
        "Let's convert the `arr` NumPy array into a Python list using the `list()` function."
      ]
    },
    {
      "cell_type": "code",
      "metadata": {
        "id": "SkKJekR5KOad"
      },
      "source": [
        "# Student Action: Convert a NumPy array into a Python list using the 'list()' function.\n",
        "arr_converted=list(arr)"
      ],
      "execution_count": null,
      "outputs": []
    },
    {
      "cell_type": "markdown",
      "metadata": {
        "id": "PNrK6z-HKcgr"
      },
      "source": [
        "Let's verify whether the conversion happened or not using the `type()` function."
      ]
    },
    {
      "cell_type": "code",
      "metadata": {
        "id": "us1-glqEKZ_m",
        "colab": {
          "base_uri": "https://localhost:8080/",
          "height": 33
        },
        "outputId": "8d9e27da-1dda-4b95-f9de-29cf1988e5fa"
      },
      "source": [
        "# Student Action: Verify whether the 'arr_converted' list is Python list or not.\n",
        "type(arr_converted)\n",
        "type(arr)"
      ],
      "execution_count": null,
      "outputs": [
        {
          "output_type": "execute_result",
          "data": {
            "text/plain": [
              "numpy.ndarray"
            ]
          },
          "metadata": {
            "tags": []
          },
          "execution_count": 40
        }
      ]
    },
    {
      "cell_type": "markdown",
      "metadata": {
        "id": "4R2D_nX5Kzg5"
      },
      "source": [
        "As you can see, the output is `list`. Hence, we successfully converted the NumPy array to a Python list using the `list()` function."
      ]
    },
    {
      "cell_type": "markdown",
      "metadata": {
        "id": "DpXlygkgK_jk"
      },
      "source": [
        "---"
      ]
    },
    {
      "cell_type": "markdown",
      "metadata": {
        "id": "U7tHZclh4LUw"
      },
      "source": [
        "#### Activity 10: The `sqrt()` Function^^^\n",
        "\n",
        "One of the most notorious concepts in maths is Heron's formula. It calculates the area of a triangle having sides $a, b \\space \\text{and} \\space c$.\n",
        "\n",
        "<img src='https://drive.google.com/uc?id=18SFm-ovV_QnKufMNNaXB6aWhIhT1cVki' width=500>\n",
        "\n",
        "According to the Heron's formula, the area of a triangle is given by\n",
        "\n",
        "$$\\text{Area} = \\sqrt{s(s-a)(s-b)(s-c)}$$\n",
        "\n",
        "where \n",
        "\n",
        "$$s = \\frac{a + b + c}{2}$$\n",
        "\n",
        "i.e., the semi-perimeter of a triangle.\n",
        "\n",
        "Let's create a function which takes the lengths of the sides of a triangle and checks whether the lengths indeed represent the lengths of the sides of a triangle.\n",
        "\n",
        "*The sum of lengths of any two sides of a triangle is always greater than the length of the third side.*\n",
        "\n",
        "If the lengths meet the criteria for being the lengths of the sides of a triangle, then the function should return `True`. Else it should return `False`."
      ]
    },
    {
      "cell_type": "code",
      "metadata": {
        "id": "VbWasWSo4PSX",
        "colab": {
          "base_uri": "https://localhost:8080/",
          "height": 34
        },
        "outputId": "d87abbfe-5074-410b-bcec-f5d21a9ee02e"
      },
      "source": [
        "# Student Action: Create a function to check whether the input lenghts represent the lengths of the side of a triangle.\n",
        "def is_triangle(a,b,c):\n",
        "  if((a+b)>c) and ((a+c)>b) and ((b+c)>a):\n",
        "    return True\n",
        "  else:\n",
        "    return False\n",
        "is_triangle(5,6,7)\n"
      ],
      "execution_count": null,
      "outputs": [
        {
          "output_type": "execute_result",
          "data": {
            "text/plain": [
              "True"
            ]
          },
          "metadata": {
            "tags": []
          },
          "execution_count": 20
        }
      ]
    },
    {
      "cell_type": "markdown",
      "metadata": {
        "id": "pCKSQtZd4TkQ"
      },
      "source": [
        "Now, let's create a function to calculate the area of a triangle using the Heron's formula. The function must include the `is_triangle()` function and `np.sqrt()` functions. If the invalid side lengths are passed as input to the function, then it should return `Invalid triangle.` message else it should return the area of a triangle.\n"
      ]
    },
    {
      "cell_type": "code",
      "metadata": {
        "id": "l0t6-17T4S0o",
        "colab": {
          "base_uri": "https://localhost:8080/",
          "height": 51
        },
        "outputId": "9acdb0ce-97a0-4d2d-aee5-26b044efc6da"
      },
      "source": [
        "# Student Action: Create a function to calculate the area of a triangle using the Heron's formula.\n",
        "def heron_formula(a,b,c):\n",
        "  if is_triangle(a,b,c)==True:\n",
        "    s=(a+b+c)/2\n",
        "    return np.sqrt(s*(s-a)*(s-b)*(s-c))\n",
        "  else:\n",
        "    return \"Invalid Triangle\"\n",
        "print(heron_formula(5,1,7))\n",
        "heron_formula(5,6,7)"
      ],
      "execution_count": null,
      "outputs": [
        {
          "output_type": "stream",
          "text": [
            "Invalid Triangle\n"
          ],
          "name": "stdout"
        },
        {
          "output_type": "execute_result",
          "data": {
            "text/plain": [
              "14.696938456699069"
            ]
          },
          "metadata": {
            "tags": []
          },
          "execution_count": 21
        }
      ]
    },
    {
      "cell_type": "markdown",
      "metadata": {
        "id": "7wDOoDr64ZiK"
      },
      "source": [
        "Alternatively, you can raise a number to the power `0.5` to calculate the square root of a number, but it will return a complex number as an output for a negative number. On the other hand, the `np.sqrt()` function returns `nan` for negative numbers. It stands for **not a number** and denotes a NumPy null value."
      ]
    },
    {
      "cell_type": "markdown",
      "metadata": {
        "id": "zcUrKyhA4KDd"
      },
      "source": [
        "---"
      ]
    }
  ]
}