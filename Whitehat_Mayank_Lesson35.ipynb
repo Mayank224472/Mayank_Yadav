{
  "nbformat": 4,
  "nbformat_minor": 0,
  "metadata": {
    "colab": {
      "name": "2021-6-3- Mayank- Lesson 35 ",
      "provenance": [],
      "collapsed_sections": [],
      "include_colab_link": true
    },
    "kernelspec": {
      "name": "python3",
      "display_name": "Python 3"
    }
  },
  "cells": [
    {
      "cell_type": "markdown",
      "metadata": {
        "id": "view-in-github",
        "colab_type": "text"
      },
      "source": [
        "<a href=\"https://colab.research.google.com/github/Mayank224472/Mayank_Yadav/blob/WhiteHat_Mayank_Applied_Tech/Whitehat_Mayank_Lesson35.ipynb\" target=\"_parent\"><img src=\"https://colab.research.google.com/assets/colab-badge.svg\" alt=\"Open In Colab\"/></a>"
      ]
    },
    {
      "cell_type": "markdown",
      "metadata": {
        "id": "ZmBmKJ7A93-o"
      },
      "source": [
        "# Lesson 35: String Operations I"
      ]
    },
    {
      "cell_type": "markdown",
      "metadata": {
        "id": "I0cTgOwYT8s0"
      },
      "source": [
        "### Teacher-Student Activities\n",
        "\n",
        "So far, we have been calling string a data-type. But technically, in Python, a string is another data structure just like a list, a tuple and a dictionary. Therefore, it means a string also stores data. Essentially, a string is an array containing some items. Any character (whether a letter, a number or a special symbol like space, brackets etc.) enclosed within double quotes (`\"\"`) or single quotes (`''`) is considered as a string. \n",
        "\n",
        "Since a string is a data structure, the following operations/functions applicable for lists and tuples are also applicable for strings:\n",
        "\n",
        "1. String Length\n",
        "\n",
        "2. String Indexing\n",
        "\n",
        "3. String Slicing\n",
        "\n",
        "4. Index Of An Item\n",
        "\n",
        "5. String Concatenation\n",
        "\n",
        "6. The `enumerate()` Function\n",
        "\n",
        "7. The `count()` Function\n",
        "\n",
        "Let's first quickly apply the above operations/functions on strings and then learn some new concepts about them."
      ]
    },
    {
      "cell_type": "markdown",
      "metadata": {
        "id": "AxTo4CQPDPZb"
      },
      "source": [
        "---"
      ]
    },
    {
      "cell_type": "markdown",
      "metadata": {
        "id": "g5D1KJm0C5PH"
      },
      "source": [
        "#### Activity 1: Common Data Structure Operations on Strings\n",
        "\n",
        "Here are the common operations or functions that can be applied to a data structure in Python.\n",
        "\n",
        "**1. String Length:** The number of items (or characters) contained in a string."
      ]
    },
    {
      "cell_type": "code",
      "metadata": {
        "id": "uU_TcNO7TxQy",
        "colab": {
          "base_uri": "https://localhost:8080/"
        },
        "outputId": "7c56f789-4f2f-46c1-a697-4a4750d81de3"
      },
      "source": [
        "# Student Action: Create an alphanumeric string, preferably a short sentence. Also, find its length.\n",
        "some_string=\"On 28-04-2020, US$ 1 is equivalent to INR 75.84\"\n",
        "len(some_string)"
      ],
      "execution_count": null,
      "outputs": [
        {
          "output_type": "execute_result",
          "data": {
            "text/plain": [
              "47"
            ]
          },
          "metadata": {
            "tags": []
          },
          "execution_count": 2
        }
      ]
    },
    {
      "cell_type": "markdown",
      "metadata": {
        "id": "u8WU1MYlFMZ9"
      },
      "source": [
        "**2. Indexing**: The positions occupied by the items or characters in a string.\n"
      ]
    },
    {
      "cell_type": "code",
      "metadata": {
        "id": "uYRMrXEaXe51",
        "colab": {
          "base_uri": "https://localhost:8080/"
        },
        "outputId": "05488092-59ce-4ac0-e992-194d5583ef76"
      },
      "source": [
        "# Student Action: Print every item (or character) of the above string using a loop and the indexing method. Also, print the indices.\n",
        "for i in range(0,len(some_string)):\n",
        "  print(i,some_string[i])"
      ],
      "execution_count": null,
      "outputs": [
        {
          "output_type": "stream",
          "text": [
            "0 O\n",
            "1 n\n",
            "2  \n",
            "3 2\n",
            "4 8\n",
            "5 -\n",
            "6 0\n",
            "7 4\n",
            "8 -\n",
            "9 2\n",
            "10 0\n",
            "11 2\n",
            "12 0\n",
            "13 ,\n",
            "14  \n",
            "15 U\n",
            "16 S\n",
            "17 $\n",
            "18  \n",
            "19 1\n",
            "20  \n",
            "21 i\n",
            "22 s\n",
            "23  \n",
            "24 e\n",
            "25 q\n",
            "26 u\n",
            "27 i\n",
            "28 v\n",
            "29 a\n",
            "30 l\n",
            "31 e\n",
            "32 n\n",
            "33 t\n",
            "34  \n",
            "35 t\n",
            "36 o\n",
            "37  \n",
            "38 I\n",
            "39 N\n",
            "40 R\n",
            "41  \n",
            "42 7\n",
            "43 5\n",
            "44 .\n",
            "45 8\n",
            "46 4\n"
          ],
          "name": "stdout"
        }
      ]
    },
    {
      "cell_type": "markdown",
      "metadata": {
        "id": "DQVtMw0aGFiD"
      },
      "source": [
        "**Note:** Even the spaces occupy an index because they are also a part of the string."
      ]
    },
    {
      "cell_type": "code",
      "metadata": {
        "id": "nxAGqzUTGRGu",
        "colab": {
          "base_uri": "https://localhost:8080/"
        },
        "outputId": "72318922-c394-441c-e00c-d624218db32a"
      },
      "source": [
        "# Student Action: Print the items of the above string in the reverse order without using negative indexing. Also, print the indices.\n",
        "for i in range(1,len(some_string)+1):\n",
        "  print(len(some_string)-i,some_string[-i])"
      ],
      "execution_count": null,
      "outputs": [
        {
          "output_type": "stream",
          "text": [
            "46 4\n",
            "45 8\n",
            "44 .\n",
            "43 5\n",
            "42 7\n",
            "41  \n",
            "40 R\n",
            "39 N\n",
            "38 I\n",
            "37  \n",
            "36 o\n",
            "35 t\n",
            "34  \n",
            "33 t\n",
            "32 n\n",
            "31 e\n",
            "30 l\n",
            "29 a\n",
            "28 v\n",
            "27 i\n",
            "26 u\n",
            "25 q\n",
            "24 e\n",
            "23  \n",
            "22 s\n",
            "21 i\n",
            "20  \n",
            "19 1\n",
            "18  \n",
            "17 $\n",
            "16 S\n",
            "15 U\n",
            "14  \n",
            "13 ,\n",
            "12 0\n",
            "11 2\n",
            "10 0\n",
            "9 2\n",
            "8 -\n",
            "7 4\n",
            "6 0\n",
            "5 -\n",
            "4 8\n",
            "3 2\n",
            "2  \n",
            "1 n\n",
            "0 O\n"
          ],
          "name": "stdout"
        }
      ]
    },
    {
      "cell_type": "code",
      "metadata": {
        "id": "yNQHfLnZHmX_"
      },
      "source": [
        "# Student Action: Print the items of the above string using negative indexing. Also, print the indices.\n"
      ],
      "execution_count": null,
      "outputs": []
    },
    {
      "cell_type": "markdown",
      "metadata": {
        "id": "FJnZY6yTIh2e"
      },
      "source": [
        "**3. String Slicing:** A small part of string sliced out from the original string."
      ]
    },
    {
      "cell_type": "code",
      "metadata": {
        "id": "_u4_5mr_IeLf",
        "colab": {
          "base_uri": "https://localhost:8080/",
          "height": 35
        },
        "outputId": "9dd22a92-b6a8-4d52-8637-42edaf5b7c2d"
      },
      "source": [
        "# Student Action: Get the first 5 characters (or items) of the above string.\n",
        "some_string[24:34]\n",
        "some_string[:6]"
      ],
      "execution_count": null,
      "outputs": [
        {
          "output_type": "execute_result",
          "data": {
            "application/vnd.google.colaboratory.intrinsic+json": {
              "type": "string"
            },
            "text/plain": [
              "'On 28-'"
            ]
          },
          "metadata": {
            "tags": []
          },
          "execution_count": 15
        }
      ]
    },
    {
      "cell_type": "code",
      "metadata": {
        "id": "CXiH4PSFIzzE",
        "colab": {
          "base_uri": "https://localhost:8080/",
          "height": 35
        },
        "outputId": "f16cfa35-117b-4ecb-e83a-8e29d85d558f"
      },
      "source": [
        "# Student Action: Get the first 5 characters (or items) of the above string in the reverse order.\n",
        "some_string[4: :-1]"
      ],
      "execution_count": null,
      "outputs": [
        {
          "output_type": "execute_result",
          "data": {
            "application/vnd.google.colaboratory.intrinsic+json": {
              "type": "string"
            },
            "text/plain": [
              "'82 nO'"
            ]
          },
          "metadata": {
            "tags": []
          },
          "execution_count": 16
        }
      ]
    },
    {
      "cell_type": "code",
      "metadata": {
        "id": "NUIt-yWBJhjT",
        "colab": {
          "base_uri": "https://localhost:8080/",
          "height": 35
        },
        "outputId": "6614be3f-27e8-4aad-f383-ef01e3a14e04"
      },
      "source": [
        "# Student Action: Get all the characters (or items) of the above string in the reverse order.\n",
        "some_string[::-1]"
      ],
      "execution_count": null,
      "outputs": [
        {
          "output_type": "execute_result",
          "data": {
            "application/vnd.google.colaboratory.intrinsic+json": {
              "type": "string"
            },
            "text/plain": [
              "'48.57 RNI ot tnelaviuqe si 1 $SU ,0202-40-82 nO'"
            ]
          },
          "metadata": {
            "tags": []
          },
          "execution_count": 17
        }
      ]
    },
    {
      "cell_type": "markdown",
      "metadata": {
        "id": "awt5qmUzKBNP"
      },
      "source": [
        "You cannot change/replace the items of a string using the index method. For that, we have to use the `replace()` function which we will learn shortly."
      ]
    },
    {
      "cell_type": "code",
      "metadata": {
        "id": "3-nJOCEmK5W9",
        "colab": {
          "base_uri": "https://localhost:8080/",
          "height": 185
        },
        "outputId": "c651b986-a4e7-4e6b-9281-2ac4310d1898"
      },
      "source": [
        "# Student Action: Try to replace the item at index = 3 with 'W'. You should get 'TypeError' because 'str' object does not support item assignment.\n",
        "some_string[3]='w'"
      ],
      "execution_count": null,
      "outputs": [
        {
          "output_type": "error",
          "ename": "TypeError",
          "evalue": "ignored",
          "traceback": [
            "\u001b[0;31m---------------------------------------------------------------------------\u001b[0m",
            "\u001b[0;31mTypeError\u001b[0m                                 Traceback (most recent call last)",
            "\u001b[0;32m<ipython-input-19-6f376c10be86>\u001b[0m in \u001b[0;36m<module>\u001b[0;34m()\u001b[0m\n\u001b[1;32m      1\u001b[0m \u001b[0;31m# Student Action: Try to replace the item at index = 3 with 'W'. You should get 'TypeError' because 'str' object does not support item assignment.\u001b[0m\u001b[0;34m\u001b[0m\u001b[0;34m\u001b[0m\u001b[0;34m\u001b[0m\u001b[0m\n\u001b[0;32m----> 2\u001b[0;31m \u001b[0msome_string\u001b[0m\u001b[0;34m[\u001b[0m\u001b[0;36m3\u001b[0m\u001b[0;34m]\u001b[0m\u001b[0;34m=\u001b[0m\u001b[0;34m'w'\u001b[0m\u001b[0;34m\u001b[0m\u001b[0;34m\u001b[0m\u001b[0m\n\u001b[0m",
            "\u001b[0;31mTypeError\u001b[0m: 'str' object does not support item assignment"
          ]
        }
      ]
    },
    {
      "cell_type": "markdown",
      "metadata": {
        "id": "zvzKPHe9LgqO"
      },
      "source": [
        "**4. String Index:** The `index()` function returns the index at which the item is located. In case of the repeated item, it returns the index at which it appears the first time in the string. The same is true in case of a list and a tuple."
      ]
    },
    {
      "cell_type": "code",
      "metadata": {
        "id": "uD5Ld2S3LxHm",
        "colab": {
          "base_uri": "https://localhost:8080/"
        },
        "outputId": "004255af-801c-4b4d-8510-377f2a627ab0"
      },
      "source": [
        "# Student Action: Get the index of any item in the string that you created.\n",
        "some_string.index('n')"
      ],
      "execution_count": null,
      "outputs": [
        {
          "output_type": "execute_result",
          "data": {
            "text/plain": [
              "1"
            ]
          },
          "metadata": {
            "tags": []
          },
          "execution_count": 21
        }
      ]
    },
    {
      "cell_type": "markdown",
      "metadata": {
        "id": "oNa1cgFTNMXi"
      },
      "source": [
        "**5. String Concatenation:** The process of joining two or more strings to get one string using the `+` operator is called string concatenation. \n",
        "\n",
        "**Note:** Before the string concatenation operation, you need to ensure that the objects to be concatenated are all strings. If a data-type that needs to be concatenated is not a string then, you first need to convert it into a string using the `str()` function."
      ]
    },
    {
      "cell_type": "code",
      "metadata": {
        "colab": {
          "base_uri": "https://localhost:8080/",
          "height": 35
        },
        "id": "cwj8_ba6_Bj9",
        "outputId": "f1738943-ae1c-4e56-b2cf-06e0afc55289"
      },
      "source": [
        "planet=\"Jupiter\"\n",
        "number=79\n",
        "planet_number=planet+\"has\"+str(number)+\"moons\"\n",
        "planet_number"
      ],
      "execution_count": null,
      "outputs": [
        {
          "output_type": "execute_result",
          "data": {
            "application/vnd.google.colaboratory.intrinsic+json": {
              "type": "string"
            },
            "text/plain": [
              "'Jupiterhas79moons'"
            ]
          },
          "metadata": {
            "tags": []
          },
          "execution_count": 32
        }
      ]
    },
    {
      "cell_type": "code",
      "metadata": {
        "id": "MFk2vzm0OuvK",
        "colab": {
          "base_uri": "https://localhost:8080/",
          "height": 35
        },
        "outputId": "c05d5333-bc12-4afe-985d-ceb19d709e30"
      },
      "source": [
        "# Student Action: Concatenate the following objects to get the \"Jupiter has 79 known moons.\"\n",
        "planet=\"Jupiter\"\n",
        "number=79\n",
        "planet_number=planet+\"has\"+str(number)+\"moons\"\n",
        "planet_number"
      ],
      "execution_count": null,
      "outputs": [
        {
          "output_type": "execute_result",
          "data": {
            "application/vnd.google.colaboratory.intrinsic+json": {
              "type": "string"
            },
            "text/plain": [
              "'Jupiterhas79moons'"
            ]
          },
          "metadata": {
            "tags": []
          },
          "execution_count": 33
        }
      ]
    },
    {
      "cell_type": "markdown",
      "metadata": {
        "id": "eQ2Hn1sefX6t"
      },
      "source": [
        "**6. The `enumerate()` Function**: It pairs the item in a string with its roll call and returns a collection of tuples."
      ]
    },
    {
      "cell_type": "code",
      "metadata": {
        "id": "cbB4VwB2gEjh",
        "colab": {
          "base_uri": "https://localhost:8080/",
          "height": 35
        },
        "outputId": "c2bdfd29-17d2-4e1a-fa05-ebf1772118b5"
      },
      "source": [
        "# Student Action: Apply the 'enumerate()' function on above string thrice: On top of it apply the 'list()', 'dict()' &  'tuple()' functions.\n",
        "# Store all of three of them in different variables.\n",
        "str(enumerate(some_string))"
      ],
      "execution_count": null,
      "outputs": [
        {
          "output_type": "execute_result",
          "data": {
            "application/vnd.google.colaboratory.intrinsic+json": {
              "type": "string"
            },
            "text/plain": [
              "'<enumerate object at 0x7f61933d9960>'"
            ]
          },
          "metadata": {
            "tags": []
          },
          "execution_count": 40
        }
      ]
    },
    {
      "cell_type": "markdown",
      "metadata": {
        "id": "47fwac30rP7R"
      },
      "source": [
        "**7. The `count()` Function:** It returns the number of times an item (or a character) appears in a string.  "
      ]
    },
    {
      "cell_type": "code",
      "metadata": {
        "id": "u6jwT9VEq0cW",
        "colab": {
          "base_uri": "https://localhost:8080/"
        },
        "outputId": "e3c36ee8-5811-45d2-f041-60479c294124"
      },
      "source": [
        "# Student Action: Count the number of spaces in the above string.\n",
        "some_string.count(' ')"
      ],
      "execution_count": null,
      "outputs": [
        {
          "output_type": "execute_result",
          "data": {
            "text/plain": [
              "8"
            ]
          },
          "metadata": {
            "tags": []
          },
          "execution_count": 34
        }
      ]
    },
    {
      "cell_type": "markdown",
      "metadata": {
        "id": "Q42qBPhNVMjz"
      },
      "source": [
        "---"
      ]
    },
    {
      "cell_type": "markdown",
      "metadata": {
        "id": "ThWR9mIBVOX1"
      },
      "source": [
        "#### Activity 2: Empty String & Multiline String^\n",
        "\n",
        "A string which has no item (or character) is called an empty string. It can be created by either using single quotes or double quotes without enclosing anything between them. Not even space."
      ]
    },
    {
      "cell_type": "code",
      "metadata": {
        "id": "o-_NmJhSVkNN",
        "colab": {
          "base_uri": "https://localhost:8080/",
          "height": 35
        },
        "outputId": "3fc11abe-7502-4cea-c4ea-ab8abb58802c"
      },
      "source": [
        "# Student Action: Create an empty string. Print the string and also print its length.\n",
        "empty=\"\"\n",
        "empty"
      ],
      "execution_count": null,
      "outputs": [
        {
          "output_type": "execute_result",
          "data": {
            "application/vnd.google.colaboratory.intrinsic+json": {
              "type": "string"
            },
            "text/plain": [
              "''"
            ]
          },
          "metadata": {
            "tags": []
          },
          "execution_count": 42
        }
      ]
    },
    {
      "cell_type": "markdown",
      "metadata": {
        "id": "jnZrU2FXkB9D"
      },
      "source": [
        "You may require to write a very long string in multiple lines in a code cell. Such a string is called a multiline string. To create a multiline string, use three single quotes (`''' '''`) or three double quotes (`\"\"\" \"\"\"`).\n",
        "\n",
        "Here's one of the wonderful poems by Nobel Prize Winner Dr Rabindranath Tagore from this collection called Gitanjali.\n",
        "\n",
        "```\n",
        "Where the mind is without fear\n",
        "and the head is held high,\n",
        "where knowledge is free.\n",
        "Where the world has not been broken up into fragments, \n",
        "by narrow domestic walls.\n",
        "Where words come out from the depth of truth,\n",
        "where tireless striving stretches its arms toward perfection.\n",
        "Where the clear stream of reason has not lost its way\n",
        "into the dreary desert sand of dead habit.\n",
        "Where the mind is led forward by thee\n",
        "into ever widening thought and action.\n",
        "In to that heaven of freedom, my father,\n",
        "LET MY COUNTRY AWAKE!\n",
        "```\n",
        "\n",
        "The above poem has 13 lines. If we want to print it as a string in the following code cell, then we will have to create it as a multiline string."
      ]
    },
    {
      "cell_type": "code",
      "metadata": {
        "id": "hJlxpFfmmN7-",
        "colab": {
          "base_uri": "https://localhost:8080/",
          "height": 203
        },
        "outputId": "832aeed8-5dc1-4877-cbfe-b335702b7ec1"
      },
      "source": [
        "# Student Action: Create the multiline string for the above poem and print it using the 'print()' function.\n",
        "poem='''Where the mind is without fear\n",
        "and the head is held high,\n",
        "where knowledge is free.\n",
        "Where the world has not been broken up into fragments, \n",
        "by narrow domestic walls.\n",
        "Where words come out from the depth of truth,\n",
        "where tireless striving stretches its arms toward perfection.\n",
        "Where the clear stream of reason has not lost its way\n",
        "into the dreary desert sand of dead habit.\n",
        "Where the mind is led forward by thee\n",
        "into ever widening thought and action.\n",
        "In to that heaven of freedom, my father,\n",
        "LET MY COUNTRY AWAKE!'''\n",
        "print(poem)"
      ],
      "execution_count": null,
      "outputs": [
        {
          "output_type": "error",
          "ename": "TypeError",
          "evalue": "ignored",
          "traceback": [
            "\u001b[0;31m---------------------------------------------------------------------------\u001b[0m",
            "\u001b[0;31mTypeError\u001b[0m                                 Traceback (most recent call last)",
            "\u001b[0;32m<ipython-input-45-cbd353eb8059>\u001b[0m in \u001b[0;36m<module>\u001b[0;34m()\u001b[0m\n\u001b[1;32m     13\u001b[0m \u001b[0mIn\u001b[0m \u001b[0mto\u001b[0m \u001b[0mthat\u001b[0m \u001b[0mheaven\u001b[0m \u001b[0mof\u001b[0m \u001b[0mfreedom\u001b[0m\u001b[0;34m,\u001b[0m \u001b[0mmy\u001b[0m \u001b[0mfather\u001b[0m\u001b[0;34m,\u001b[0m\u001b[0;34m\u001b[0m\u001b[0;34m\u001b[0m\u001b[0m\n\u001b[1;32m     14\u001b[0m LET MY COUNTRY AWAKE!'''\n\u001b[0;32m---> 15\u001b[0;31m \u001b[0mprint\u001b[0m\u001b[0;34m(\u001b[0m\u001b[0mpoem\u001b[0m\u001b[0;34m)\u001b[0m\u001b[0;34m\u001b[0m\u001b[0;34m\u001b[0m\u001b[0m\n\u001b[0m",
            "\u001b[0;31mTypeError\u001b[0m: 'tuple' object is not callable"
          ]
        }
      ]
    },
    {
      "cell_type": "markdown",
      "metadata": {
        "id": "6igTWqxBmo7s"
      },
      "source": [
        "The way you indent a multiline string is a way it gets printed in the output.\n",
        "\n",
        "Try to create the above string with either single quotes and double quotes. You should get an error."
      ]
    },
    {
      "cell_type": "code",
      "metadata": {
        "id": "MTCL0R8Kmwm9"
      },
      "source": [
        "# Student Action: Create the multiline string for the above poem and print it using the 'print()' function.\n",
        "poem='Where the mind is without fear\n",
        "and the head is held high,\n",
        "where knowledge is free.\n",
        "Where the world has not been broken up into fragments, \n",
        "by narrow domestic walls.\n",
        "Where words come out from the depth of truth,\n",
        "where tireless striving stretches its arms toward perfection.\n",
        "Where the clear stream of reason has not lost its way\n",
        "into the dreary desert sand of dead habit.\n",
        "Where the mind is led forward by thee\n",
        "into ever widening thought and action.\n",
        "In to that heaven of freedom, my father,\n",
        "LET MY COUNTRY AWAKE!'\n",
        "poem"
      ],
      "execution_count": null,
      "outputs": []
    },
    {
      "cell_type": "markdown",
      "metadata": {
        "id": "XV9GyuzxaRxk"
      },
      "source": [
        "---"
      ]
    },
    {
      "cell_type": "markdown",
      "metadata": {
        "id": "mZ4NjAtWsSMG"
      },
      "source": [
        "#### Activity 3: Repetition^^\n",
        "\n",
        "You can repeat a string several times by using the `*` operator. Using this concept you can create many incredible patterns such as a triangle, a rectangle, square etc.\n",
        "\n",
        "Let's learn this concept by creating the following triangle.\n",
        "\n",
        "```\n",
        "#\n",
        "##\n",
        "###\n",
        "####\n",
        "#####\n",
        "```\n",
        "\n",
        "Here, the `#` string appears only once in the first line, twice in the second line, thrice in the third line, four times in the fourth line and five times in the fifth line."
      ]
    },
    {
      "cell_type": "code",
      "metadata": {
        "id": "JfepSinHstil",
        "colab": {
          "base_uri": "https://localhost:8080/",
          "height": 203
        },
        "outputId": "18cfe5fb-e701-4ffa-df7e-6342dcfb5c2b"
      },
      "source": [
        "# Teacher Action: Create the above triangle.\n",
        "for i in range(1,7):\n",
        "  print(i)"
      ],
      "execution_count": null,
      "outputs": [
        {
          "output_type": "error",
          "ename": "TypeError",
          "evalue": "ignored",
          "traceback": [
            "\u001b[0;31m---------------------------------------------------------------------------\u001b[0m",
            "\u001b[0;31mTypeError\u001b[0m                                 Traceback (most recent call last)",
            "\u001b[0;32m<ipython-input-46-a0816109c89f>\u001b[0m in \u001b[0;36m<module>\u001b[0;34m()\u001b[0m\n\u001b[1;32m      1\u001b[0m \u001b[0;31m# Teacher Action: Create the above triangle.\u001b[0m\u001b[0;34m\u001b[0m\u001b[0;34m\u001b[0m\u001b[0;34m\u001b[0m\u001b[0m\n\u001b[1;32m      2\u001b[0m \u001b[0;32mfor\u001b[0m \u001b[0mi\u001b[0m \u001b[0;32min\u001b[0m \u001b[0mrange\u001b[0m\u001b[0;34m(\u001b[0m\u001b[0;36m1\u001b[0m\u001b[0;34m,\u001b[0m\u001b[0;36m7\u001b[0m\u001b[0;34m)\u001b[0m\u001b[0;34m:\u001b[0m\u001b[0;34m\u001b[0m\u001b[0;34m\u001b[0m\u001b[0m\n\u001b[0;32m----> 3\u001b[0;31m   \u001b[0mprint\u001b[0m\u001b[0;34m(\u001b[0m\u001b[0mi\u001b[0m\u001b[0;34m)\u001b[0m\u001b[0;34m\u001b[0m\u001b[0;34m\u001b[0m\u001b[0m\n\u001b[0m",
            "\u001b[0;31mTypeError\u001b[0m: 'tuple' object is not callable"
          ]
        }
      ]
    },
    {
      "cell_type": "markdown",
      "metadata": {
        "id": "5OiQmtuLtaT2"
      },
      "source": [
        "In the above code:\n",
        "\n",
        "- the value of `i` goes from 1 to 5.\n",
        "\n",
        "- `i = 1`, repeats the `'#'` string only once because of `'#' * 1`.\n",
        "\n",
        "- `i = 2`, repeats the `'#'` string twice because of `'#' * 2`\n",
        "\n",
        "- `i = 3`, repeats the `'#'` string thrice because of `'#' * 3`\n",
        "\n",
        "- `i = 4`, repeats the `'#'` string four times because of `'#' * 4`\n",
        "\n",
        "- `i = 5`, repeats the `'#'` string five times because of `'#' * 5`\n",
        "\n",
        "Now, you create the following triangle. It is a mirror image of the above triangle.\n",
        "\n",
        "```\n",
        "    #\n",
        "   ##\n",
        "  ###\n",
        " ####\n",
        "#####\n",
        "```\n"
      ]
    },
    {
      "cell_type": "code",
      "metadata": {
        "id": "wrCs3k3ZvhLT"
      },
      "source": [
        "# Student Action: Create the above triangle.\n"
      ],
      "execution_count": null,
      "outputs": []
    },
    {
      "cell_type": "markdown",
      "metadata": {
        "id": "FMhzOap-x8IM"
      },
      "source": [
        "In the above code:\n",
        "\n",
        "- the value of `i` goes from 1 to 5.\n",
        "\n",
        "- `i = 1`, repeats the space `' '` four times because of `' ' * (5 - 1)` and the `'#'` string only once because of `'#' * 1`.\n",
        "\n",
        "- `i = 2`, repeats the space `' '` thrice because of `' ' * (5 - 2)` and the `'#'` string twice because of `'#' * 2`\n",
        "\n",
        "- `i = 3`, repeats the space `' '` twice because of `' ' * (5 - 3)` and the `'#'` string thrice because of `'#' * 3`\n",
        "\n",
        "- `i = 4`, repeats the space `' '` only once because of `' ' * (5 - 4)` and the `'#'` string four times because of `'#' * 4`\n",
        "\n",
        "- `i = 5`, repeats the space `' '` zero times because of `' ' * (5 - 5)` and the `'#'` string five times because of `'#' * 5`\n",
        "\n",
        "\n",
        "Similarly, you can create many more such patterns.\n",
        "\n",
        "**Note:** Similarly, you can also repeat the times contained in a list and in a tuple multiple times using the `*` operator."
      ]
    },
    {
      "cell_type": "code",
      "metadata": {
        "id": "DNX97jn-St3h"
      },
      "source": [
        "# Student Action: Create a list containing three items and repeat them twice.\n"
      ],
      "execution_count": null,
      "outputs": []
    },
    {
      "cell_type": "code",
      "metadata": {
        "id": "bK7ovlG1SJ-w"
      },
      "source": [
        "# Student Action: Create a tuple containing three items and repeat them four times.\n"
      ],
      "execution_count": null,
      "outputs": []
    },
    {
      "cell_type": "markdown",
      "metadata": {
        "id": "0OMi1V9osRiW"
      },
      "source": [
        "---"
      ]
    },
    {
      "cell_type": "markdown",
      "metadata": {
        "id": "uSbF9A2m8Hm4"
      },
      "source": [
        "#### Activity 4: The `format()` Function^^^\n",
        "\n",
        "This function is our best friend when it comes to formatting a string. Why?\n",
        "\n",
        "Recall that in the case of the string concatenation, we have to use the `+` operator several times to get one string. Additionally, you have to beware of spaces and also have to convert a non-string data-type object to a string before concatenation. This is such a big hassle if too many strings are to be concatenated.\n",
        "\n",
        "Similarly, while printing the values of multiple entities using the `print()` function, you have to separate them with commas. Again quite a handful tasks especially in case of long strings.\n",
        "\n",
        "The `format()` function doesn't require that much effort to generate a clean string. It allows you to create one long string with proper punctuation and plug-in the required values at the respective places in the long string.\n",
        "\n",
        "Let's learn this function with the help of an example. We have a CSV containing the data of the 20 professional marathon runners (men's category) who participated in Tata Mumbai Marathon (TMM) 2020.\n",
        "\n",
        "Our task is to create a certificate for each runner using the `format()` function. The certificate should read the following:\n",
        "\n",
        "```\n",
        "Tata Mumbai Marathon 2020\n",
        "\n",
        "      CONGRATULATIONS\n",
        "\n",
        "This is to certify that DERARA HURISA                    \n",
        "BIB No. 19\n",
        "officially completed the marathon \n",
        "(distance 42.2 km) \n",
        "in the men's category \n",
        "with a finish time of 2:08:09 \n",
        "and rank 1.                   \n",
        "--------------------------------------------------\n",
        "```\n",
        "\n",
        "Here's the link to the CSV file containing data for each runner:\n",
        "\n",
        "https://student-datasets-bucket.s3.ap-south-1.amazonaws.com/whitehat-ds-datasets/tmm-2020-race-results/TMM2020_RaceResults.csv\n",
        "\n",
        "\n",
        "**How to approach this task?**\n",
        "\n",
        "1. Create a Pandas DataFrame for the TMM 2020 professional runners (men's category).\n",
        "\n",
        "2. Create the following string with curly brackets as placeholders:\n",
        "\n",
        "  ```\n",
        "  Tata Mumbai Marathon 2020\n",
        "\n",
        "        CONGRATULATIONS\n",
        "\n",
        "  This is to certify that {}                    \n",
        "  BIB No. {}\n",
        "  officially completed the marathon \n",
        "  (distance 42.2 km) \n",
        "  in the men's category \n",
        "  with a finish time of {} \n",
        "  and rank {}.                   \n",
        "  {}\n",
        "  ```\n",
        "\n",
        "3. Iterate through each row of the DataFrame created in the first step to get the name, BIB number, race finish time and rank of a runner.\n",
        "\n",
        "4. Fill the values in the placeholders (or curly brackets) using the `format()` function such that\n",
        "\n",
        "      - the name of a runner goes to the first placeholder.\n",
        "\n",
        "      - the BIB number of a runner goes to the second placeholder.\n",
        "\n",
        "      - the race finish time of a runner goes to the third placeholder.\n",
        "\n",
        "      - the rank of a runner goes to the fifth placeholder.\n",
        "\n",
        "      - the 50 repetitions of the hyphen symbol goe to the last placeholder.\n",
        "\n",
        "5. Print the prescribed certificate for each runner.\n",
        "\n",
        "The steps 3, 4 and 5 are part of the same iteration."
      ]
    },
    {
      "cell_type": "code",
      "metadata": {
        "id": "VNq8Xc7E3X39"
      },
      "source": [
        "# Teacher Action: Create a Pandas DataFrame for the TMM 2020 runners.\n"
      ],
      "execution_count": null,
      "outputs": []
    },
    {
      "cell_type": "markdown",
      "metadata": {
        "id": "LH7PYgKn7FAQ"
      },
      "source": [
        "The first step is done. Now, let's follow the remaining steps."
      ]
    },
    {
      "cell_type": "code",
      "metadata": {
        "id": "TdemmHi_8-vb"
      },
      "source": [
        "# Teacher Action: Print the certificates for each TMM 2020 runner in the prescribed format.\n"
      ],
      "execution_count": null,
      "outputs": []
    },
    {
      "cell_type": "markdown",
      "metadata": {
        "id": "_Zbr1xTY9Olb"
      },
      "source": [
        "As you can see, we first created a multiline string and stored it in a variable. The string contains five place holders in the form of curly brackets.\n",
        "\n",
        "- The first place holder is created to store the name of each runner.\n",
        "\n",
        "- The second place holder is created to store the BIB number of each runner.\n",
        "\n",
        "- The third place holder is created to store the finish time of each runner.\n",
        "\n",
        "- The fourth place holder is created to store the rank secured by each runner in the marathon.\n",
        "\n",
        "- The fifth place holder is created to store the hyphen symbol (`-`).\n",
        "\n",
        "In the same order of the place holders, we passed the values to the `format()` so that they occupy their respective places in the final string. The last value,  `'-' * 50`, that is passed to the `format()` function means that the hyphen symbol is repeated 50 times.\n",
        "\n",
        "**Labelling Placeholders**\n",
        "\n",
        "When there are too many placeholders to fill, you might lose a track of what value to put to what placeholder. In such cases, the better approach is to label the placeholders in such a way that they describe the values to put to the placeholders."
      ]
    },
    {
      "cell_type": "code",
      "metadata": {
        "id": "aSqns1fTbYio"
      },
      "source": [
        "# Teacher Action: Label the placeholders in the above code.\n"
      ],
      "execution_count": null,
      "outputs": []
    },
    {
      "cell_type": "markdown",
      "metadata": {
        "id": "OjZsTtePdO0c"
      },
      "source": [
        "As you can see, we have labelled the placeholders with the to determine which value to assign to which placeholder. Then, using the `format()` function, we have assigned the values to their respective placeholders.\n",
        "\n",
        "**Syntax:** `string.format(placeholder1 = value1, placeholder2 = value2, ..., placeholderN = valueN)` where `N` is the number of values to assign or the number of placeholders to fill.\n",
        "\n",
        "We will pause here now and will continue learning the remaining string operations in the next class."
      ]
    },
    {
      "cell_type": "markdown",
      "metadata": {
        "id": "DrJU6Q5E8G0c"
      },
      "source": [
        "---"
      ]
    }
  ]
}