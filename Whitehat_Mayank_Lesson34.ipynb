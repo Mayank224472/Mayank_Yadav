{
  "nbformat": 4,
  "nbformat_minor": 0,
  "metadata": {
    "colab": {
      "name": "Copy of AT - Lesson 34 - Class Copy - v0",
      "provenance": [],
      "collapsed_sections": [],
      "include_colab_link": true
    },
    "kernelspec": {
      "name": "python3",
      "display_name": "Python 3"
    }
  },
  "cells": [
    {
      "cell_type": "markdown",
      "metadata": {
        "id": "view-in-github",
        "colab_type": "text"
      },
      "source": [
        "<a href=\"https://colab.research.google.com/github/Mayank224472/Mayank_Yadav/blob/WhiteHat_Mayank_Applied_Tech/Whitehat_Mayank_Lesson34Class.ipynb\" target=\"_parent\"><img src=\"https://colab.research.google.com/assets/colab-badge.svg\" alt=\"Open In Colab\"/></a>"
      ]
    },
    {
      "cell_type": "markdown",
      "metadata": {
        "id": "Jx5lDDsxcUJT"
      },
      "source": [
        "# Lesson 34: Python Tuples II"
      ]
    },
    {
      "cell_type": "markdown",
      "metadata": {
        "id": "ffooxHP4tLK5"
      },
      "source": [
        "### Teacher-Student Activities\n",
        "\n",
        "Let's continue our discussion on Python tuples. In this class we will learn the following concepts/operations regarding tuples:\n",
        "\n",
        "- Concatenation of tuples\n",
        "\n",
        "- Conversion of an iterable object to a tuple.\n",
        "\n",
        "- Unpacking tuple values\n",
        "\n",
        "- Changing items in a tuple\n",
        "\n",
        "- Enumerating the items in a tuple\n",
        "\n",
        "- Joining multiple tuples into one tuple\n",
        "\n",
        "- Comparing the performance of a tuple with a list\n",
        "\n",
        "Almost all the above concepts/operations are common to lists as well. Let's continue this class from the concatenation of tuples."
      ]
    },
    {
      "cell_type": "markdown",
      "metadata": {
        "id": "YwNkwrSdXjkP"
      },
      "source": [
        "---"
      ]
    },
    {
      "cell_type": "markdown",
      "metadata": {
        "id": "Gg7lopbA4jNM"
      },
      "source": [
        "#### Activity 1: Concatenation^^\n",
        "\n",
        "In the last class, we learnt that we cannot add a new item to a tuple because tuples are immutable. However, we can join two tuples through concatenation. \n",
        "\n",
        "Recall that the process of joining two entities is called **concatenation**. This is exactly the same concept that you learnt for strings in one of the previous classes.\n",
        "\n",
        "Let's revisit this concept with the help of an example. Here are three different tuples containing the annual GDP of India (in %) starting from 1991 till 2018. These GDP figures are taken from the official world bank data website. \n",
        "\n",
        "1. `india_gdp_1991_2000 = (1.057, 5.482, 4.751, 6.659, 7.574, 7.550, 4.050, 6.184, 8.846, 3.841)`\n",
        "\n",
        "2. `india_gdp_2001_2010 = (4.824, 3.804, 7.860, 7.923, 7.923, 8.061, 7.661, 3.087, 7.862, 8.498)`\n",
        "\n",
        "3. `india_gdp_2011_2018 = (5.241, 5.456, 6.386, 7.410, 7.996, 8.170, 7.168, 6.811)`\n",
        "\n",
        "Let's join these tuples to form one tuple. To concatenate two or more tuples, use the `+` operator."
      ]
    },
    {
      "cell_type": "code",
      "metadata": {
        "id": "gVXe2jSD6kXM",
        "colab": {
          "base_uri": "https://localhost:8080/"
        },
        "outputId": "b040c00d-65bf-4c3c-cc8b-8f237e7a0e2e"
      },
      "source": [
        "# Student Action: Join the above three tuples to form a new tuple and store it in the 'india_gdp_1991_2018' variable. Also, print its length.\n",
        "india_gdp_1991_2000 = (1.057, 5.482, 4.751, 6.659, 7.574, 7.550, 4.050, 6.184, 8.846, 3.841)\n",
        "\n",
        "india_gdp_2001_2010 = (4.824, 3.804, 7.860, 7.923, 7.923, 8.061, 7.661, 3.087, 7.862, 8.498)\n",
        "\n",
        "india_gdp_2011_2018 = (5.241, 5.456, 6.386, 7.410, 7.996, 8.170, 7.168, 6.811)\n",
        "india_gdp_1991_2018 = india_gdp_1991_2000+india_gdp_2001_2010+india_gdp_2011_2018 \n",
        "print(india_gdp_1991_2018)"
      ],
      "execution_count": null,
      "outputs": [
        {
          "output_type": "stream",
          "text": [
            "(1.057, 5.482, 4.751, 6.659, 7.574, 7.55, 4.05, 6.184, 8.846, 3.841, 4.824, 3.804, 7.86, 7.923, 7.923, 8.061, 7.661, 3.087, 7.862, 8.498, 5.241, 5.456, 6.386, 7.41, 7.996, 8.17, 7.168, 6.811)\n"
          ],
          "name": "stdout"
        }
      ]
    },
    {
      "cell_type": "markdown",
      "metadata": {
        "id": "JYT-60Fk5vzq"
      },
      "source": [
        "Let's verify whether the resulting tuple is indeed a tuple or not."
      ]
    },
    {
      "cell_type": "code",
      "metadata": {
        "id": "QI_OtkElBQ2-",
        "colab": {
          "base_uri": "https://localhost:8080/"
        },
        "outputId": "e9c0cae6-8c15-4d3f-93d6-fecbf20bc695"
      },
      "source": [
        "# Student Action: Verify whether the resulting tuple is indeed a tuple or not.\n",
        "type(india_gdp_1991_2018)"
      ],
      "execution_count": null,
      "outputs": [
        {
          "output_type": "execute_result",
          "data": {
            "text/plain": [
              "tuple"
            ]
          },
          "metadata": {
            "tags": []
          },
          "execution_count": 2
        }
      ]
    },
    {
      "cell_type": "markdown",
      "metadata": {
        "id": "uKRZTDv4EE0H"
      },
      "source": [
        "You can also concatenate multiple lists using the `+` operator."
      ]
    },
    {
      "cell_type": "code",
      "metadata": {
        "id": "qtqzM61OEYtq",
        "colab": {
          "base_uri": "https://localhost:8080/"
        },
        "outputId": "42d12bf5-c934-4bfa-814f-e286ce44b9a6"
      },
      "source": [
        "# Student Action: Create two or three lists containing some random items and concatenate them.\n",
        "list_1 = [i for i in range(1,101) ]\n",
        "list_2 = [i for i in range(50,41)]\n",
        "list_3 = list_1+list_2\n",
        "print(list_3)"
      ],
      "execution_count": null,
      "outputs": [
        {
          "output_type": "stream",
          "text": [
            "[1, 2, 3, 4, 5, 6, 7, 8, 9, 10, 11, 12, 13, 14, 15, 16, 17, 18, 19, 20, 21, 22, 23, 24, 25, 26, 27, 28, 29, 30, 31, 32, 33, 34, 35, 36, 37, 38, 39, 40, 41, 42, 43, 44, 45, 46, 47, 48, 49, 50, 51, 52, 53, 54, 55, 56, 57, 58, 59, 60, 61, 62, 63, 64, 65, 66, 67, 68, 69, 70, 71, 72, 73, 74, 75, 76, 77, 78, 79, 80, 81, 82, 83, 84, 85, 86, 87, 88, 89, 90, 91, 92, 93, 94, 95, 96, 97, 98, 99, 100]\n"
          ],
          "name": "stdout"
        }
      ]
    },
    {
      "cell_type": "markdown",
      "metadata": {
        "id": "B1qOlCGyGTgy"
      },
      "source": [
        "**Note:** You cannot concatenate multiple Python dictionaries, NumPy arrays and Pandas series among themselves using the `+` operator."
      ]
    },
    {
      "cell_type": "markdown",
      "metadata": {
        "id": "yNp0kFgFCwO1"
      },
      "source": [
        "---"
      ]
    },
    {
      "cell_type": "markdown",
      "metadata": {
        "id": "BtHTc0-qJgqz"
      },
      "source": [
        "#### Activity 2: The `tuple()` Function\n",
        "\n",
        "You can convert a Python list / NumPy array / Pandas Series into a tuple using the `tuple()` function. \n",
        "\n",
        "Let's create a NumPy array of first 10 natural numbers and convert it into a tuple using the `tuple()` function."
      ]
    },
    {
      "cell_type": "code",
      "metadata": {
        "id": "z4KWEte9LJAC",
        "colab": {
          "base_uri": "https://localhost:8080/"
        },
        "outputId": "27b0fb75-289b-44d5-eb91-5f8887c50abc"
      },
      "source": [
        "# Student Action: Create a NumPy array containing the first 10 natural numbers and convert it into a tuple. \n",
        "# Also, verify whether the array is converted to a tuple or not.\n",
        "\n",
        "# Create a NumPy array.\n",
        "import numpy as np\n",
        "array_1= np.arange(1,11)\n",
        "tuple(array_1)\n",
        "# Print the NumPy array.\n",
        "\n",
        "# Convert the NumPy array into a tuple.\n",
        "\n",
        "# Print the tuple.\n",
        "\n",
        "# Verify.\n"
      ],
      "execution_count": null,
      "outputs": [
        {
          "output_type": "execute_result",
          "data": {
            "text/plain": [
              "(1, 2, 3, 4, 5, 6, 7, 8, 9, 10)"
            ]
          },
          "metadata": {
            "tags": []
          },
          "execution_count": 4
        }
      ]
    },
    {
      "cell_type": "markdown",
      "metadata": {
        "id": "f0lMAKb0OJ7H"
      },
      "source": [
        "If you apply the `tuple()` function on a dictionary, the resulting tuple will contain only the keys of a dictionary.\n",
        "\n",
        "Let's apply the `tuple()` function on the following dictionary and check the output.\n",
        "\n",
        "```\n",
        "my_dict = {'Front Camera' : '16 MP', \n",
        "           'Battery' : '3300 mAh',\n",
        "           'Processor' : 'Qualcomm Snapdragon 845',\n",
        "           'Display' : '6.28 inches',  \n",
        "           'RAM' : '6 GB', \n",
        "           'Rear Camera' : '16 MP + 20 MP', \n",
        "           'Price' : 28990, \n",
        "           'Fast Charge' : True} \n",
        "```"
      ]
    },
    {
      "cell_type": "code",
      "metadata": {
        "id": "DuEl4mUNNr3h",
        "colab": {
          "base_uri": "https://localhost:8080/"
        },
        "outputId": "8141a9ea-1021-408c-ec34-0a99cf8f214b"
      },
      "source": [
        "# Student Action: Apply the 'tuple()' function on the 'my_dict' dictionary.\n",
        "my_dict = {'Front Camera' : '16 MP', \n",
        "           'Battery' : '3300 mAh',\n",
        "           'Processor' : 'Qualcomm Snapdragon 845',\n",
        "           'Display' : '6.28 inches',  \n",
        "           'RAM' : '6 GB', \n",
        "           'Rear Camera' : '16 MP + 20 MP', \n",
        "           'Price' : 28990, \n",
        "           'Fast Charge' : True} \n",
        "tuple(my_dict)"
      ],
      "execution_count": null,
      "outputs": [
        {
          "output_type": "execute_result",
          "data": {
            "text/plain": [
              "('Front Camera',\n",
              " 'Battery',\n",
              " 'Processor',\n",
              " 'Display',\n",
              " 'RAM',\n",
              " 'Rear Camera',\n",
              " 'Price',\n",
              " 'Fast Charge')"
            ]
          },
          "metadata": {
            "tags": []
          },
          "execution_count": 5
        }
      ]
    },
    {
      "cell_type": "markdown",
      "metadata": {
        "id": "Bt8okA7QPCTW"
      },
      "source": [
        "As you can see, the `tuple()` function, when applied to a dictionary, returns a tuple containing only the keys of the dictionary.\n",
        "\n",
        "Similarly, you can also apply the `list()` function to convert a data-structure into a list. The `list()` function, when applied on a dictionary, also returns a list containing only the keys of the dictionary."
      ]
    },
    {
      "cell_type": "code",
      "metadata": {
        "id": "BfOdiqvuP0Vm",
        "colab": {
          "base_uri": "https://localhost:8080/"
        },
        "outputId": "b6a4694e-6da9-4a63-ec91-4f827d2655ea"
      },
      "source": [
        "# Student Action: Apply the 'list()' function on the 'my_dict' dictionary.\n",
        "list(my_dict)"
      ],
      "execution_count": null,
      "outputs": [
        {
          "output_type": "execute_result",
          "data": {
            "text/plain": [
              "['Front Camera',\n",
              " 'Battery',\n",
              " 'Processor',\n",
              " 'Display',\n",
              " 'RAM',\n",
              " 'Rear Camera',\n",
              " 'Price',\n",
              " 'Fast Charge']"
            ]
          },
          "metadata": {
            "tags": []
          },
          "execution_count": 6
        }
      ]
    },
    {
      "cell_type": "markdown",
      "metadata": {
        "id": "6DFFERac6_nm"
      },
      "source": [
        "---"
      ]
    },
    {
      "cell_type": "markdown",
      "metadata": {
        "id": "0jVLzFYrCxxH"
      },
      "source": [
        "#### Activity 3: Unpacking\n",
        "\n",
        "We can unpack or assign all the values to the same number of variables by writing them in one line.\n",
        "\n",
        "**Syntax:** `vb1, vb2, vb3, ..., vbN = (item1, item2, item3, ..., itemN)`\n",
        "\n",
        "where `vb1, vb2, vb3, ..., vbN` are `N` different variables and `item1, item2, item3, ..., itemN` are `N` different items stored in the tuple."
      ]
    },
    {
      "cell_type": "code",
      "metadata": {
        "id": "oLzm2gBpuhim",
        "colab": {
          "base_uri": "https://localhost:8080/",
          "height": 200
        },
        "outputId": "e52de9de-b48e-46ed-c3fd-d06d753f7351"
      },
      "source": [
        "# Student Action: Create a tuple containing 5 items and assign their values to 5 differing variables.\n",
        "a,b,c= (4,8,)\n",
        "print(a,b,c)"
      ],
      "execution_count": null,
      "outputs": [
        {
          "output_type": "error",
          "ename": "ValueError",
          "evalue": "ignored",
          "traceback": [
            "\u001b[0;31m---------------------------------------------------------------------------\u001b[0m",
            "\u001b[0;31mValueError\u001b[0m                                Traceback (most recent call last)",
            "\u001b[0;32m<ipython-input-8-52bb14e9160b>\u001b[0m in \u001b[0;36m<module>\u001b[0;34m()\u001b[0m\n\u001b[1;32m      1\u001b[0m \u001b[0;31m# Student Action: Create a tuple containing 5 items and assign their values to 5 differing variables.\u001b[0m\u001b[0;34m\u001b[0m\u001b[0;34m\u001b[0m\u001b[0;34m\u001b[0m\u001b[0m\n\u001b[0;32m----> 2\u001b[0;31m \u001b[0ma\u001b[0m\u001b[0;34m,\u001b[0m\u001b[0mb\u001b[0m\u001b[0;34m,\u001b[0m\u001b[0mc\u001b[0m\u001b[0;34m=\u001b[0m \u001b[0;34m(\u001b[0m\u001b[0;36m4\u001b[0m\u001b[0;34m,\u001b[0m\u001b[0;36m8\u001b[0m\u001b[0;34m,\u001b[0m\u001b[0;34m)\u001b[0m\u001b[0;34m\u001b[0m\u001b[0;34m\u001b[0m\u001b[0m\n\u001b[0m\u001b[1;32m      3\u001b[0m \u001b[0mprint\u001b[0m\u001b[0;34m(\u001b[0m\u001b[0ma\u001b[0m\u001b[0;34m,\u001b[0m\u001b[0mb\u001b[0m\u001b[0;34m,\u001b[0m\u001b[0mc\u001b[0m\u001b[0;34m)\u001b[0m\u001b[0;34m\u001b[0m\u001b[0;34m\u001b[0m\u001b[0m\n",
            "\u001b[0;31mValueError\u001b[0m: not enough values to unpack (expected 3, got 2)"
          ]
        }
      ]
    },
    {
      "cell_type": "markdown",
      "metadata": {
        "id": "kk4uK_shDt3a"
      },
      "source": [
        "The same method is also applicable for a list.\n",
        "\n",
        "**Note:** This method of unpacking values fails when the number of variables are less than or greater than the number of items in a tuple or a list."
      ]
    },
    {
      "cell_type": "markdown",
      "metadata": {
        "id": "NefMJbBW61Gt"
      },
      "source": [
        "---"
      ]
    },
    {
      "cell_type": "markdown",
      "metadata": {
        "id": "K3eBUNokDpkk"
      },
      "source": [
        "#### Activity 4: Changing Tuple Items\n",
        "\n",
        "We have already discussed that we cannot change the contents of a tuple. However, we can first convert the tuple into a list, then change the contents of the list and finally change the list back into a tuple.\n",
        "\n",
        "Let's create a tuple of English vowels which contains one consonant. To remove that consonant, we will first convert the tuple into a list using the `list()` function, then will remove the consonant by applying the `remove()` function and then convert the list back to a tuple using the `tuple()` function. "
      ]
    },
    {
      "cell_type": "code",
      "metadata": {
        "id": "-8mTXvszEKKQ",
        "colab": {
          "base_uri": "https://localhost:8080/"
        },
        "outputId": "237c2da1-7aff-4914-a473-32ecb66d09bf"
      },
      "source": [
        "# Student Action: Create a tuple containing English vowels and then reverse the order of its items.\n",
        "# Create a tuple of vowels.\n",
        "vowels= ('a','e','i','o','u','s')\n",
        "vowels\n",
        "correct_vowels=list(vowels)\n",
        "print(correct_vowels)\n",
        "correct_vowels.remove('s')\n",
        "print(correct_vowels)\n",
        "vowels=tuple(correct_vowels)\n",
        "print(vowels)\n",
        "\n",
        "# Print the contents of the tuple before converting it into a list.\n",
        "\n",
        "# Convert the tuple into a list.\n",
        "\n",
        "# Remove the consonant from the list.\n",
        "\n",
        "# Convert the list into a tuple.\n",
        "\n",
        "# Print the items of the tuple after reversing their order.\n"
      ],
      "execution_count": null,
      "outputs": [
        {
          "output_type": "stream",
          "text": [
            "['a', 'e', 'i', 'o', 'u', 's']\n",
            "['a', 'e', 'i', 'o', 'u']\n",
            "('a', 'e', 'i', 'o', 'u')\n"
          ],
          "name": "stdout"
        }
      ]
    },
    {
      "cell_type": "markdown",
      "metadata": {
        "id": "-yZvM61OFnl_"
      },
      "source": [
        "Similarly, you can apply other list functions by first converting a tuple into a list and then changing the list back to the tuple by applying the `tuple()` function. This little hack is useful when the data entered in a tuple is wrong or undesirable. However, this hack becomes a computationally heavy task in case of a huge dataset. Imagine having 1 million (or 10 lakh) data points in a dataset that is not supposed to be changed. But then there is one mistake that needs to be corrected. You will have to first convert the entire tuple into a list, then correct the mistake in the item and then convert it back into a tuple. This exercise could lead to system failure in case of large datasets. "
      ]
    },
    {
      "cell_type": "markdown",
      "metadata": {
        "id": "bISUwCYz6VMy"
      },
      "source": [
        "---"
      ]
    },
    {
      "cell_type": "markdown",
      "metadata": {
        "id": "gkb0Fabk61og"
      },
      "source": [
        "#### Activity 5: The `enumerate()` Function\n",
        "\n",
        "Before we learn this function, think of a way to print the indices of the items contained in the `india_gdp_2011_2018` tuple along with the items one-by-one.\n"
      ]
    },
    {
      "cell_type": "code",
      "metadata": {
        "id": "dR8TE264AQfd",
        "colab": {
          "base_uri": "https://localhost:8080/"
        },
        "outputId": "167f2615-6b35-4b01-bc0e-401047e39acf"
      },
      "source": [
        "# Student Action: Print the indices of the items contained in the 'india_gdp_2011_2018' tuple along with the items one-by-one.\n",
        "india_gdp_2011_2018 = (5.241, 5.456, 6.386, 7.410, 7.996, 8.170, 7.168, 6.811)\n",
        "for i in range(0,len(india_gdp_2011_2018)) :\n",
        "  print(i,india_gdp_2011_2018[i])"
      ],
      "execution_count": null,
      "outputs": [
        {
          "output_type": "stream",
          "text": [
            "0 5.241\n",
            "1 5.456\n",
            "2 6.386\n",
            "3 7.41\n",
            "4 7.996\n",
            "5 8.17\n",
            "6 7.168\n",
            "7 6.811\n"
          ],
          "name": "stdout"
        }
      ]
    },
    {
      "cell_type": "markdown",
      "metadata": {
        "id": "ZAjfIvjA_xif"
      },
      "source": [
        "The `enumerate()` function does the similar thing. It labels the items contained in a data-structure with numbers starting from zero. It is similar to doing the roll call to get the count of the number of people present in a gathering. However, it returns a non-readable Python object. \n",
        "\n",
        "Let's apply the `enumerate()` function on the `india_gdp_2011_2018` tuple."
      ]
    },
    {
      "cell_type": "code",
      "metadata": {
        "id": "YzTWmTY49-8J",
        "colab": {
          "base_uri": "https://localhost:8080/"
        },
        "outputId": "5fab37bb-8010-45fa-f3e8-688ac4c6e422"
      },
      "source": [
        "# Student Action: Apply the 'enumerate()' function on the 'india_gdp_2011_2018' tuple.\n",
        "india_gdp_new=enumerate(india_gdp_2011_2018)\n",
        "list(india_gdp_new)"
      ],
      "execution_count": null,
      "outputs": [
        {
          "output_type": "execute_result",
          "data": {
            "text/plain": [
              "[(0, 5.241),\n",
              " (1, 5.456),\n",
              " (2, 6.386),\n",
              " (3, 7.41),\n",
              " (4, 7.996),\n",
              " (5, 8.17),\n",
              " (6, 7.168),\n",
              " (7, 6.811)]"
            ]
          },
          "metadata": {
            "tags": []
          },
          "execution_count": 20
        }
      ]
    },
    {
      "cell_type": "markdown",
      "metadata": {
        "id": "hfmfmNo6B-n4"
      },
      "source": [
        "As you can see, the output is some gibberish or non-readable object. In fact, it returns the physical memory location of the object created by the `enumerate()` function. \n",
        "\n",
        "Now, apply the `tuple()` function on top of the `enumerate()` function.\n"
      ]
    },
    {
      "cell_type": "code",
      "metadata": {
        "id": "AuxwfSsn-IRZ"
      },
      "source": [
        "# Student Action: Apply the 'tuple()' function on top of the 'enumerate()' function.\n",
        "india_gdp_new=enumerate(india_gdp_2011_2018)\n",
        "india_1=tuple(india_gdp_new)\n"
      ],
      "execution_count": null,
      "outputs": []
    },
    {
      "cell_type": "markdown",
      "metadata": {
        "id": "GeD8Z8nvCrks"
      },
      "source": [
        "As you can see, the output is a tuple containing the key-value pairs of the item and its roll call such that each key-value pair is another tuple.\n",
        "\n",
        "You can also iterate through each tuple print both roll call and the item."
      ]
    },
    {
      "cell_type": "code",
      "metadata": {
        "id": "IgzUfX7ggup2",
        "colab": {
          "base_uri": "https://localhost:8080/"
        },
        "outputId": "26658c0b-ef51-4b51-e03a-413f2cda17cc"
      },
      "source": [
        "# Student Action: Iterate through each tuple print both roll call and the item contained in the above tuple.\n",
        "for i,j in india_1 :\n",
        "  print(j)"
      ],
      "execution_count": null,
      "outputs": [
        {
          "output_type": "stream",
          "text": [
            "5.241\n",
            "5.456\n",
            "6.386\n",
            "7.41\n",
            "7.996\n",
            "8.17\n",
            "7.168\n",
            "6.811\n"
          ],
          "name": "stdout"
        }
      ]
    },
    {
      "cell_type": "markdown",
      "metadata": {
        "id": "O6pXut8agh6O"
      },
      "source": [
        "The `enumerate()` function can also be applied on lists, dictionaries and strings. "
      ]
    },
    {
      "cell_type": "code",
      "metadata": {
        "id": "bCYWEIO97OMi",
        "colab": {
          "base_uri": "https://localhost:8080/"
        },
        "outputId": "6dd2b6bc-aaf6-4ac5-8458-cb3d0bc60fa3"
      },
      "source": [
        "# Student Action: Apply the 'enumerate()' function on 'my_dict' dictionary and 'vowels_list'. On top of them apply the 'tuple()' function. \n",
        "my_dict_new=tuple(enumerate(my_dict))\n",
        "my_dict_new"
      ],
      "execution_count": null,
      "outputs": [
        {
          "output_type": "execute_result",
          "data": {
            "text/plain": [
              "((0, 'Front Camera'),\n",
              " (1, 'Battery'),\n",
              " (2, 'Processor'),\n",
              " (3, 'Display'),\n",
              " (4, 'RAM'),\n",
              " (5, 'Rear Camera'),\n",
              " (6, 'Price'),\n",
              " (7, 'Fast Charge'))"
            ]
          },
          "metadata": {
            "tags": []
          },
          "execution_count": 30
        }
      ]
    },
    {
      "cell_type": "markdown",
      "metadata": {
        "id": "-GltL_w7hnVB"
      },
      "source": [
        "As you can see, the `tuple()` function when applied on top of the `enumerate()` function \n",
        "\n",
        "- in the case of the `my_dict` dictionary, returns a **tuple** that is a collection of tuples such that each tuple contains the roll call of every key and the key itself contained in the `my_dict` dictionary. The values of the `my_dict` dictionary are ignored.\n",
        "\n",
        "- in the case of the `vowels_list`, returns a **tuple** that is a collection of tuples such that each tuple contains the roll call of every item and the item itself contained in the `vowels_list`.\n"
      ]
    },
    {
      "cell_type": "code",
      "metadata": {
        "id": "AQr_TpmG7mQe",
        "colab": {
          "base_uri": "https://localhost:8080/"
        },
        "outputId": "e3f13635-8618-481f-8c5f-5bcdc7600dfe"
      },
      "source": [
        "# Student Action: Apply the 'enumerate()' function on 'my_dict' dictionary and 'vowels_list'. On top of them apply the 'list()' function.\n",
        "my_dict_new=list(enumerate(my_dict))\n",
        "my_dict_new"
      ],
      "execution_count": null,
      "outputs": [
        {
          "output_type": "execute_result",
          "data": {
            "text/plain": [
              "[(0, 'Front Camera'),\n",
              " (1, 'Battery'),\n",
              " (2, 'Processor'),\n",
              " (3, 'Display'),\n",
              " (4, 'RAM'),\n",
              " (5, 'Rear Camera'),\n",
              " (6, 'Price'),\n",
              " (7, 'Fast Charge')]"
            ]
          },
          "metadata": {
            "tags": []
          },
          "execution_count": 31
        }
      ]
    },
    {
      "cell_type": "markdown",
      "metadata": {
        "id": "HnNCkDxOFxGK"
      },
      "source": [
        "As you can see, the `list()` function when applied on top of the `enumerate()` function \n",
        "\n",
        "- in the case of the `my_dict` dictionary, returns a **list** that is a collection of tuples such that each tuple contains the roll call of every key and the key itself contained in the `my_dict` dictionary. The values of the `my_dict` dictionary are ignored.\n",
        "\n",
        "- in the case of the `vowels_list`, returns a **list** that is a collection of tuples such that each tuple contains the roll call of every item and the item itself contained in the `vowels_list`."
      ]
    },
    {
      "cell_type": "code",
      "metadata": {
        "id": "mB_-H0b46O81",
        "colab": {
          "base_uri": "https://localhost:8080/"
        },
        "outputId": "ba53f3c0-456d-4989-cd8c-361a97db5d7a"
      },
      "source": [
        "# Student Action: Apply the 'enumerate()' function on 'my_dict' dictionary and 'vowels_list'. On top of them apply the 'dict()' function.\n",
        "vowels_list=dict(enumerate(vowels))\n",
        "vowels_list"
      ],
      "execution_count": null,
      "outputs": [
        {
          "output_type": "execute_result",
          "data": {
            "text/plain": [
              "{0: 'a', 1: 'e', 2: 'i', 3: 'o', 4: 'u'}"
            ]
          },
          "metadata": {
            "tags": []
          },
          "execution_count": 32
        }
      ]
    },
    {
      "cell_type": "markdown",
      "metadata": {
        "id": "nLZn8RrJ-Gnp"
      },
      "source": [
        "As you can see, the `dict()` function when applied on top of the `enumerate()` function \n",
        "\n",
        "- in the case of the `my_dict` dictionary, returns a **dictionary** that is a collection of key-value pairs such that each pair contains the roll call of every key and the key itself contained in the `my_dict` dictionary. The values of the `my_dict` dictionary are ignored.\n",
        "\n",
        "- in the case of the `vowels_list`, returns a **dictionary** that is a collection of key-value pairs such that each pair contains the roll call of every item and the item itself contained in the `vowels_list`."
      ]
    },
    {
      "cell_type": "markdown",
      "metadata": {
        "id": "FilhvY39D0wa"
      },
      "source": [
        "---"
      ]
    },
    {
      "cell_type": "markdown",
      "metadata": {
        "id": "DAjse46cTlar"
      },
      "source": [
        "#### Activity 6: The `sorted()` Function\n",
        "\n",
        "If you want to display the items of a tuple in the increasing or decreasing order, then you can apply the `sorted()` function. However, it will return a list instead of a tuple.\n",
        "\n",
        "The `sorted()` function, by-default, arranges the items in the ascending order. To arrange them in the descending order, pass a parameter called `reverse=True` inside the `sorted()` function.\n",
        "\n",
        "**Syntax:** \n",
        "\n",
        "- For ascending order, `sorted(tuple_name)`\n",
        "\n",
        "- For descending order, `sorted(tuple_name, reverse=True)`\n",
        "\n",
        "Let's learn this function with the help of an example.\n"
      ]
    },
    {
      "cell_type": "code",
      "metadata": {
        "id": "MI724bprTtJv"
      },
      "source": [
        "# Student Action: Create a tuple containing 10 random integers ranging between 1 and 50.\n"
      ],
      "execution_count": null,
      "outputs": []
    },
    {
      "cell_type": "code",
      "metadata": {
        "id": "51dhJc4xUF4r"
      },
      "source": [
        "# Student Action: Now display the items of the tuple in the ascending order.\n"
      ],
      "execution_count": null,
      "outputs": []
    },
    {
      "cell_type": "markdown",
      "metadata": {
        "id": "nUZ5f0ylW9o7"
      },
      "source": [
        "As you can see, the items of the `randint_tuple` are displayed in the ascending order but as a list.\n",
        "\n",
        "The same function can also be applied for a Python list with the same syntax."
      ]
    },
    {
      "cell_type": "code",
      "metadata": {
        "id": "AZ5vEigeUK9j"
      },
      "source": [
        "# Student Action: Create a list containing 10 random integers ranging between 100 and 150.\n"
      ],
      "execution_count": null,
      "outputs": []
    },
    {
      "cell_type": "code",
      "metadata": {
        "id": "kmLtpw8SXlU1"
      },
      "source": [
        "# Student Action: Now display the items of the list in the descending order.\n"
      ],
      "execution_count": null,
      "outputs": []
    },
    {
      "cell_type": "markdown",
      "metadata": {
        "id": "ErQmyxiwTkM_"
      },
      "source": [
        "---"
      ]
    },
    {
      "cell_type": "markdown",
      "metadata": {
        "id": "pKSgOpO7IbeY"
      },
      "source": [
        "#### Activity 7: The `zip()` Function^\n",
        "\n",
        "You have already learnt that the `zip()` function can be used to join two or more lists to form a new dictionary and list. The objects need to be a list or a dictionary. Any two different iterable objects of the same length can be joined using the `zip` function. \n",
        "\n",
        "The iterable objects are those objects on which we can apply either a for loop or a while loop. So, if there are $n$ iterable objects and you want to join $r$ objects out of those $n$ objects such that $r \\leq n$ and $n \\ge1$, then you can do that in ${}^nP_r$ ways where $${}^nP_r = \\frac{n!}{(n-r)!}$$ and $$n! = n \\times (n - 1) \\times (n-2) \\dots 3 \\times 2 \\times 1$$\n",
        "\n",
        "Also, $1! = 1$ and $0!=1$\n",
        "\n",
        "E.g., if there are $n=3$ iterable objects (say list, dictionary, tuple) and you want to join $r=2$ of them, then you can join them in $${}^3P_2 = \\frac{3!}{(3-2)!} = \\frac{3 \\times2 \\times 1}{1} = 6 \\space \\text{ways}$$ \n",
        "\n",
        "The 6 possible ways are:\n",
        "\n",
        "1. list, dictionary\n",
        "\n",
        "2. dictionary, list\n",
        "\n",
        "3. list, tuple\n",
        "\n",
        "4. tuple, list\n",
        "\n",
        "5. dictionary, tuple\n",
        "\n",
        "6. tuple, dictionary\n",
        "\n",
        "In the above expression, if $r=n$, i.e., if all of the iterable objects are to be joined using the `zip()` function at a time, then it can be done in $n!$ ways because $${}^nP_n = \\frac{n!}{(n-n)!} = \\frac{n!}{0!} = n!$$\n",
        "\n",
        "E.g., if you want to join a list, a dictionary and a tuple at once, then you can join them in $3! = 3\\times 2 \\times 1 = 6$ ways. In this case, the 6 possible ways are:\n",
        "\n",
        "1. list, dictionary, tuple\n",
        "\n",
        "2. list, tuple, dictionary\n",
        "\n",
        "3. dictionary, list, tuple\n",
        "\n",
        "4. dictionary, tuple, list\n",
        "\n",
        "5. tuple, list, dictionary\n",
        "\n",
        "6. tuple, dictionary, list\n",
        "\n",
        "\n",
        "**Note:** You don't need to know this theory to apply the `zip()` function. It is just an example to demonstrate that mathematics is definitely applied in real-life problems especially in the field of computer applications. "
      ]
    },
    {
      "cell_type": "markdown",
      "metadata": {
        "id": "kUKWBCh4Pv99"
      },
      "source": [
        "Let's create a NumPy array containing the years from 1991 to 2018 and join it with the `india_gdp_1991_2018` tuple to form a new tuple using the `zip()` function."
      ]
    },
    {
      "cell_type": "code",
      "metadata": {
        "id": "tUW6-rH7I9zT"
      },
      "source": [
        "# Student Action: Create a NumPy array containing the year from 1991 to 2018 and join it with the 'india_gdp_1991_2018' tuple.\n"
      ],
      "execution_count": null,
      "outputs": []
    },
    {
      "cell_type": "markdown",
      "metadata": {
        "id": "wGHCnbXxQGSg"
      },
      "source": [
        "Repeat the same exercise by interchanging the positions of the array and the tuple inside the `zip()` function."
      ]
    },
    {
      "cell_type": "code",
      "metadata": {
        "id": "wEl_s_SRQT09"
      },
      "source": [
        "# Repeat the same exercise by interchanging the positions of the array and the tuple inside the zip() function.\n"
      ],
      "execution_count": null,
      "outputs": []
    },
    {
      "cell_type": "markdown",
      "metadata": {
        "id": "xao0jZVyQiFo"
      },
      "source": [
        "This time, the year values appear after the GDP values in the newly formed tuple."
      ]
    },
    {
      "cell_type": "markdown",
      "metadata": {
        "id": "AZJWEnkBIavJ"
      },
      "source": [
        "---"
      ]
    },
    {
      "cell_type": "markdown",
      "metadata": {
        "id": "ws9Z6_Z3oM86"
      },
      "source": [
        "#### Activity 8: Performance^^^\n",
        "\n",
        "Tuples are faster than lists. This is evident from the fact that tuples are immutable and have fewer functions as compared to the lists.\n",
        "\n",
        "Let's find out how fast tuples are compared to lists by recording the time taken to create 1 million tuples and 1 million lists having the identical items and identical lengths."
      ]
    },
    {
      "cell_type": "code",
      "metadata": {
        "id": "y043JEExodlj"
      },
      "source": [
        "# Student Action: Run the code below.\n",
        "import timeit\n",
        "\n",
        "tuple_time = timeit.timeit(stmt=\"(1, 2, 3, 4, 5, 6, 7, 8, 9, 10)\", number=1000000)\n",
        "list_time = timeit.timeit(stmt=\"[i for i in range(1, 11)]\", number=1000000)\n",
        "\n",
        "print(\"Time taken to create 1 million tuples is\", round(tuple_time, 4), \"seconds.\",\n",
        "      \"\\nTime taken to create 1 million lists is\", round(list_time, 4), \"seconds.\")"
      ],
      "execution_count": null,
      "outputs": []
    },
    {
      "cell_type": "markdown",
      "metadata": {
        "id": "LTyV8hbTs0Wl"
      },
      "source": [
        "That's it. We have covered everything we need regarding tuples. In the next class, we will learn string operations."
      ]
    },
    {
      "cell_type": "markdown",
      "metadata": {
        "id": "M3PJwH4hzQOD"
      },
      "source": [
        "---"
      ]
    }
  ]
}
