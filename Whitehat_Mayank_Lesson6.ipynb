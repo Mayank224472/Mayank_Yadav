{
  "nbformat": 4,
  "nbformat_minor": 0,
  "metadata": {
    "colab": {
      "name": "20200810_Mayank_Lesson6",
      "provenance": [],
      "collapsed_sections": [],
      "include_colab_link": true
    },
    "kernelspec": {
      "name": "python3",
      "display_name": "Python 3"
    }
  },
  "cells": [
    {
      "cell_type": "markdown",
      "metadata": {
        "id": "view-in-github",
        "colab_type": "text"
      },
      "source": [
        "<a href=\"https://colab.research.google.com/github/Mayank224472/Mayank224472/blob/main/Whitehat_Mayank_Lesson6.ipynb\" target=\"_parent\"><img src=\"https://colab.research.google.com/assets/colab-badge.svg\" alt=\"Open In Colab\"/></a>"
      ]
    },
    {
      "cell_type": "markdown",
      "metadata": {
        "id": "7LlG_PPFjJUz"
      },
      "source": [
        "# Lesson 6: Python Lists II"
      ]
    },
    {
      "cell_type": "markdown",
      "metadata": {
        "id": "de8Z4lE5slbz"
      },
      "source": [
        "### Teacher-Student Activities\n",
        "\n",
        "In the previous lesson, we learnt two more functions of Python Lists. They are `append()` and `count()`. In this lesson, we will learn Python lists in more detail."
      ]
    },
    {
      "cell_type": "markdown",
      "metadata": {
        "id": "zQbB7jcGR-ll"
      },
      "source": [
        "---"
      ]
    },
    {
      "cell_type": "markdown",
      "metadata": {
        "id": "bQWxe7FVzpnK"
      },
      "source": [
        "#### Activity 1: Multiple Data Types\n",
        "\n",
        "A Python list can store values of different types. Recall that in the trial class we created 4 different variables to store the attributes of a planet.  \n",
        "\n",
        "||Mercury|\n",
        "|-|-|\n",
        "|Diameter (km)|4879|\n",
        "|Gravity ($m/s^2$)|3.7|\n",
        "|Ring|No|\n",
        "\n",
        "\n",
        "Let's store the name of a planet, its diameter, gravity and whether it has a ring or not in a Python list.\n",
        "\n",
        "**Q: But before that do you remember the different data-types in python?**\n",
        "\n",
        "Ans: There are four different data-types. They are:\n",
        "1. `int` - a numeric value without a digit after the decimal point. \n",
        "For example: `13, -244` etc. \n",
        "\n",
        "2. `float` - a numeric value with a digit after the decimal point. \n",
        "For example: `2.71, -3.14898` etc.\n",
        "\n",
        "    **Note:** Both the `int` and `float` values can be positive or negative or `0`.\n",
        "\n",
        "3. `str` (stands for string) - any value enclosed within single (`' '`) or double (`\" \"`) quotes. For example: `'Windows 10', '15 August 1947'` etc.\n",
        "\n",
        "4. `bool` (stands for boolean) - either `True` or `False`.\n"
      ]
    },
    {
      "cell_type": "code",
      "metadata": {
        "id": "Zh7dKWu3zvgS",
        "colab": {
          "base_uri": "https://localhost:8080/",
          "height": 33
        },
        "outputId": "738f4bfa-94d5-4d6e-9313-d8ce635cb3a1"
      },
      "source": [
        "# Student Action: Create a list which contains \"Mercury\", its diameter, gravity and whether it has a ring or not.\n",
        "Planet=[\"Mercury\",4879,3.7,False]\n",
        "Planet"
      ],
      "execution_count": null,
      "outputs": [
        {
          "output_type": "execute_result",
          "data": {
            "text/plain": [
              "['Mercury', 4879, 3.7, False]"
            ]
          },
          "metadata": {
            "tags": []
          },
          "execution_count": 1
        }
      ]
    },
    {
      "cell_type": "markdown",
      "metadata": {
        "id": "HCSXokBQzz_M"
      },
      "source": [
        "---"
      ]
    },
    {
      "cell_type": "markdown",
      "metadata": {
        "id": "b449Ffvhz0-D"
      },
      "source": [
        "#### Activity 2: List Length\n",
        "To see how many items are stored in a list, you can use a function called `len()`.\n"
      ]
    },
    {
      "cell_type": "code",
      "metadata": {
        "id": "QmAry8Iyz3hM",
        "colab": {
          "base_uri": "https://localhost:8080/",
          "height": 33
        },
        "outputId": "ba06e6d5-5230-4f50-f1f0-ca4d7cb8244f"
      },
      "source": [
        "# Student Action: Find the number of items stored in the 'planet' list.\n",
        "len(Planet)"
      ],
      "execution_count": null,
      "outputs": [
        {
          "output_type": "execute_result",
          "data": {
            "text/plain": [
              "4"
            ]
          },
          "metadata": {
            "tags": []
          },
          "execution_count": 2
        }
      ]
    },
    {
      "cell_type": "markdown",
      "metadata": {
        "id": "VrrdIxJjzja0"
      },
      "source": [
        "---"
      ]
    },
    {
      "cell_type": "markdown",
      "metadata": {
        "id": "h-foVuZpz9cq"
      },
      "source": [
        "#### Activity 3: List Indexing And The `for` Loop^^^\n",
        "A list index is similar to your roll number in your class in the school. But here's a catch: The roll number of the first student in your class will be `1`. On the other hand, the roll number of the first item in a Python list is `0`. \n",
        "\n",
        "For example: In the 'planet' list, the first item is `\"Mercury\"` so its index is `0`.\n",
        "\n",
        "To get an item located at each index in a list, just write the list name followed by the square brackets `[]` and inside the brackets, enter the index number.\n",
        "\n",
        "**Syntax:** `list_name[index_number]`\n",
        "\n",
        "**Note:** The list indexing concept will be used throughout this course. So practice it as much as you can. It is a very simple concept to learn."
      ]
    },
    {
      "cell_type": "code",
      "metadata": {
        "id": "-5IyZLF2z-Uz",
        "colab": {
          "base_uri": "https://localhost:8080/",
          "height": 87
        },
        "outputId": "e003502d-5df7-4193-a744-a0e8bc953fb2"
      },
      "source": [
        "# Teacher Action: Print the items at each index in the 'planet' list.\n",
        "Planet=[\"Mercury\",4879,3.7,False]\n",
        "print(\"1st item\",Planet[0])\n",
        "print(\"2nd item\",Planet[1])\n",
        "print(\"3rd item\",Planet[2])\n",
        "print(\"4th item\",Planet[3])"
      ],
      "execution_count": null,
      "outputs": [
        {
          "output_type": "stream",
          "text": [
            "1st item Mercury\n",
            "2nd item 4879\n",
            "3rd item 3.7\n",
            "4th item False\n"
          ],
          "name": "stdout"
        }
      ]
    },
    {
      "cell_type": "markdown",
      "metadata": {
        "id": "JOpx4Gje0BkH"
      },
      "source": [
        "Imagine that you have a list containing `100` items. Getting each item of that list using this method will not be feasible. In such cases, you can retrieve every item using a `for` loop.\n",
        "\n",
        "Let's first learn the `for` loop. We will print the first `10` natural numbers using a `for` loop. Once we learn how a `for` loop works, we will retrieve all the items of the `planet` list using the list indexing method and through the `for` loop.\n",
        "\n",
        "In the `for` loop, we will use a ready-made function called `range()` which generates consecutive natural numbers between two specific numbers."
      ]
    },
    {
      "cell_type": "code",
      "metadata": {
        "id": "5SbklN-t0EDl",
        "colab": {
          "base_uri": "https://localhost:8080/",
          "height": 212
        },
        "outputId": "1a228ced-806f-4173-8826-389a752cdc4c"
      },
      "source": [
        "# Teacher Action: Print the first 10 natural numbers using the 'for' loop.\n",
        "for i in range(1,12):\n",
        "  print(i)\n"
      ],
      "execution_count": null,
      "outputs": [
        {
          "output_type": "stream",
          "text": [
            "1\n",
            "2\n",
            "3\n",
            "4\n",
            "5\n",
            "6\n",
            "7\n",
            "8\n",
            "9\n",
            "10\n",
            "11\n"
          ],
          "name": "stdout"
        }
      ]
    },
    {
      "cell_type": "markdown",
      "metadata": {
        "id": "9Ox6XpAb0Exy"
      },
      "source": [
        "In natural language, the above code can be read as *for every number in the range of `1` to `11` and except `11`, print a number.* So, in the range of `1` to `11` and except `11`, there are `10` numbers starting from `1` to `10`. So, all these numbers in this range will get printed one-by-one. \n",
        "\n",
        "Here, the `range()` function is used to define a range of numbers. It takes two numbers as input; a **starting number** and an **ending number** to define a range. However, the ending number is used just as a stopping point. The ending number is **NOT** included in the range. \n",
        "\n",
        "**Note:** \n",
        "\n",
        "1. If you don't give a starting point in the `range()` function, then Python assumes that your starting point is `0`.\n",
        "\n",
        "2. If you enter `n` as an input to the `range()` function, then it will generate all the numbers starting from `0` till `n - 1`. For e.g., if `n = 5`, then the `range()` function will generate five numbers starting from `0` till `4`.\n",
        "\n",
        "Now, let's retrieve all the values of the `planet` list using the `for` loop."
      ]
    },
    {
      "cell_type": "code",
      "metadata": {
        "id": "C-CoERDG0LUN",
        "colab": {
          "base_uri": "https://localhost:8080/",
          "height": 87
        },
        "outputId": "c2a7a99c-cd55-4981-93db-ba6a53557074"
      },
      "source": [
        "# Teacher Action: Using 'for' loop, print each element of the 'planet' list.\n",
        "# 1. First, find out how many items are there in the 'planet' list and store it in the variable called num_items.\n",
        "num_items=len(Planet)\n",
        "# 2. Now iterate through each item using the for loop.\n",
        "for i in range(num_items):\n",
        "  print(Planet[i])\n",
        "  # 3. Now, write the print() function with 'i' and 'planet[i]' as inputs.\n"
      ],
      "execution_count": null,
      "outputs": [
        {
          "output_type": "stream",
          "text": [
            "Mercury\n",
            "4879\n",
            "3.7\n",
            "False\n"
          ],
          "name": "stdout"
        }
      ]
    },
    {
      "cell_type": "markdown",
      "metadata": {
        "id": "0UnmVNi80NR5"
      },
      "source": [
        "Here:\n",
        "\n",
        "- The value of `num_items` is `4` because the length of the `planet` list is `4` as it contains `4` items. \n",
        "\n",
        "- The `range()` function, takes `4` as input and generates numbers from `0` to `3`. The number `4` is excluded.\n",
        "\n",
        "- The value of `i` also goes from `0` to `3`. Hence, `planet[i]` goes from `planet[0]` to `planet[3]`. Essentially, the variable `i` stores the values generated by the `range()` function, but only one value at-a-time.\n",
        "\n",
        "- So, for every value of `i` the `print()` function takes `planet[i]` as input and prints each item contained in the planet list.\n",
        "\n",
        "There is another way to get all the items from a Python list using a `for` loop. "
      ]
    },
    {
      "cell_type": "code",
      "metadata": {
        "id": "9FBF_dDp0V-b",
        "colab": {
          "base_uri": "https://localhost:8080/",
          "height": 87
        },
        "outputId": "967bbf0a-7802-408c-8945-ccea00aa0244"
      },
      "source": [
        "# Teacher Action: Demonstrate another way of getting all the items from a list using the 'for' loop.\n",
        "for i in Planet:\n",
        "  print(i)"
      ],
      "execution_count": null,
      "outputs": [
        {
          "output_type": "stream",
          "text": [
            "Mercury\n",
            "4879\n",
            "3.7\n",
            "False\n"
          ],
          "name": "stdout"
        }
      ]
    },
    {
      "cell_type": "markdown",
      "metadata": {
        "id": "aSMbRQAF0ZLW"
      },
      "source": [
        "Here, the variable `i` does not take the numeric value because the `range()` function is not used here. So, the value of `i` goes from the first item of the list till the last item in the list.\n",
        "\n",
        "The second method will not work if you want to retrieve all the items from a list in the reverse order. Hence, you will have to use the first method.\n",
        "\n",
        "So, in this case, using the `for` loop with the `range()` function, retrieve all the items of the `planet` list in the reverse order."
      ]
    },
    {
      "cell_type": "code",
      "metadata": {
        "id": "ZjGkCqs50bPf",
        "colab": {
          "base_uri": "https://localhost:8080/",
          "height": 87
        },
        "outputId": "96bd795d-0746-47b4-f857-00973f443945"
      },
      "source": [
        "# Student Action: Print every item of the 'planet' in the reverse order, using the 'for' loop.\n",
        "n=len(Planet)\n",
        "for i in range(n):\n",
        "  print(Planet[n-1-i])\n"
      ],
      "execution_count": null,
      "outputs": [
        {
          "output_type": "stream",
          "text": [
            "False\n",
            "3.7\n",
            "4879\n",
            "Mercury\n"
          ],
          "name": "stdout"
        }
      ]
    },
    {
      "cell_type": "markdown",
      "metadata": {
        "id": "2mfUa8mDx1t-"
      },
      "source": [
        "In the above code, the value of `n` is `4`. So, the `range()` function generates the numbers `0` to `3`. The value of `i` will also go from `0` to `3`. Thus, `planet[n - 1 - i]` will go from `planet[3 - 0]` to `planet[3 - 3]`.\n",
        "\n",
        "And this is why we get the items of the `planet` list in the reverse order.\n",
        "\n",
        "**Negative Indexing:**\n",
        "\n",
        "You can also use negative indices to get items from a list. They are helpful in retrieving items from a list in the reverse order.\n",
        "\n",
        "The negative indices begin with `-1` and go till `-n` where `n` is the number of items in a list.\n",
        "\n",
        "The last item in a list is located at `-1` index. Similarly, the first item in a list is located at `-n` index.\n",
        "\n",
        "<img src='https://student-datasets-bucket.s3.ap-south-1.amazonaws.com/images/indexing_in_python_lists.png'>\n",
        "\n",
        "\n",
        "\n",
        "\n"
      ]
    },
    {
      "cell_type": "code",
      "metadata": {
        "id": "eNow53vbeVyj",
        "colab": {
          "base_uri": "https://localhost:8080/",
          "height": 82
        },
        "outputId": "54a93033-8d00-433a-b0dd-eb07d01d42c9"
      },
      "source": [
        "# Student Action: Use the negative indices to retrieve all the items from the 'planet' list.\n",
        "print(\"4th item\", Planet[-1])\n",
        "print(\"3rd item\", Planet[-2])\n",
        "print(\"2nd item\", Planet[-3])\n",
        "print(\"1st item\", Planet[-4])"
      ],
      "execution_count": null,
      "outputs": [
        {
          "output_type": "stream",
          "text": [
            "4th item False\n",
            "3rd item 3.7\n",
            "2nd item 4879\n",
            "1st item Mercury\n"
          ],
          "name": "stdout"
        }
      ]
    },
    {
      "cell_type": "code",
      "metadata": {
        "id": "bDQ_d0F5fEdn",
        "colab": {
          "base_uri": "https://localhost:8080/",
          "height": 82
        },
        "outputId": "9fb392e7-e5f7-4b8f-f55e-7b0b7aea6954"
      },
      "source": [
        "# Student Action: Using the 'for' loop and negative indices, retrieve all the items from the 'planet' list in the reverse order.\n",
        "n=len(Planet)\n",
        "for i in range(1,n+1):\n",
        "  print(Planet[-i])"
      ],
      "execution_count": null,
      "outputs": [
        {
          "output_type": "stream",
          "text": [
            "False\n",
            "3.7\n",
            "4879\n",
            "Mercury\n"
          ],
          "name": "stdout"
        }
      ]
    },
    {
      "cell_type": "markdown",
      "metadata": {
        "id": "MfTs0p63z8fE"
      },
      "source": [
        "---"
      ]
    },
    {
      "cell_type": "markdown",
      "metadata": {
        "id": "ZAylC_zL6ugR"
      },
      "source": [
        "#### Activity 4: List Slicing\n",
        "Suppose that I have a list of `10` cars that I own.\n",
        "\n",
        "`my_cars = ['Chrysler', 'Lamborghini', 'Bugatti', 'Porsche', 'Ford', 'Rolls Royce', 'Suzuki', 'Bentley', 'Lexus', 'Tesla']`\n",
        "\n",
        "Let's say, I want to see a list of only first five cars, then I can use the concept of **list slicing**. \n",
        "\n",
        "To slice a list, write the name of the list followed by square brackets and inside the square brackets, enter the **starting point** (in this case it is zero) followed by a colon sign (`:`) and the **ending point**.\n",
        "\n",
        "**Syntax:** `list_name[start_index:end_index]`\n",
        "\n",
        "Note that the item at the `end-index` will not be a part of the sub-list."
      ]
    },
    {
      "cell_type": "code",
      "metadata": {
        "id": "AQ_0cIRS0yPB",
        "colab": {
          "base_uri": "https://localhost:8080/",
          "height": 34
        },
        "outputId": "a6dfe907-a0e4-4d7e-97a0-122cf2cb82a6"
      },
      "source": [
        "# Teacher Action: Retrieve the items from a list using the slicing method by mentioning both the starting and ending indices.\n",
        "my_cars = ['Chrysler', 'Lamborghini', 'Bugatti', 'Porsche', 'Ford', 'Rolls Royce', 'Suzuki', 'Bentley', 'Lexus', 'Tesla']\n",
        "my_cars[0:6]"
      ],
      "execution_count": null,
      "outputs": [
        {
          "output_type": "execute_result",
          "data": {
            "text/plain": [
              "['Chrysler', 'Lamborghini', 'Bugatti', 'Porsche', 'Ford', 'Rolls Royce']"
            ]
          },
          "metadata": {
            "tags": []
          },
          "execution_count": 11
        }
      ]
    },
    {
      "cell_type": "markdown",
      "metadata": {
        "id": "lJ9Hizr40RPE"
      },
      "source": [
        "In `my_cars[0:5]` sub-list, the item at index `5` will not be included in the sub-list. The sub-list will contain the items ranging from indices `0` to `4` from the parent list.\n",
        "\n",
        "If you do not specify the starting point, then Python assumes that you want to get the items starting from the first item of the list."
      ]
    },
    {
      "cell_type": "code",
      "metadata": {
        "id": "c0z7tD64pwDg",
        "colab": {
          "base_uri": "https://localhost:8080/",
          "height": 34
        },
        "outputId": "78029816-d65c-4812-f92f-1774c8541055"
      },
      "source": [
        "# Teacher Action: Retrieve the first 5 items from the 'my_cars' Python list without mentioning the starting index.\n",
        "my_cars[:5]"
      ],
      "execution_count": null,
      "outputs": [
        {
          "output_type": "execute_result",
          "data": {
            "text/plain": [
              "['Chrysler', 'Lamborghini', 'Bugatti', 'Porsche', 'Ford']"
            ]
          },
          "metadata": {
            "tags": []
          },
          "execution_count": 12
        }
      ]
    },
    {
      "cell_type": "markdown",
      "metadata": {
        "id": "L0EkhHikprK5"
      },
      "source": [
        "Now, using the list slicing concept, you print all the cars stored in the `my_cars` list starting from `'Lamborghini'` to `'Bentley'`."
      ]
    },
    {
      "cell_type": "code",
      "metadata": {
        "id": "iEiOH3rGCIHb",
        "colab": {
          "base_uri": "https://localhost:8080/",
          "height": 131
        },
        "outputId": "cfd35856-39ae-4d45-8859-8507c8a2990b"
      },
      "source": [
        "# Student Action: Write a code to see all the cars in the list starting from 'Lamborghini' to 'Bentley'.\n",
        "my_cars = ['Chrysler', 'Lamborghini', 'Bugatti', 'Porsche', 'Ford', 'Rolls Royce', 'Suzuki', 'Bentley', 'Lexus', 'Tesla']\n",
        "my_cars[1:8]"
      ],
      "execution_count": null,
      "outputs": [
        {
          "output_type": "execute_result",
          "data": {
            "text/plain": [
              "['Lamborghini',\n",
              " 'Bugatti',\n",
              " 'Porsche',\n",
              " 'Ford',\n",
              " 'Rolls Royce',\n",
              " 'Suzuki',\n",
              " 'Bentley']"
            ]
          },
          "metadata": {
            "tags": []
          },
          "execution_count": 9
        }
      ]
    },
    {
      "cell_type": "markdown",
      "metadata": {
        "id": "dFxlkJq6rjaZ"
      },
      "source": [
        "You can also skip intermediate items while retrieving a few other items from a list. \n",
        "\n",
        "Suppose you want to retrieve alternate items from a list starting from the first item, then you can use the list slicing method. \n",
        "\n",
        "Inside the square brackets, after the ending point, you have to include another colon (`:`) sign followed by the number of items to be skipped.\n",
        "\n",
        "**Syntax:** `list_name[start_index:end_index:num_of_items_to_be_skipped]`"
      ]
    },
    {
      "cell_type": "code",
      "metadata": {
        "id": "TKMHaHBHo8Gy",
        "colab": {
          "base_uri": "https://localhost:8080/",
          "height": 33
        },
        "outputId": "fe420484-27dc-46d2-a4b7-38d963ef3135"
      },
      "source": [
        "# Student Action: Retrieve all the alternate items from the 'my_cars' list.\n",
        "my_cars[0:11:2]"
      ],
      "execution_count": null,
      "outputs": [
        {
          "output_type": "execute_result",
          "data": {
            "text/plain": [
              "['Chrysler', 'Bugatti', 'Ford', 'Suzuki', 'Lexus']"
            ]
          },
          "metadata": {
            "tags": []
          },
          "execution_count": 10
        }
      ]
    },
    {
      "cell_type": "markdown",
      "metadata": {
        "id": "ex4bN7z7s8Zd"
      },
      "source": [
        "**Note:** If you are retrieving all the items from a list, then you actually do not have to mention the start and end indices. Just put the colon (`:`) signs and Python will know that you wish to retrieve all the items. \n",
        "\n",
        "To retrieve all the items from a list in the reverse order, you can also use the list slicing method with a negative index `-1` after the second colon (`:`) sign. "
      ]
    },
    {
      "cell_type": "code",
      "metadata": {
        "id": "1b50S7aptGxL",
        "colab": {
          "base_uri": "https://localhost:8080/",
          "height": 180
        },
        "outputId": "8941c609-6694-49a7-94f4-5806481a76a3"
      },
      "source": [
        "# Student Action: Retrieve all the items from the 'my_cars' list in the reverse order.\n",
        "my_cars[::-1]"
      ],
      "execution_count": null,
      "outputs": [
        {
          "output_type": "execute_result",
          "data": {
            "text/plain": [
              "['Tesla',\n",
              " 'Lexus',\n",
              " 'Bentley',\n",
              " 'Suzuki',\n",
              " 'Rolls Royce',\n",
              " 'Ford',\n",
              " 'Porsche',\n",
              " 'Bugatti',\n",
              " 'Lamborghini',\n",
              " 'Chrysler']"
            ]
          },
          "metadata": {
            "tags": []
          },
          "execution_count": 11
        }
      ]
    },
    {
      "cell_type": "markdown",
      "metadata": {
        "id": "QFmDbPBs0ye8"
      },
      "source": [
        "---"
      ]
    },
    {
      "cell_type": "markdown",
      "metadata": {
        "id": "R5OAAjHrD-N-"
      },
      "source": [
        "#### Activity 5: Index Of An Item\n",
        "\n",
        "Suppose that you want to find the index of `Ford` in the `my_cars` list, then you can use the `index()` function.\n",
        "\n",
        "To find an index of an item, write the name of the list followed by the dot `(.)` operator followed by the `index()` function. Inside the `index()` function, enter the item whose index you wish to find.\n",
        "\n",
        "**Syntax:** `list_name.index(item)`"
      ]
    },
    {
      "cell_type": "code",
      "metadata": {
        "id": "ZNCl8haaDgfZ",
        "colab": {
          "base_uri": "https://localhost:8080/",
          "height": 33
        },
        "outputId": "b690ba21-71b1-47c5-d723-dfeb8cec5ef6"
      },
      "source": [
        "# Student Action: Find the index of 'Ford'.\n",
        "my_cars.index('Ford')"
      ],
      "execution_count": null,
      "outputs": [
        {
          "output_type": "execute_result",
          "data": {
            "text/plain": [
              "4"
            ]
          },
          "metadata": {
            "tags": []
          },
          "execution_count": 12
        }
      ]
    },
    {
      "cell_type": "markdown",
      "metadata": {
        "id": "DGeWh7-DJE0h"
      },
      "source": [
        "So, the item `'Ford'` exists at the `index = 4` in the `my_cars` list."
      ]
    },
    {
      "cell_type": "code",
      "metadata": {
        "id": "ORwI68ilw7KM",
        "colab": {
          "base_uri": "https://localhost:8080/",
          "height": 33
        },
        "outputId": "6bfb9921-9644-4f9b-8255-98442e67ff0f"
      },
      "source": [
        "# Student Action: Find the index of 'Rolls Royce'.\n",
        "my_cars.index('Rolls Royce')"
      ],
      "execution_count": null,
      "outputs": [
        {
          "output_type": "execute_result",
          "data": {
            "text/plain": [
              "5"
            ]
          },
          "metadata": {
            "tags": []
          },
          "execution_count": 14
        }
      ]
    },
    {
      "cell_type": "markdown",
      "metadata": {
        "id": "lLfdxoEtJO0l"
      },
      "source": [
        "And the item `'Rolls Royce'` exists at the `index = 5` in the `my_cars` list."
      ]
    },
    {
      "cell_type": "markdown",
      "metadata": {
        "id": "-5Y_OPoBGTwZ"
      },
      "source": [
        "---"
      ]
    },
    {
      "cell_type": "markdown",
      "metadata": {
        "id": "Z5pRYBB0CedN"
      },
      "source": [
        "#### Activity 6: Removing An Item\n",
        "\n",
        "Let's say you sold your `'Bentley'` car to your friend. So, you will have to remove it from the list of your cars. \n",
        "\n",
        "To remove an item from a list, use the `remove()` function followed by the item that you wish to remove.\n",
        "\n",
        "**Syntax:** `list_name.remove(item)`"
      ]
    },
    {
      "cell_type": "code",
      "metadata": {
        "id": "u_tvV0GzC4Nn",
        "colab": {
          "base_uri": "https://localhost:8080/",
          "height": 176
        },
        "outputId": "603134e6-8eab-4ba9-fccc-85b5007a3bb1"
      },
      "source": [
        "# Student Action: Remove 'Bentley' from the 'my_cars' list.\n",
        "my_cars.remove('Bentley')\n",
        "my_cars"
      ],
      "execution_count": null,
      "outputs": [
        {
          "output_type": "execute_result",
          "data": {
            "text/plain": [
              "['Chrysler',\n",
              " 'Lamborghini',\n",
              " 'Bugatti',\n",
              " 'Porsche',\n",
              " 'Ford',\n",
              " 'Rolls Royce',\n",
              " 'Suzuki',\n",
              " 'Lexus',\n",
              " 'Tesla']"
            ]
          },
          "metadata": {
            "tags": []
          },
          "execution_count": 13
        }
      ]
    },
    {
      "cell_type": "markdown",
      "metadata": {
        "id": "TdMqCMvbDQ7v"
      },
      "source": [
        "Now, `'Bentley'` is a not part of `my_cars` list anymore."
      ]
    },
    {
      "cell_type": "markdown",
      "metadata": {
        "id": "WxeRaXtGD3D8"
      },
      "source": [
        "---"
      ]
    },
    {
      "cell_type": "markdown",
      "metadata": {
        "id": "HWmHX1zpD44h"
      },
      "source": [
        "#### Activity 7: The `pop()` Function^\n",
        "\n",
        "You can also remove an item from a list using another function called `pop()`. It has two behaviours.\n",
        "\n",
        "**Behaviour I:** If you do not specify any input, it will always remove only the last item from a Python list.\n",
        "\n",
        "**Syntax:** `list_name.pop()`"
      ]
    },
    {
      "cell_type": "code",
      "metadata": {
        "id": "iJv5JtPcD4Hb",
        "colab": {
          "base_uri": "https://localhost:8080/",
          "height": 147
        },
        "outputId": "23b57dd5-6dc8-4e97-e1af-1aeb00c817c2"
      },
      "source": [
        "# Student Action: Remove the last item from the 'my_cars' list using the 'pop()' function.\n",
        "my_cars.pop()\n",
        "my_cars"
      ],
      "execution_count": null,
      "outputs": [
        {
          "output_type": "execute_result",
          "data": {
            "text/plain": [
              "['Chrysler',\n",
              " 'Lamborghini',\n",
              " 'Bugatti',\n",
              " 'Porsche',\n",
              " 'Ford',\n",
              " 'Rolls Royce',\n",
              " 'Suzuki',\n",
              " 'Lexus']"
            ]
          },
          "metadata": {
            "tags": []
          },
          "execution_count": 18
        }
      ]
    },
    {
      "cell_type": "markdown",
      "metadata": {
        "id": "Tbc1cvi3TWAc"
      },
      "source": [
        "**Behaviour II:** If you want to remove an item from a list located at a specific index, then pass the index of that item as an input to the `pop()` function.\n",
        "\n",
        "**Syntax:** `list_name.pop(item_index)`"
      ]
    },
    {
      "cell_type": "code",
      "metadata": {
        "id": "mdKuXcLQTVcS",
        "colab": {
          "base_uri": "https://localhost:8080/",
          "height": 131
        },
        "outputId": "3c9e1f1c-4f22-4c37-a78e-765a5f28ad5d"
      },
      "source": [
        "# Student Action: Remove the item at 'index = 3' from the 'my_cars' list using the 'pop()' function.\n",
        "my_cars.pop(3)\n",
        "my_cars"
      ],
      "execution_count": null,
      "outputs": [
        {
          "output_type": "execute_result",
          "data": {
            "text/plain": [
              "['Chrysler',\n",
              " 'Lamborghini',\n",
              " 'Bugatti',\n",
              " 'Ford',\n",
              " 'Rolls Royce',\n",
              " 'Suzuki',\n",
              " 'Lexus']"
            ]
          },
          "metadata": {
            "tags": []
          },
          "execution_count": 19
        }
      ]
    },
    {
      "cell_type": "markdown",
      "metadata": {
        "id": "wGbMbNgLEAaF"
      },
      "source": [
        "---"
      ]
    },
    {
      "cell_type": "markdown",
      "metadata": {
        "id": "6MbJIuLm2mru"
      },
      "source": [
        "#### Activity 8: Item Replacement^^\n",
        "\n",
        "You can replace an existing item in a list with a new item. Suppose I exchanged my `Suzuki` car with a `McLaren` car. So, I need to update `my_cars` list accordingly.\n",
        "\n",
        "To replace an item, first get the index of that item. Then using the list indexing method, replace the existing item with the new one.\n",
        "\n",
        "**Syntax:** `list_name[list_name.index('current_item')] = new_item`"
      ]
    },
    {
      "cell_type": "code",
      "metadata": {
        "id": "rUdiT9wr3lXk",
        "colab": {
          "base_uri": "https://localhost:8080/",
          "height": 176
        },
        "outputId": "ca83ae2b-acc8-4fc4-a132-587e2840574e"
      },
      "source": [
        "# Student Action: Replace 'Suzuki' with 'McLaren' in the 'my_cars' list.\n",
        "index_of_suzuki=my_cars.index('Suzuki')\n",
        "my_cars[index_of_suzuki]='Mclaren'\n",
        "my_cars\n"
      ],
      "execution_count": null,
      "outputs": [
        {
          "output_type": "execute_result",
          "data": {
            "text/plain": [
              "['Chrysler',\n",
              " 'Lamborghini',\n",
              " 'Bugatti',\n",
              " 'Porsche',\n",
              " 'Ford',\n",
              " 'Rolls Royce',\n",
              " 'Mclaren',\n",
              " 'Lexus',\n",
              " 'Tesla']"
            ]
          },
          "metadata": {
            "tags": []
          },
          "execution_count": 14
        }
      ]
    },
    {
      "cell_type": "markdown",
      "metadata": {
        "id": "U853vHUg4IG4"
      },
      "source": [
        "As you can see, the `'Suzuki'` car has been replaced by `'McLaren'` using the list indexing method.\n",
        "\n",
        "Similarly, you replace `'Lexus'` with `'Aston Martin'` using the list indexing method."
      ]
    },
    {
      "cell_type": "code",
      "metadata": {
        "id": "crN7kFwW7v2A",
        "colab": {
          "base_uri": "https://localhost:8080/",
          "height": 131
        },
        "outputId": "1525fd1b-de6f-4e94-8cf9-96855f63a1aa"
      },
      "source": [
        "# Student Action: Replace 'Lexus' with 'Aston Martin' in the my_cars list.\n",
        "my_cars[my_cars.index('Lexus')] = 'Aston Martin'\n",
        "my_cars"
      ],
      "execution_count": null,
      "outputs": [
        {
          "output_type": "execute_result",
          "data": {
            "text/plain": [
              "['Chrysler',\n",
              " 'Lamborghini',\n",
              " 'Bugatti',\n",
              " 'Ford',\n",
              " 'Rolls Royce',\n",
              " 'Suzuki',\n",
              " 'Aston Martin']"
            ]
          },
          "metadata": {
            "tags": []
          },
          "execution_count": 21
        }
      ]
    },
    {
      "cell_type": "markdown",
      "metadata": {
        "id": "EtZRRJJq8U9D"
      },
      "source": [
        "As you can see, the `'Lexus'` car has been replaced by `'Aston Martin'` using the list indexing method."
      ]
    },
    {
      "cell_type": "markdown",
      "metadata": {
        "id": "Y_pSI5rb8a7y"
      },
      "source": [
        "---"
      ]
    }
  ]
}