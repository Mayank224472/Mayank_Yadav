{
  "nbformat": 4,
  "nbformat_minor": 0,
  "metadata": {
    "colab": {
      "name": "20200905_Mayank_Lesson12",
      "provenance": [],
      "collapsed_sections": [],
      "include_colab_link": true
    },
    "kernelspec": {
      "name": "python3",
      "display_name": "Python 3"
    }
  },
  "cells": [
    {
      "cell_type": "markdown",
      "metadata": {
        "id": "view-in-github",
        "colab_type": "text"
      },
      "source": [
        "<a href=\"https://colab.research.google.com/github/Mayank224472/Mayank224472/blob/main/Whitehat_Mayank_Lesson12.ipynb\" target=\"_parent\"><img src=\"https://colab.research.google.com/assets/colab-badge.svg\" alt=\"Open In Colab\"/></a>"
      ]
    },
    {
      "cell_type": "markdown",
      "metadata": {
        "id": "gGOahF4k7-t2"
      },
      "source": [
        "# Lesson 12: Capstone Class - Mind Reading Machine Based Algorithm"
      ]
    },
    {
      "cell_type": "markdown",
      "metadata": {
        "id": "FeyN19o4gC_P"
      },
      "source": [
        "### Teacher-Student Activities\n",
        "\n",
        "\n",
        "In the previous class, we completed half of Claude Shannon's \"A Mind Reading Machine\" based algorithm.\n",
        "\n",
        "\n",
        "As a quick recap, in this algorithm:\n",
        "\n",
        "1. The computer looks for certain patterns in the player inputs (`Heads` or `Tails`) and tries to remember them. Furthermore, it assumes that the player will follow these patterns the next time if the same situation arises. \n",
        "\n",
        "2. If an assumed pattern is not repeated at least twice by the player, the machine predicts `Heads` or `Tails` randomly.\n",
        "\n",
        "The types of patterns remembered, involve the outcome of two successive plays, i.e., whether or not the player won on those plays and whether the player changed their choice between the plays and after the plays. \n",
        "\n",
        "There are 8 possible situations and, for each situation, a player can do two things. These 8 situations are:\n",
        "\n",
        "1. The player **wins**, plays the **same** and **wins** again. The player then plays the same or plays differently.\n",
        "\n",
        "2. The player **wins**, plays the **same** and **loses**. The player then plays the same or plays differently.\n",
        "\n",
        "3. The player **wins**, plays **differently** and **wins** again. The player then plays the same or plays differently.\n",
        "\n",
        "4. The player **wins**, plays **differently** and **loses**. The player then plays the same or plays differently.\n",
        "\n",
        "5. The player **loses**, plays the **same** and **wins**. The player then plays the same or plays differently.\n",
        "\n",
        "6. The player **loses**, plays the **same** and **loses** again. The player then plays the same or plays differently.\n",
        "\n",
        "7. The player **loses**, plays **differently** and **wins**. The player then plays the same or plays differently.\n",
        "\n",
        "8. The player **loses**, plays **differently** and **loses** again. The player then plays the same or plays differently.\n",
        "\n",
        "Each situation corresponds to a different cell in the memory of a machine. Within a cell, two events are registered:\n",
        "\n",
        "1. Whether the last time this situation arose, the player played the same or different.\n",
        "\n",
        "2. Whether or not the behaviour indicated in the first point, was a repeat of the same behaviour in the preceding situation. \n",
        "\n",
        "We created a three-dimensional NumPy array having 2 blocks, 2 rows and 2 columns to keep track of the last two player inputs and the current player input.\n",
        "\n",
        "```\n",
        "[[[0, 0],\n",
        "  [0, 0]],\n",
        "\n",
        " [[0, 0],\n",
        "  [0, 0]]]\n",
        "```\n",
        "\n",
        "So, for a combination of the last two player inputs and the current player input, if a situation is repeated then we will store `1` in the second column of the array otherwise, we will store `0`. \n",
        "\n",
        "Let's quickly run the codes for the activities that were covered in the last class and begin this class from **Activity 1: The `update_scores()` Function**"
      ]
    },
    {
      "cell_type": "markdown",
      "metadata": {
        "id": "l_ahJm30UqfP"
      },
      "source": [
        "---"
      ]
    },
    {
      "cell_type": "markdown",
      "metadata": {
        "id": "6D8fIaMVC6dM"
      },
      "source": [
        "#### Last Two Players Inputs\n",
        "\n",
        "The `last_1` and `last_2` variables keep track of the last two inputs of a player. "
      ]
    },
    {
      "cell_type": "code",
      "metadata": {
        "id": "HoQ6NypDBUaO"
      },
      "source": [
        "# Create two variables; 'last_1' and 'last_2' with 0 as their initial values.\n",
        "last_1 = 0\n",
        "last_2 = 0"
      ],
      "execution_count": null,
      "outputs": []
    },
    {
      "cell_type": "markdown",
      "metadata": {
        "id": "M6zlCpmnxc8L"
      },
      "source": [
        "\n",
        "- `last_1` stores the last player input. \n",
        "\n",
        "- `last_2` stores the second-last player input.\n"
      ]
    },
    {
      "cell_type": "markdown",
      "metadata": {
        "id": "nYg8ypDcMCnt"
      },
      "source": [
        "\n",
        "\n",
        "---"
      ]
    },
    {
      "cell_type": "markdown",
      "metadata": {
        "id": "N3o05TxC_u4b"
      },
      "source": [
        "#### The `inputs` Array"
      ]
    },
    {
      "cell_type": "code",
      "metadata": {
        "id": "rRxf3tCIAMUZ"
      },
      "source": [
        "# Create a 3D NumPy array of size (2, 2, 2) whose all the elements are 0.\n",
        "import numpy as np\n",
        "\n",
        "inputs = np.zeros(shape=(2, 2, 2), dtype=int)\n",
        "inputs"
      ],
      "execution_count": null,
      "outputs": []
    },
    {
      "cell_type": "markdown",
      "metadata": {
        "id": "UdJPOfrTaLvx"
      },
      "source": [
        "The `inputs` array acts as a memory for the Mind Reader game. \n",
        "\n",
        "- The first column (`column_index = 0`) of the `inputs` array will store the current player input.\n",
        "\n",
        "- The second column (`column_index = 1`) will store whether a situation (out of the 8 possible situations) is repeated or not. The 8 possible situations are:\n",
        "\n",
        "|Situation|Second-Last Play|Last Play|Current Player Input|\n",
        "|-|-|-|-|\n",
        "|1.|`0`|`0`|`0`|\n",
        "|2.|`0`|`0`|`1`|\n",
        "|3.|`0`|`1`|`0`|\n",
        "|4.|`0`|`1`|`1`|\n",
        "|5.|`1`|`0`|`0`|\n",
        "|6.|`1`|`0`|`1`|\n",
        "|7.|`1`|`1`|`0`|\n",
        "|8.|`1`|`1`|`1`|\n",
        "\n",
        "where `0` denotes `Heads` and `1` denotes `Tails`.\n",
        "\n",
        "The blocks in the `inputs` array denote the second-last play. \n",
        "\n",
        "- If `last_2 = 0`, then the `last_1` value will go to the first/second row of the **first** block.\n",
        "\n",
        "- If `last_2 = 1`, then the `last_1` value will go to the first/second row of the **second** block.\n",
        "\n",
        "<img src = 'https://student-datasets-bucket.s3.ap-south-1.amazonaws.com/images/inputs_array.png' width=600>\n",
        "\n",
        "At a time, the **current player input** will either go to the first block or second block because the second-last play would either be `0` or `1`.\n",
        "\n",
        "Here are the possible ways in which the current player inputs will be recorded in the first block.\n",
        "\n",
        "1. All the items in the first column are `0`.\n",
        "\n",
        "  ```\n",
        "  [[0, is_a_repeat],\n",
        "    [0, is_a_repeat]]\n",
        "  ```\n",
        "\n",
        "2. The item in the first row and first column is `0` but the item in the second row and the first column is `1`.\n",
        "\n",
        "  ```\n",
        "  [[0, is_a_repeat],\n",
        "    [1, is_a_repeat]]\n",
        "  ```\n",
        "\n",
        "3. The item in the first row and first column is `1` but the item in the second row and the first column is `0`.\n",
        "\n",
        "  ```\n",
        "  [[1, is_a_repeat],\n",
        "    [0, is_a_repeat]]\n",
        "  ```\n",
        "\n",
        "4. All the items in the first column are `1`.\n",
        "\n",
        "  ```\n",
        "  [[1, is_a_repeat],\n",
        "    [1, is_a_repeat]]\n",
        "  ```\n",
        "\n",
        "The value of `is_a_repeat` is either `0` or `1`.\n",
        "\n",
        "  - The value `0` or `1` in the first column represents whether the player played `Heads` or `Tails`, respectively, in the last attempt.\n",
        "  \n",
        "  - The value `0` or `1` in the second column represents whether a situation (a combination of `last_2, last_1` and current player input) is repeated or not. The value `0` means the situation is NOT repeated and `1` means the situation is repeated.\n",
        "\n",
        "The second block will also have the exact same possibilities."
      ]
    },
    {
      "cell_type": "markdown",
      "metadata": {
        "id": "uwQW2KgKcu6B"
      },
      "source": [
        "---"
      ]
    },
    {
      "cell_type": "markdown",
      "metadata": {
        "id": "Vfeuw23lVCxW"
      },
      "source": [
        "#### The `update_inputs()` Function\n",
        "\n",
        "Update the entries of the `inputs` array by creating the `update_inputs()` function. It should take `current` player input as an input and should not return anything. It should just update the player inputs in the `inputs` array.\n",
        "\n",
        "For a row in a block, if an item in the $1^{st}$ column is the same as the `current` player input, then set the value in the $2^{nd}$ column equal to `1`, and set the value in the $1^{st}$ column equal to the `current` player input.\n",
        "\n",
        "```\n",
        "if inputs[last_2][last_1][0] == current:\n",
        "    inputs[last_2][last_1][1] = 1 \n",
        "    inputs[last_2][last_1][0] = current\n",
        "```\n",
        "\n",
        "Otherwise, set the value in the $2^{nd}$ column equal to `0` and set the value in the $1^{st}$ column equal to the `current` value.\n",
        "\n",
        "```\n",
        "inputs[last_2][last_1][1] = 0 \n",
        "    inputs[last_2][last_1][0] = current\n",
        "```\n",
        "\n",
        "Then, the `current` value should become the `last_1` value and the `last_1` value should become the `last_2` value.\n",
        "\n",
        "```\n",
        "  last_2 = last_1 \n",
        "  last_1 = current \n",
        "```"
      ]
    },
    {
      "cell_type": "code",
      "metadata": {
        "id": "Dms5n1NhMZAi"
      },
      "source": [
        "# Create the 'update_inputs()' function.\n",
        "def update_inputs(current):\n",
        "  if inputs[last_2][last_1][0] == current:\n",
        "    inputs[last_2][last_1][1] = 1 \n",
        "    inputs[last_2][last_1][0] = current\n",
        "  else:\n",
        "    inputs[last_2][last_1][1] = 0 \n",
        "    inputs[last_2][last_1][0] = current\n",
        " \n",
        "  last_2 = last_1 \n",
        "  last_1 = current "
      ],
      "execution_count": null,
      "outputs": []
    },
    {
      "cell_type": "markdown",
      "metadata": {
        "id": "KwG1KuUsc2iP"
      },
      "source": [
        "---"
      ]
    },
    {
      "cell_type": "markdown",
      "metadata": {
        "id": "cTIIPwaQYse1"
      },
      "source": [
        "#### The `prediction()` Function\n",
        "\n",
        "Create the `prediction()` function to allow a computer to make predictions based on the player inputs in the last two plays.\n",
        "\n",
        "For a row in a block, if the value in the $2^{nd}$ column is `1`, then the `prediction()` function should return the item stored in the $1^{st}$ column as the predicted value. \n",
        "\n",
        "```\n",
        "if inputs[last_2][last_1][1] == 1: \n",
        "    predict = inputs[last_2][last_1][0]\n",
        "```\n",
        "\n",
        "Else, either return `0` or `1` randomly as the predicted value.\n",
        "\n",
        "```\n",
        "else:\n",
        "    predict = random.randint(0, 1)\n",
        "```\n",
        "\n",
        "Essentially, if the item in the second column is `1`, then return the item stored in the first column as the predicted value. Else, predict `0` or `1` randomly."
      ]
    },
    {
      "cell_type": "code",
      "metadata": {
        "id": "vDJJRnrjKaEC"
      },
      "source": [
        "# Create the 'prediction()' function which returns the predicted value.\n",
        "def prediction():\n",
        "  if inputs[last_2][last_1][1] == 1: \n",
        "    predict = inputs[last_2][last_1][0]    \n",
        "  else:\n",
        "    predict = random.randint(0, 1)  \n",
        "  return predict"
      ],
      "execution_count": null,
      "outputs": []
    },
    {
      "cell_type": "markdown",
      "metadata": {
        "id": "ipMiJfsTc4h4"
      },
      "source": [
        "---"
      ]
    },
    {
      "cell_type": "markdown",
      "metadata": {
        "id": "ETmWmRMHhrvc"
      },
      "source": [
        "#### Activity 1: The `update_scores()` Function\n",
        "\n",
        "Next, we need to create the `update_scores()` function that we created in the first few classes. It should take the `predicted` and the current `player_input` values as an input and then update the scores for both the computer and the player at every player input. It should also print the current scores at every player input.\n",
        "\n",
        "To keep the scores, instead of creating two separate variables for the computer and the player, we will create a list. *The first item in the list will represent the computer score and the second item will represent the player score.*\n",
        "\n",
        "Initially, both the items in the `scores` list will be zero. At every player input, the scores should get updated."
      ]
    },
    {
      "cell_type": "code",
      "metadata": {
        "id": "Wlomn5gAhrgG"
      },
      "source": [
        "# Student Action: Create the 'update_scores()' function to keep the scores for both the computer and the player. It should not return anything.\n",
        "scores=[0,0]\n",
        "def update_scores(predicted,player_input):\n",
        "  if predicted==player_input:\n",
        "    scores[0]=scores[0]+1\n",
        "    print(\"Computer Score:\",scores[0],\"player Score : \",scores[1])\n",
        "  else:\n",
        "    scores[1]=scores[1]+1\n",
        "    print(\"Computer Score:\",scores[0],\"player Score : \",scores[1])\n",
        "    \n"
      ],
      "execution_count": null,
      "outputs": []
    },
    {
      "cell_type": "markdown",
      "metadata": {
        "id": "IYuskDGYjiSp"
      },
      "source": [
        "---"
      ]
    },
    {
      "cell_type": "markdown",
      "metadata": {
        "id": "iGRn-kJmDqZe"
      },
      "source": [
        "#### Activity 2: The `reset()` Function^^\n",
        "\n",
        "Now let's create a function which resets the `inputs` array items and `scores` list to `0`. The `inputs` array values and the `scores` list values must be reset to `0` before a player plays the game again. Otherwise, it will not be a fair game to the player.\n",
        "\n",
        "Moreover, if a player stops playing the game before finishing it, then also the `inputs` array and the `scores` list will have some values stored in it. So, before restarting the game, the `inputs` array values and the `scores` values must be reset to zero."
      ]
    },
    {
      "cell_type": "code",
      "metadata": {
        "id": "33rHBuc1L7Ww"
      },
      "source": [
        "# Student Action: Create the 'reset()' function which resets the values of the 'inputs' items to 0.\n",
        "def reset():\n",
        "  for i in range(2):\n",
        "    for j in range(2):\n",
        "      for k in range(2):\n",
        "        inputs[i][j][k]=0\n",
        "\n",
        "for i in range(len(scores)):\n",
        "  scores[i]=0"
      ],
      "execution_count": null,
      "outputs": []
    },
    {
      "cell_type": "markdown",
      "metadata": {
        "id": "ICN5SalGIKoI"
      },
      "source": [
        "---"
      ]
    },
    {
      "cell_type": "markdown",
      "metadata": {
        "id": "JuHGxZn9aXJI"
      },
      "source": [
        "#### Activity 3: Putting Everything Together^\n",
        "\n",
        "Now put all the components of the Mind Reader game algorithm in one place."
      ]
    },
    {
      "cell_type": "code",
      "metadata": {
        "id": "1k22BieyBUCl"
      },
      "source": [
        "# Student Action: Put all the functions and variables of the Mind Reader game algorithm here.\n",
        "import numpy as np\n",
        "import random\n",
        "last_1 = 0\n",
        "last_2 = 0\n",
        "\n",
        "inputs = np.zeros(shape=(2, 2, 2), dtype=int)\n",
        "\n",
        "last_1 = 0\n",
        "last_2 = 0\n",
        "\n",
        "scores=[0,0]\n",
        "\n",
        "def update_inputs(current):\n",
        "  global last_1, last_2\n",
        "  if inputs[last_2][last_1][0] == current:\n",
        "    inputs[last_2][last_1][1] = 1 \n",
        "    inputs[last_2][last_1][0] = current\n",
        "  else:\n",
        "    inputs[last_2][last_1][1] = 0 \n",
        "    inputs[last_2][last_1][0] = current\n",
        " \n",
        "  last_2 = last_1 \n",
        "  last_1 = current \n",
        "\n",
        "def prediction():\n",
        "  if inputs[last_2][last_1][1] == 1: \n",
        "    predict = inputs[last_2][last_1][0]    \n",
        "  else:\n",
        "    predict = random.randint(0, 1)  \n",
        "  return predict\n",
        "\n",
        "  scores=[0,0]\n",
        "def update_scores(predicted,player_input):\n",
        "  if predicted==player_input:\n",
        "    scores[0]=scores[0]+1\n",
        "    print(\"Computer Score:\",scores[0],\"player Score : \",scores[1])\n",
        "  else:\n",
        "    scores[1]=scores[1]+1\n",
        "    print(\"Computer Score:\",scores[0],\"player Score : \",scores[1])\n",
        "\n",
        "def reset():\n",
        "  for i in range(2):\n",
        "    for j in range(2):\n",
        "      for k in range(2):\n",
        "        inputs[i][j][k]=0\n",
        "\n",
        "for i in range(len(scores)):\n",
        "  scores[i]=0"
      ],
      "execution_count": null,
      "outputs": []
    },
    {
      "cell_type": "markdown",
      "metadata": {
        "id": "rmiJ2qcpvHJa"
      },
      "source": [
        "---"
      ]
    },
    {
      "cell_type": "markdown",
      "metadata": {
        "id": "KOeUgF8kvH4q"
      },
      "source": [
        "#### Activity 4: The `gameplay()` Function^^^\n",
        "\n",
        "Now, let's create the `gameplay()` function to run the Mind Reader game. We have used this function many times in earlier classes. There is no major change in it. However, it should first execute the `reset()` function so that whenever a player plays this game again, it should reset the `inputs` values and the `scores` values.\n",
        "\n",
        "\n",
        "For the testing purpose, let's run the Mind Reader game till either the player or the computer has reached a score of 20 points. If we run this game till 50 points, then the testing will take a very long time. Later you can change the scoring to 50 points."
      ]
    },
    {
      "cell_type": "code",
      "metadata": {
        "id": "AdiwBplXCXfK"
      },
      "source": [
        "# Student Action: Create the 'gameplay()' function.\n",
        "def gameplay():\n",
        "       \n",
        "  reset()\n",
        "  print(inputs) # To verify whether the 'reset()' function, resets the 'inputs' and 'scores' values or not print their values.\n",
        "  print(scores)\n",
        "  valid_entries = ['0', '1']\n",
        "  while True:\n",
        "    predicted = prediction()\n",
        "    player_input = input(\"\\nEnter either 1 or 0: \")\n",
        "    \n",
        "    while player_input not in valid_entries:\n",
        "      print(\"\\nInvalid Input!\")\n",
        "      player_input = input(\"Please enter either 1 or 0: \")\n",
        "    \n",
        "    player_input = int(player_input)\n",
        "    update_inputs(player_input)\n",
        "    update_scores(predicted, player_input)\n",
        "        \n",
        "    if scores[0] == 20:\n",
        "      print(\"\\nBad Luck, Computer Wins!\\n\")\n",
        "      break\n",
        "        \n",
        "    elif scores[1] == 20:\n",
        "      print(\"\\nCongrats, You Won!\\n\")\n",
        "      break\n",
        "    \n",
        "  \n",
        "\n",
        "    \n"
      ],
      "execution_count": null,
      "outputs": []
    },
    {
      "cell_type": "markdown",
      "metadata": {
        "id": "b7HKTfwQwWnf"
      },
      "source": [
        "Now, run the game by executing the `gameplay()` function."
      ]
    },
    {
      "cell_type": "code",
      "metadata": {
        "id": "PDSE2tF_C129",
        "colab": {
          "base_uri": "https://localhost:8080/",
          "height": 1000
        },
        "outputId": "f3e1aea2-cf75-44d3-d045-9ab3a588cc66"
      },
      "source": [
        "# Student Action: Run the game by executing the 'gameplay()' function.\n",
        "gameplay()"
      ],
      "execution_count": null,
      "outputs": [
        {
          "output_type": "stream",
          "text": [
            "[[[0 0]\n",
            "  [0 0]]\n",
            "\n",
            " [[0 0]\n",
            "  [0 0]]]\n",
            "[0, 0]\n",
            "\n",
            "Enter either 1 or 0: 1\n",
            "Computer Score: 0 player Score :  1\n",
            "\n",
            "Enter either 1 or 0: 1\n",
            "Computer Score: 1 player Score :  1\n",
            "\n",
            "Enter either 1 or 0: 0\n",
            "Computer Score: 2 player Score :  1\n",
            "\n",
            "Enter either 1 or 0: 1\n",
            "Computer Score: 2 player Score :  2\n",
            "\n",
            "Enter either 1 or 0: 0\n",
            "Computer Score: 3 player Score :  2\n",
            "\n",
            "Enter either 1 or 0: 0\n",
            "Computer Score: 3 player Score :  3\n",
            "\n",
            "Enter either 1 or 0: 1\n",
            "Computer Score: 3 player Score :  4\n",
            "\n",
            "Enter either 1 or 0: 0\n",
            "Computer Score: 4 player Score :  4\n",
            "\n",
            "Enter either 1 or 0: 1\n",
            "Computer Score: 5 player Score :  4\n",
            "\n",
            "Enter either 1 or 0: 0\n",
            "Computer Score: 6 player Score :  4\n",
            "\n",
            "Enter either 1 or 0: 0\n",
            "Computer Score: 6 player Score :  5\n",
            "\n",
            "Enter either 1 or 0: 1\n",
            "Computer Score: 7 player Score :  5\n",
            "\n",
            "Enter either 1 or 0: 1\n",
            "Computer Score: 7 player Score :  6\n",
            "\n",
            "Enter either 1 or 0: 1\n",
            "Computer Score: 7 player Score :  7\n",
            "\n",
            "Enter either 1 or 0: 0\n",
            "Computer Score: 8 player Score :  7\n",
            "\n",
            "Enter either 1 or 0: 1\n",
            "Computer Score: 9 player Score :  7\n",
            "\n",
            "Enter either 1 or 0: 1\n",
            "Computer Score: 9 player Score :  8\n",
            "\n",
            "Enter either 1 or 0: 1\n",
            "Computer Score: 10 player Score :  8\n",
            "\n",
            "Enter either 1 or 0: 0\n",
            "Computer Score: 11 player Score :  8\n",
            "\n",
            "Enter either 1 or 0: 0\n",
            "Computer Score: 11 player Score :  9\n",
            "\n",
            "Enter either 1 or 0: 1\n",
            "Computer Score: 12 player Score :  9\n",
            "\n",
            "Enter either 1 or 0: 0\n",
            "Computer Score: 12 player Score :  10\n",
            "\n",
            "Enter either 1 or 0: 0\n",
            "Computer Score: 13 player Score :  10\n",
            "\n",
            "Enter either 1 or 0: 0\n",
            "Computer Score: 13 player Score :  11\n",
            "\n",
            "Enter either 1 or 0: 1\n",
            "Computer Score: 14 player Score :  11\n",
            "\n",
            "Enter either 1 or 0: 1\n",
            "Computer Score: 14 player Score :  12\n",
            "\n",
            "Enter either 1 or 0: 0\n",
            "Computer Score: 15 player Score :  12\n",
            "\n",
            "Enter either 1 or 0: 0\n",
            "Computer Score: 16 player Score :  12\n",
            "\n",
            "Enter either 1 or 0: 1\n",
            "Computer Score: 16 player Score :  13\n",
            "\n",
            "Enter either 1 or 0: 0\n",
            "Computer Score: 16 player Score :  14\n",
            "\n",
            "Enter either 1 or 0: 0\n",
            "Computer Score: 17 player Score :  14\n",
            "\n",
            "Enter either 1 or 0: 1\n",
            "Computer Score: 18 player Score :  14\n",
            "\n",
            "Enter either 1 or 0: 0\n",
            "Computer Score: 18 player Score :  15\n",
            "\n",
            "Enter either 1 or 0: 0\n",
            "Computer Score: 19 player Score :  15\n",
            "\n",
            "Enter either 1 or 0: 0\n",
            "Computer Score: 19 player Score :  16\n",
            "\n",
            "Enter either 1 or 0: 1\n",
            "Computer Score: 20 player Score :  16\n",
            "\n",
            "Bad Luck, Computer Wins!\n",
            "\n"
          ],
          "name": "stdout"
        }
      ]
    },
    {
      "cell_type": "markdown",
      "metadata": {
        "id": "HMGBOxI_FAmk"
      },
      "source": [
        "Finally, we have implemented the algorithm for the Mind Reader game which you played in the trial class to allow a computer to predict a player's next move accurately."
      ]
    },
    {
      "cell_type": "markdown",
      "metadata": {
        "id": "YigbTCM4QXVr"
      },
      "source": [
        "---"
      ]
    }
  ]
}