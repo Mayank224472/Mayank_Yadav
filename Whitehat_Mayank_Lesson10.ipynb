{
  "nbformat": 4,
  "nbformat_minor": 0,
  "metadata": {
    "colab": {
      "name": "20200829_Mayank_Lesson10",
      "provenance": [],
      "collapsed_sections": [],
      "include_colab_link": true
    },
    "kernelspec": {
      "name": "python3",
      "display_name": "Python 3"
    }
  },
  "cells": [
    {
      "cell_type": "markdown",
      "metadata": {
        "id": "view-in-github",
        "colab_type": "text"
      },
      "source": [
        "<a href=\"https://colab.research.google.com/github/Mayank224472/Mayank224472/blob/main/Whitehat_Mayank_Lesson10.ipynb\" target=\"_parent\"><img src=\"https://colab.research.google.com/assets/colab-badge.svg\" alt=\"Open In Colab\"/></a>"
      ]
    },
    {
      "cell_type": "markdown",
      "metadata": {
        "id": "7LlG_PPFjJUz"
      },
      "source": [
        "# Lesson 10: NumPy Arrays II\n"
      ]
    },
    {
      "cell_type": "markdown",
      "metadata": {
        "id": "3rJJF2_hNmmS"
      },
      "source": [
        "### Teacher-Student Activities\n",
        "\n",
        "In the previous lesson, we learnt how to create a NumPy array using different functions. In this lesson, we are going to learn a few of the mathematical operations that can be done on a NumPy array.\n",
        "\n",
        "At the end of the class, we will compare the performance of a NumPy array with a Python list."
      ]
    },
    {
      "cell_type": "markdown",
      "metadata": {
        "id": "IFaexN7T8zWE"
      },
      "source": [
        "---"
      ]
    },
    {
      "cell_type": "markdown",
      "metadata": {
        "id": "8C6arOgwIdZR"
      },
      "source": [
        "#### Activity 1: Array Length\n",
        "\n",
        "Let's begin the lesson with array length. The length of an array (or array length) is: \n",
        "\n",
        "- The number of items in a one-dimensional array.\n",
        "\n",
        "- The number of rows in a two-dimensional array.\n",
        "\n",
        "- The number of blocks in a three-dimensional array.\n",
        "\n",
        "To calculate the length of a NumPy array, you can use the `len()` function.\n",
        "\n",
        "Let's create an array for all the three different dimensions and calculate their lengths using the `len()` function.\n",
        "\n",
        "\n"
      ]
    },
    {
      "cell_type": "code",
      "metadata": {
        "id": "vlgvfn4lhd2L",
        "colab": {
          "base_uri": "https://localhost:8080/",
          "height": 70
        },
        "outputId": "74d4f74f-d5a0-4503-8f27-e4276ab168d6"
      },
      "source": [
        "# Teacher Action: Create a NumPy array for all the three different dimensions and calculate their lengths.\n",
        "import numpy as np\n",
        "one_dim_ar=np.arange(1,25)\n",
        "two_dim_ar=np.arange(1,29).reshape(4,7)\n",
        "three_dim_ar=np.arange(1,31).reshape(2,5,3)\n",
        "print(\"Number of items in the one_dim_ar : \",len(one_dim_ar))\n",
        "print(\"Number of row in the two_dim_ar : \",len(two_dim_ar))\n",
        "print(\"Number of block in the three_dim_ar : \",len(three_dim_ar))"
      ],
      "execution_count": null,
      "outputs": [
        {
          "output_type": "stream",
          "text": [
            "Number of items in the one_dim_ar :  24\n",
            "Number of row in the two_dim_ar :  4\n",
            "Number of block in the three_dim_ar :  2\n"
          ],
          "name": "stdout"
        }
      ]
    },
    {
      "cell_type": "markdown",
      "metadata": {
        "id": "5DCa_G49YKsh"
      },
      "source": [
        "**Note:** You do not have to create the arrays with the exact same items. You can choose to have different items in the arrays. \n",
        "\n",
        "As you can see, the `len()` function gives different outputs for multi-dimensional NumPy arrays."
      ]
    },
    {
      "cell_type": "markdown",
      "metadata": {
        "id": "YzE3GMSkW-Nx"
      },
      "source": [
        "---"
      ]
    },
    {
      "cell_type": "markdown",
      "metadata": {
        "id": "rCnmusCAc6gI"
      },
      "source": [
        "#### Activity 2: The `size` Keyword\n",
        "\n",
        "To find the number of items in a NumPy array, you can use the `size` keyword. Regardless of dimensions, the `size` keyword will always return the number of items in a NumPy array."
      ]
    },
    {
      "cell_type": "code",
      "metadata": {
        "id": "AXL0BiNXc7iK",
        "colab": {
          "base_uri": "https://localhost:8080/",
          "height": 68
        },
        "outputId": "64a0713c-240d-4caa-c091-1e8f0b25bee7"
      },
      "source": [
        "# Student Action: Compute the number of items in the 'one_dim_ar', 'two_dim_ar' and 'three_dim_ar' NumPy arrays.\n",
        "import numpy as np\n",
        "one_dim_ar=np.arange(1,25)\n",
        "two_dim_ar=np.arange(1,29).reshape(4,7)\n",
        "three_dim_ar=np.arange(1,31).reshape(2,5,3)\n",
        "print(\"Number of items in the one_dim_ar : \",one_dim_ar.size)\n",
        "print(\"Number of items in the two_dim_ar : \",two_dim_ar.size)\n",
        "print(\"Number of items in the three_dim_ar : \",three_dim_ar.size)"
      ],
      "execution_count": null,
      "outputs": [
        {
          "output_type": "stream",
          "text": [
            "Number of items in the one_dim_ar :  24\n",
            "Number of items in the two_dim_ar :  28\n",
            "Number of items in the three_dim_ar :  30\n"
          ],
          "name": "stdout"
        }
      ]
    },
    {
      "cell_type": "markdown",
      "metadata": {
        "id": "vL9yDI_laAVX"
      },
      "source": [
        "**Note:** The `size` keyword is not available for a Python list."
      ]
    },
    {
      "cell_type": "markdown",
      "metadata": {
        "id": "EDbcN7r-Z83a"
      },
      "source": [
        "---"
      ]
    },
    {
      "cell_type": "markdown",
      "metadata": {
        "id": "qkZj_ZVTiHz9"
      },
      "source": [
        "#### Activity 3: Descriptive Statistics\n",
        "\n",
        "Using NumPy arrays, we can easily do some statistical calculations.\n",
        "\n",
        "Consider that you are a smartphone retailer and you have few smartphones in your inventory.\n",
        "\n",
        "|Smartphone Model|Price (INR)|# Units Available|\n",
        "|-|-|-|\n",
        "|Samsung Galaxy M30S|\t13999|\t9|\n",
        "Realme C2| 6298| 8|\n",
        "Xiaomi Redmi Note 7 Pro| 10999| 9|\n",
        "Xiaomi Redmi Note 8 Pro| 14999| 9|\n",
        "Realme C2 32GB| 7298| 8|\n",
        "Realme C2 2GB RAM| 6385| 8|\n",
        "Realme 5| 8999| 9|\n",
        "Xiaomi Redmi Note 7S 64GB| 9999| 6|\n",
        "Xiaomi Redmi Note 8| 9999| 5|\n",
        "Vivo Z1 Pro| 13868| 7|\n",
        "\n",
        "Suppose you decided to do some analysis of your inventory. In the process, you want to find answers to the following questions:\n",
        "\n",
        "1. What is the total monetary value of the inventory?\n",
        "\n",
        "2. What is the average (or mean) price of a smartphone ?\n",
        "\n",
        "3. What is the price of the cheapest smartphone in the inventory?\n",
        "\n",
        "4. What is the price of the most expensive smartphone in the inventory?\n",
        "\n",
        "5. What is the median price of a smartphone? \n",
        "\n",
        "6. What is the most commonly occurring price of a smartphone?\n",
        "\n",
        "You can answer all these questions in a few seconds by creating NumPy arrays and by applying the `sum(), mean(), median(), min()` and `max()` functions.\n",
        "\n",
        "**Note**: A median value is the middle value in an array when the values are arranged in an increasing order. Consider the five numbers `6, 1 , 5, 32,` and `13`.\n",
        "\n",
        "**How to find the median value?**\n",
        "\n",
        "To find the median value, follow two steps:\n",
        "\n",
        "1. First, arrange all the numbers in the increasing order, i.e., `1, 5, 6, 13, 32`.\n",
        "\n",
        "2. Look for the middle value which in this case is `6`. So, the required median value is `6`.\n",
        "\n",
        "In general, let $n$ be the number of numbers in a set. \n",
        "\n",
        "1. If $n$ is odd, the median value lies at the \n",
        "$\\left(\\frac{n + 1}{2}\\right)^{th}$ \n",
        "position after arranging the numbers in the ascending order.\n",
        "\n",
        "2. If $n$ is even, the median value is the mean (or average) of the values at the \n",
        "$\\left(\\frac{n}{2}\\right)^{th}$ \n",
        "and \n",
        "$\\left(\\frac{n}{2} + 1\\right)^{th}$ \n",
        "positions.\n",
        "\n",
        "Let's say we want to find the median of the numbers `34, 12, 8, 7, 21, 19`.\n",
        "\n",
        "1. First, arrange the numbers in increasing order, i.e., `7, 8, 12, 19, 21, 24`.\n",
        "\n",
        "2. There are 6 numbers, so the middle values are `12` and `19`. Their mean (or average) is \n",
        "$\\frac{12+19}{2}$ \n",
        "`= 15.5`.\n",
        "So, the required median value is `15.5`\n",
        "\n",
        "Let's first create a NumPy array for the phone data given above, then find the answers to these questions one-by-one.\n"
      ]
    },
    {
      "cell_type": "code",
      "metadata": {
        "id": "t8FrljUgoUTQ"
      },
      "source": [
        "# Student Action: Create two NumPy arrays: one for the smartphone prices and another for the number of units available.\n",
        "prices=np.array([13999,6298,10999,14999,7298,6385,8999,9999,13868])\n",
        "units_available=np.array([9,8,9,9,8,8,9,6,5,7])"
      ],
      "execution_count": null,
      "outputs": []
    },
    {
      "cell_type": "markdown",
      "metadata": {
        "id": "ljuEdRWDp41V"
      },
      "source": [
        "Now, let's answer the first question. To find the total monetary value of the inventory, you have to multiply each smartphone price with its corresponding number of units available and then add all the products of the multiplications.\n",
        "\n",
        "Let the total monetary value be \n",
        "$M$\n",
        ", price of a smartphone be \n",
        "$p$\n",
        ", the number of units available be $u$ and the varieties of smartphones be \n",
        "$n$\n",
        ". Then \n",
        "$M = p_1 \\times u_1 + p_2 \\times u_2 + p_3 \\times u_3 + \\dots + p_n \\times u_n$\n",
        "\n",
        "Therefore, we have to multiply the `prices` array values with the `units_available` array values to get a new array containing total prices for each smartphone. Then using the `sum()` function, we will add all the values of the new array."
      ]
    },
    {
      "cell_type": "code",
      "metadata": {
        "id": "Wwjrkh75pDQZ",
        "colab": {
          "base_uri": "https://localhost:8080/",
          "height": 52
        },
        "outputId": "aecb69b0-e12e-4d84-d921-fbdf38e35032"
      },
      "source": [
        "# Teacher Action: Compute the total monetary value of the inventory.\n",
        "prices=np.array([13999,6298,10999,14999,7298,6385,8999,9999,9999,13868])\n",
        "units_available=np.array([9,8,9,9,8,8,9,6,5,7])\n",
        "# Create an array containing total price for each smartphone.\n",
        "total_price_for_each_smartphone=prices*units_available\n",
        "print(total_price_for_each_smartphone)\n",
        "# Calculate the total monetary value.\n",
        "total_monetary_value=np.sum(total_price_for_each_smartphone)\n",
        "total_monetary_value"
      ],
      "execution_count": null,
      "outputs": [
        {
          "output_type": "stream",
          "text": [
            "[125991  50384  98991 134991  58384  51080  80991  59994  49995  97076]\n"
          ],
          "name": "stdout"
        },
        {
          "output_type": "execute_result",
          "data": {
            "text/plain": [
              "807877"
            ]
          },
          "metadata": {
            "tags": []
          },
          "execution_count": 6
        }
      ]
    },
    {
      "cell_type": "markdown",
      "metadata": {
        "id": "1PF75230rVO_"
      },
      "source": [
        "**Note:** We cannot add, subtract, multiply and divide two Python lists like NumPy arrays.\n",
        "\n",
        "Now, using the `mean()` function, compute the average price of a smartphone."
      ]
    },
    {
      "cell_type": "code",
      "metadata": {
        "id": "HOVg5kWlsLyO",
        "colab": {
          "base_uri": "https://localhost:8080/",
          "height": 34
        },
        "outputId": "6979f008-8bbc-400b-c38d-542c4a297da3"
      },
      "source": [
        "# Student Action: Compute the average price of a smartphone.\n",
        "avg_price=np.mean(prices)\n",
        "avg_price"
      ],
      "execution_count": null,
      "outputs": [
        {
          "output_type": "execute_result",
          "data": {
            "text/plain": [
              "10284.3"
            ]
          },
          "metadata": {
            "tags": []
          },
          "execution_count": 7
        }
      ]
    },
    {
      "cell_type": "markdown",
      "metadata": {
        "id": "RKjJufyVsYU2"
      },
      "source": [
        "Now, using the `min()` function, compute the price of the cheapest smartphone."
      ]
    },
    {
      "cell_type": "code",
      "metadata": {
        "id": "5Owx2KmysuPk",
        "colab": {
          "base_uri": "https://localhost:8080/",
          "height": 34
        },
        "outputId": "63617334-ec8c-478b-af30-47297d0e62ce"
      },
      "source": [
        "# Student Action: Using the 'min()' function, compute the lowest price of a smartphone.\n",
        "min_price=np.min(prices)\n",
        "min_price"
      ],
      "execution_count": null,
      "outputs": [
        {
          "output_type": "execute_result",
          "data": {
            "text/plain": [
              "6298"
            ]
          },
          "metadata": {
            "tags": []
          },
          "execution_count": 4
        }
      ]
    },
    {
      "cell_type": "markdown",
      "metadata": {
        "id": "dTC1iDGvs5sc"
      },
      "source": [
        "Now, using the `max()` function, compute the price of the expensive smartphone."
      ]
    },
    {
      "cell_type": "code",
      "metadata": {
        "id": "XK4SfK97tCSa",
        "colab": {
          "base_uri": "https://localhost:8080/",
          "height": 34
        },
        "outputId": "cc0d7fcb-7cd9-4ce0-eeeb-156243ed8e8c"
      },
      "source": [
        "# Student Action: Using the 'max()' function, compute the highest price of a smartphone.\n",
        "max_price=np.max(prices)\n",
        "max_price"
      ],
      "execution_count": null,
      "outputs": [
        {
          "output_type": "execute_result",
          "data": {
            "text/plain": [
              "14999"
            ]
          },
          "metadata": {
            "tags": []
          },
          "execution_count": 5
        }
      ]
    },
    {
      "cell_type": "markdown",
      "metadata": {
        "id": "O6PyAgR4tK0P"
      },
      "source": [
        "Now, using the `median()` function, compute the median price of a smartphone."
      ]
    },
    {
      "cell_type": "code",
      "metadata": {
        "id": "q-7oX4kOtSSe",
        "colab": {
          "base_uri": "https://localhost:8080/",
          "height": 34
        },
        "outputId": "91a820ea-caba-4f04-e3f4-4027e44f0718"
      },
      "source": [
        "# Student Action: Using the 'median()' function, compute the median price of a smartphone.\n",
        "median_price=np.median(prices)\n",
        "median_price"
      ],
      "execution_count": null,
      "outputs": [
        {
          "output_type": "execute_result",
          "data": {
            "text/plain": [
              "9999.0"
            ]
          },
          "metadata": {
            "tags": []
          },
          "execution_count": 6
        }
      ]
    },
    {
      "cell_type": "markdown",
      "metadata": {
        "id": "d64CX_uctqpC"
      },
      "source": [
        "Now, let's compute the most commonly occurring price of a smartphone. If you look at the dataset, the most commonly occurring price is `9999` because it occurs twice. Rest of the prices occur only once.\n",
        "\n",
        "The value which occurs the most number of times is called the **modal** value or simply **mode**. \n",
        "\n",
        "Unfortunately, the `numpy` module does not have a function to calculate the modal value. So, either we can create our own function which is a very complicated process or we can use the `mode()` function from the `scipy` library.\n",
        "\n",
        "For the time being we will choose the second option. At the end of the class we will create our own version of the `mode()` function.\n",
        "\n",
        "In the `scipy` library, there is a module called `stats` which contains the `mode()` function. So we have to import the `stats` module from the `scipy` library."
      ]
    },
    {
      "cell_type": "code",
      "metadata": {
        "id": "YwAgYtduxJXq",
        "colab": {
          "base_uri": "https://localhost:8080/",
          "height": 34
        },
        "outputId": "dadf71f3-af71-4694-fb7b-a94a76bcf5c9"
      },
      "source": [
        "# Teacher Action: Compute the modal value using the 'mode()' function from the 'scipy.stats' module.\n",
        "from scipy import stats\n",
        "stats.mode(prices)"
      ],
      "execution_count": null,
      "outputs": [
        {
          "output_type": "execute_result",
          "data": {
            "text/plain": [
              "ModeResult(mode=array([9999]), count=array([2]))"
            ]
          },
          "metadata": {
            "tags": []
          },
          "execution_count": 8
        }
      ]
    },
    {
      "cell_type": "markdown",
      "metadata": {
        "id": "5qUdoLwT0uxW"
      },
      "source": [
        "In the output, you can see that `9999` is the modal value and it occurs twice in the `prices` array.\n",
        "\n",
        "**Note:** `from library_name import module_name` is another way of importing a module. It is also a standard practice."
      ]
    },
    {
      "cell_type": "markdown",
      "metadata": {
        "id": "2doxkX1qyC9S"
      },
      "source": [
        "---"
      ]
    },
    {
      "cell_type": "markdown",
      "metadata": {
        "id": "wtaOw65FDEGk"
      },
      "source": [
        "#### Activity 4: Few More Operations On A NumPy Array^^\n",
        "\n",
        "Performing mathematical operations on a NumPy array is easier compared to a Python list.\n",
        "\n",
        "Let's say you have a NumPy array with radii of 20 circles and want to compute the area of every circle. Then you can simply use the double-asterisk (`**`) operator on the NumPy array to square the values. Then multiply the NumPy array with `pi`.\n",
        "\n",
        "**Note:** Area of a circle with the radius \n",
        "$r$ \n",
        "is \n",
        "$\\pi r^{2}$."
      ]
    },
    {
      "cell_type": "code",
      "metadata": {
        "id": "vxc4TQw2DyBP",
        "colab": {
          "base_uri": "https://localhost:8080/",
          "height": 141
        },
        "outputId": "9c85c763-9f71-4f58-8718-355bf07ceece"
      },
      "source": [
        "# Teacher Action: Square the values in a numpy array.\n",
        "import random\n",
        "import numpy as np\n",
        "# 1. First create a Python list having radii of 20 circles where each radii is a random number from 1 to 10.\n",
        "radii=[random.randint(1,10) for i in range(20)]\n",
        "print(radii)\n",
        "# 2. Convert the list into a NumPy array using the 'array()' function.\n",
        "np_radii=np.array(radii)\n",
        "print(np_radii)\n",
        "# 3. Square the elements of NumPy array using the exponent (**) operator. Use can use the 'np.pi' keyword to get the value of 'pi'.\n",
        "np_area_circles=np.pi*(np_radii**2)\n",
        "np_area_circles"
      ],
      "execution_count": null,
      "outputs": [
        {
          "output_type": "stream",
          "text": [
            "[4, 10, 1, 1, 1, 10, 7, 7, 6, 1, 9, 7, 2, 7, 7, 1, 1, 9, 4, 7]\n",
            "[ 4 10  1  1  1 10  7  7  6  1  9  7  2  7  7  1  1  9  4  7]\n"
          ],
          "name": "stdout"
        },
        {
          "output_type": "execute_result",
          "data": {
            "text/plain": [
              "array([ 50.26548246, 314.15926536,   3.14159265,   3.14159265,\n",
              "         3.14159265, 314.15926536, 153.93804003, 153.93804003,\n",
              "       113.09733553,   3.14159265, 254.46900494, 153.93804003,\n",
              "        12.56637061, 153.93804003, 153.93804003,   3.14159265,\n",
              "         3.14159265, 254.46900494,  50.26548246, 153.93804003])"
            ]
          },
          "metadata": {
            "tags": []
          },
          "execution_count": 9
        }
      ]
    },
    {
      "cell_type": "markdown",
      "metadata": {
        "id": "TrpQfzfkFd4N"
      },
      "source": [
        "Notice that when you print the values of a NumPy array (in this case `np_radii`) using the `print()` function, the items of the NumPy array are not separated by comma in the output. For all practical purposes, this is just a different behaviour of a NumPy array. Do not worry about it.\n",
        "\n",
        "If you try to square the radii values stored in a Python list using the same process, then Python will throw the `TypeError` error."
      ]
    },
    {
      "cell_type": "code",
      "metadata": {
        "id": "ooklQ4d-Fk4b",
        "colab": {
          "base_uri": "https://localhost:8080/",
          "height": 185
        },
        "outputId": "c05435ee-c1e4-41a8-b3d1-b2cc2b73c42f"
      },
      "source": [
        "# Teacher Action: Directly apply the exponent (**) operator on a Python list. \n",
        "radii**2"
      ],
      "execution_count": null,
      "outputs": [
        {
          "output_type": "error",
          "ename": "TypeError",
          "evalue": "ignored",
          "traceback": [
            "\u001b[0;31m---------------------------------------------------------------------------\u001b[0m",
            "\u001b[0;31mTypeError\u001b[0m                                 Traceback (most recent call last)",
            "\u001b[0;32m<ipython-input-10-bc5875c18111>\u001b[0m in \u001b[0;36m<module>\u001b[0;34m()\u001b[0m\n\u001b[1;32m      1\u001b[0m \u001b[0;31m# Teacher Action: Directly apply the exponent (**) operator on a Python list.\u001b[0m\u001b[0;34m\u001b[0m\u001b[0;34m\u001b[0m\u001b[0;34m\u001b[0m\u001b[0m\n\u001b[0;32m----> 2\u001b[0;31m \u001b[0mradii\u001b[0m\u001b[0;34m**\u001b[0m\u001b[0;36m2\u001b[0m\u001b[0;34m\u001b[0m\u001b[0;34m\u001b[0m\u001b[0m\n\u001b[0m",
            "\u001b[0;31mTypeError\u001b[0m: unsupported operand type(s) for ** or pow(): 'list' and 'int'"
          ]
        }
      ]
    },
    {
      "cell_type": "markdown",
      "metadata": {
        "id": "oorQuIB_wbFp"
      },
      "source": [
        "Even if you simply multiply a list containing numeric values with a floating-point number, then also Python will throw the `TypeError` error"
      ]
    },
    {
      "cell_type": "code",
      "metadata": {
        "id": "unq5Iqlbv94k",
        "colab": {
          "base_uri": "https://localhost:8080/",
          "height": 185
        },
        "outputId": "cddb367e-46c5-463c-d513-532717b78dc3"
      },
      "source": [
        "# Teacher Action: Directly multiply a Python list with a number.\n",
        "3.14*radii"
      ],
      "execution_count": null,
      "outputs": [
        {
          "output_type": "error",
          "ename": "TypeError",
          "evalue": "ignored",
          "traceback": [
            "\u001b[0;31m---------------------------------------------------------------------------\u001b[0m",
            "\u001b[0;31mTypeError\u001b[0m                                 Traceback (most recent call last)",
            "\u001b[0;32m<ipython-input-11-1601b39f0019>\u001b[0m in \u001b[0;36m<module>\u001b[0;34m()\u001b[0m\n\u001b[1;32m      1\u001b[0m \u001b[0;31m# Teacher Action: Directly multiply a Python list with a number.\u001b[0m\u001b[0;34m\u001b[0m\u001b[0;34m\u001b[0m\u001b[0;34m\u001b[0m\u001b[0m\n\u001b[0;32m----> 2\u001b[0;31m \u001b[0;36m3.14\u001b[0m\u001b[0;34m*\u001b[0m\u001b[0mradii\u001b[0m\u001b[0;34m\u001b[0m\u001b[0;34m\u001b[0m\u001b[0m\n\u001b[0m",
            "\u001b[0;31mTypeError\u001b[0m: can't multiply sequence by non-int of type 'float'"
          ]
        }
      ]
    },
    {
      "cell_type": "markdown",
      "metadata": {
        "id": "-TcTxsAKFpOb"
      },
      "source": [
        "To find the area of the circles whose radii are stored in a Python list, you will have to use a loop."
      ]
    },
    {
      "cell_type": "code",
      "metadata": {
        "id": "xAZOdQ-AF1Mt",
        "colab": {
          "base_uri": "https://localhost:8080/",
          "height": 372
        },
        "outputId": "c05a72b7-86bf-4522-bfc0-9e064592a8cc"
      },
      "source": [
        "# Teacher Action: Square all the items in a Python list.\n",
        "for radius in radii:\n",
        "  print(np.pi*(radius**2))"
      ],
      "execution_count": null,
      "outputs": [
        {
          "output_type": "stream",
          "text": [
            "50.26548245743669\n",
            "314.1592653589793\n",
            "3.141592653589793\n",
            "3.141592653589793\n",
            "3.141592653589793\n",
            "314.1592653589793\n",
            "153.93804002589985\n",
            "153.93804002589985\n",
            "113.09733552923255\n",
            "3.141592653589793\n",
            "254.46900494077323\n",
            "153.93804002589985\n",
            "12.566370614359172\n",
            "153.93804002589985\n",
            "153.93804002589985\n",
            "3.141592653589793\n",
            "3.141592653589793\n",
            "254.46900494077323\n",
            "50.26548245743669\n",
            "153.93804002589985\n"
          ],
          "name": "stdout"
        }
      ]
    },
    {
      "cell_type": "markdown",
      "metadata": {
        "id": "5aXQrRkz6K0r"
      },
      "source": [
        "Now, using the same approach, you create two NumPy arrays: one having radii (numbers from `1` to `10`) of `10` cylinders and another having their corresponding heights (numbers from `11` to `20`).\n",
        "\n",
        "**Note:** The volume of a cylinder is \n",
        "$\\pi r^{2}h$\n",
        ", where \n",
        "$h$ \n",
        "is height of the cylinder and \n",
        "$r$ \n",
        "is the radius of the cylinder."
      ]
    },
    {
      "cell_type": "code",
      "metadata": {
        "id": "VegrJMaAhoJv",
        "colab": {
          "base_uri": "https://localhost:8080/",
          "height": 105
        },
        "outputId": "8686787c-a63b-42fa-b24f-4a39051d810d"
      },
      "source": [
        "# Student Action: Create two NumPy arrays. One having a radii of 10 cylinders and another having their corresponding heights.\n",
        "# Compute the volume of the 10 cylinders by multiplying the NumPy arrays and store the new NumPy array in the new variable.\n",
        "cyl_radii=np.arange(1,11)\n",
        "print(cyl_radii)\n",
        "cyl_heights=np.arange(11,21)\n",
        "print(cyl_heights)\n",
        "cyl_volume=np.pi*(cyl_radii**2)*cyl_heights\n",
        "cyl_volume\n"
      ],
      "execution_count": null,
      "outputs": [
        {
          "output_type": "stream",
          "text": [
            "[ 1  2  3  4  5  6  7  8  9 10]\n",
            "[11 12 13 14 15 16 17 18 19 20]\n"
          ],
          "name": "stdout"
        },
        {
          "output_type": "execute_result",
          "data": {
            "text/plain": [
              "array([  34.55751919,  150.79644737,  367.56634047,  703.7167544 ,\n",
              "       1178.0972451 , 1809.55736847, 2616.94668044, 3619.11473694,\n",
              "       4834.91109387, 6283.18530718])"
            ]
          },
          "metadata": {
            "tags": []
          },
          "execution_count": 13
        }
      ]
    },
    {
      "cell_type": "markdown",
      "metadata": {
        "id": "XwOCb3OTBxYD"
      },
      "source": [
        "So, here we got an array containing the volumes of the corresponding cylinders."
      ]
    },
    {
      "cell_type": "markdown",
      "metadata": {
        "id": "o0_iHJJ96hGL"
      },
      "source": [
        "---"
      ]
    },
    {
      "cell_type": "markdown",
      "metadata": {
        "id": "Qoc4ydT3yEDx"
      },
      "source": [
        "#### Activity 5: Python List And NumPy Array Performance Comparison^ \n",
        "\n",
        "As we discussed earlier, the execution time for a NumPy array is lesser as compared to a Python list. The difference is most significant when the sizes of lists and arrays are in thousands and above.\n",
        "\n",
        "Let's first create a Python list and a NumPy array both having 100 thousand (or 1 lakh) items. Then let's compute how much time (in seconds) is taken to create the list and the array."
      ]
    },
    {
      "cell_type": "code",
      "metadata": {
        "id": "MqWJKrzoyB8q",
        "colab": {
          "base_uri": "https://localhost:8080/",
          "height": 68
        },
        "outputId": "340e9190-b34c-4988-a336-51c1745b6c03"
      },
      "source": [
        "# Student Action: Run the code shown below to see that NumPy arrays are faster than Python lists.\n",
        "# 1. Import the 'numpy' and 'time' modules\n",
        "import numpy as np\n",
        "import time\n",
        "\n",
        "# 2. Record the time before creating a Python list.\n",
        "py_t0 = time.time() \n",
        "\n",
        "# 3. Create a Python list containing 100,000 items from 1 to 100,000.\n",
        "py_list = [i for i in range(1, 100001)]\n",
        "\n",
        "# 4. Record the time after creating the list.\n",
        "py_t1 = time.time()\n",
        "\n",
        "# 5. Calculate the time taken to create a Python list by computing the time difference.\n",
        "py_time_diff = (py_t1 - py_t0)\n",
        "print(\"Time taken to create a Python list is\", py_time_diff, \"seconds.\")\n",
        "# 6. Record the time before creating a NumPy array.\n",
        "np_t0 = time.time()\n",
        "\n",
        "# 7. Create a NumPy array containing just one row and 100,000 items from 1 to 100,000.\n",
        "np_ones = np.arange(1, 100001)\n",
        "\n",
        "# 8. Record the time after creating the NumPy array.\n",
        "np_t1 = time.time()\n",
        "\n",
        "# 9. Calculate the time taken to create a NumPy array by computing the time difference.\n",
        "np_time_diff = (np_t1 - np_t0)\n",
        "print(\"Time taken to create a NumPy array is\", np_time_diff, \"seconds.\")\n",
        "\n",
        "# 10. Calculate the factor by which a NumPy array creation is faster than a Python list creation.\n",
        "print(\"A NumPy array is\", py_time_diff // np_time_diff, \"times faster than a Python list for the same size.\") \n",
        "# Recall that // means floor division."
      ],
      "execution_count": null,
      "outputs": [
        {
          "output_type": "stream",
          "text": [
            "Time taken to create a Python list is 0.006921529769897461 seconds.\n",
            "Time taken to create a NumPy array is 0.0006682872772216797 seconds.\n",
            "A NumPy array is 10.0 times faster than a Python list for the same size.\n"
          ],
          "name": "stdout"
        }
      ]
    },
    {
      "cell_type": "markdown",
      "metadata": {
        "id": "C1_TvZuZyCQf"
      },
      "source": [
        "If you run the above code several times, you will see that almost always NumPy arrays are faster than Python lists by a huge margin."
      ]
    },
    {
      "cell_type": "markdown",
      "metadata": {
        "id": "2kwv0EiQ6lWL"
      },
      "source": [
        "---"
      ]
    },
    {
      "cell_type": "markdown",
      "metadata": {
        "id": "vjz9h-lBLNat"
      },
      "source": [
        "#### Activity 6: The User-Defined `mode()` Function^^^\n",
        "\n",
        "Now let's create our own version of the `mode()` function. It should take a one-dimensional NumPy array (`input_array`) as an input and should return a pair of the modal value and its count as an output.\n",
        "\n",
        "To create this function:\n",
        "\n",
        "1. First we will create an empty Python list to store the count of every item in the `input_array`.\n",
        "\n",
        "  ```\n",
        "  counts_list = []\n",
        "  ```\n",
        "\n",
        "2. Next, we will convert the `input_array` to a Python list and store it in the `input_list` variable.\n",
        "\n",
        "  ```\n",
        "  input_list = list(input_array)\n",
        "  ```\n",
        "\n",
        "3. We will iterate through each item in the `input_list` and count its value. Then we will add the counts to the `counts_list` using the `append()` function.\n",
        "\n",
        "  ```\n",
        "  for item in input_list:\n",
        "      item_count = input_list.count(item)\n",
        "      counts_list.append(item_count)\n",
        "  ```\n",
        "\n",
        "4. Then we will convert the `counts_list` into a NumPy array.\n",
        "\n",
        "  ```\n",
        "  counts_array = np.array(counts_list)\n",
        "  ```\n",
        "\n",
        "5. Next, we will compute the maximum count value in the `counts_array` using the `count()` function.\n",
        "\n",
        "  ```\n",
        "  max_count = np.max(counts_array)\n",
        "  ```\n",
        "\n",
        "6. Then, we will find the index of the `max_count` value using the `index()` function.\n",
        "\n",
        "  ```\n",
        "  max_count_index = counts_list.index(max_count)\n",
        "  ```\n",
        "\n",
        "7. Finally, we will find the modal value using the list indexing method.\n",
        "  \n",
        "  ```\n",
        "  mode = input_list[max_count_index]\n",
        "  ```\n",
        "\n",
        "**Note:** There could be other ways to create the `mode()` function. You are free to explore them in your own time."
      ]
    },
    {
      "cell_type": "code",
      "metadata": {
        "id": "feDVp-LuY8n0",
        "colab": {
          "base_uri": "https://localhost:8080/",
          "height": 34
        },
        "outputId": "7fdfbc93-d8c5-43b8-a591-a1b760a64a21"
      },
      "source": [
        "# Student Action: Create the 'mode()' function which takes a 1D NumPy array as an input and returns the modal value and its count as an output.\n",
        "def mode(input_array):\n",
        "  counts_list = []\n",
        "  input_list = list(input_array)\n",
        "  for item in input_list:\n",
        "    item_count = input_list.count(item)\n",
        "    counts_list.append(item_count)\n",
        "\n",
        "  counts_array = np.array(counts_list)\n",
        "  max_count = np.max(counts_array)\n",
        "  max_count_index = counts_list.index(max_count)\n",
        "  mode = input_list[max_count_index]\n",
        "  return mode, max_count\n",
        "\n",
        "mode(prices)"
      ],
      "execution_count": null,
      "outputs": [
        {
          "output_type": "execute_result",
          "data": {
            "text/plain": [
              "(9999, 2)"
            ]
          },
          "metadata": {
            "tags": []
          },
          "execution_count": 19
        }
      ]
    },
    {
      "cell_type": "markdown",
      "metadata": {
        "id": "eprcVQyBRvKJ"
      },
      "source": [
        "So, in this way, we can create the `mode()` function which takes a one-dimensional array as an input and returns a pair of the modal value and its count as an output.\n",
        "\n",
        "Now, we are well equipped to build the actual Mind Reader game algorithm. We will create it in the next class."
      ]
    },
    {
      "cell_type": "markdown",
      "metadata": {
        "id": "tYfqpd06TrIq"
      },
      "source": [
        "---"
      ]
    }
  ]
}