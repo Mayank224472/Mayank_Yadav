{
  "nbformat": 4,
  "nbformat_minor": 0,
  "metadata": {
    "colab": {
      "name": "20200722_Mayank_Lesson1",
      "provenance": [],
      "collapsed_sections": [],
      "include_colab_link": true
    },
    "kernelspec": {
      "name": "python3",
      "display_name": "Python 3"
    }
  },
  "cells": [
    {
      "cell_type": "markdown",
      "metadata": {
        "id": "view-in-github",
        "colab_type": "text"
      },
      "source": [
        "<a href=\"https://colab.research.google.com/github/Mayank224472/Mayank224472/blob/main/20200722_Mayank_Lesson1.ipynb\" target=\"_parent\"><img src=\"https://colab.research.google.com/assets/colab-badge.svg\" alt=\"Open In Colab\"/></a>"
      ]
    },
    {
      "cell_type": "markdown",
      "metadata": {
        "id": "mFDyd3uB4WBx"
      },
      "source": [
        "# Lesson 1: Mind Reader Game - Variables & Data-Types\n"
      ]
    },
    {
      "cell_type": "markdown",
      "metadata": {
        "id": "2mRs675tV9i8"
      },
      "source": [
        "### Teacher-Student Activities\n",
        "\n",
        "Before creating the actual algorithm for the Mind Reader game, let's try to build a very simple algorithm in which a computer randomly predicts a player's next move. In the subsequent classes, we will learn the actual algorithm. \n",
        "\n",
        "In the very simple version of the Mind Reader game algorithm, a computer randomly predicts `Heads` or `Tails` for every player input.\n",
        "\n",
        "An algorithm is a well-defined and well-structured logic written in very clear and concise steps. For e.g., in case of the Mind Reader game, we want the computer to randomly predict the player inputs. Therefore, the very simple version of the Mind Reader game algorithm should implement the following steps:\n",
        "\n",
        "1. The computer should ask a player to enter either `0` or `1` as an input where `0` stands for `Heads` and `1` stands for `Tails`.\n",
        "\n",
        "2. The computer should print the player input.\n",
        "\n",
        "3. Regardless of the player input, the computer should predict `0` or `1` randomly where `0` stands for `Heads` and `1` stands for `Tails`.\n",
        "\n",
        "3. The computer should print the value predicted by the computer.\n",
        "\n",
        "After following the above three steps, we should get the following algorithm:\n",
        "\n",
        "```\n",
        "import random\n",
        "\n",
        "player_input = input(\"Enter either 0 or 1: \")\n",
        "print(\"You entered\", player_input)\n",
        "predict = random.randint(0, 1)\n",
        "print(\"Computer predicted\", predict)\n",
        "```\n",
        "\n",
        "**Note:** An algorithm is not specific to a computer programming language. It is just a logic that can be implemented in any computer programming language.\n"
      ]
    },
    {
      "cell_type": "markdown",
      "metadata": {
        "id": "QEV4jQkV4MDR"
      },
      "source": [
        "---"
      ]
    },
    {
      "cell_type": "markdown",
      "metadata": {
        "id": "95EjFl8fYThf"
      },
      "source": [
        "#### Activity 1: The `print()` Function\n",
        "\n",
        "As part of the algorithm, we need to print two messages to the player of the Mind Reader game. They are:\n",
        "\n",
        "1. `\"You entered\"` \n",
        "\n",
        "2. `\"Computer predicted\"`\n",
        "\n",
        "Let's learn how to do that. In Python, you can print anything using the `print()` function. \n",
        "\n",
        "**What is a function?**\n",
        "\n",
        "A function is like a device which takes some input and produces some output. For e.g., a juicer is a device which takes a fruit as an input and produces the juice of that fruit as an output. We will learn about functions in detail in the subsequent classes.\n",
        "\n",
        "Let's print `\"You entered\"` message using the `print()` function. The text `\"You entered\"` is an input to the `print()` function. The output would also be the same.\n",
        "\n",
        "When using the `print()` function, enclose the text that you need to print either in the single-quotes (`''`) or in double-quotes (`\"\"`). \n",
        "\n",
        "To run the code, either click on the `Play` button on the left-hand side of the code cell or press the `shift` and `enter` keys together while you are active in the code cell."
      ]
    },
    {
      "cell_type": "code",
      "metadata": {
        "id": "LOuPp_5WVLKM",
        "colab": {
          "base_uri": "https://localhost:8080/",
          "height": 34
        },
        "outputId": "9e0a5d17-fb6f-4b77-ce5b-9fb61fc4160a"
      },
      "source": [
        "# Teacher Action: Print \"You entered\" message to a player using the 'print()' function.\n",
        "print(\"you entered\")"
      ],
      "execution_count": null,
      "outputs": [
        {
          "output_type": "stream",
          "text": [
            "you entered\n"
          ],
          "name": "stdout"
        }
      ]
    },
    {
      "cell_type": "markdown",
      "metadata": {
        "id": "vKDJiweDwn2e"
      },
      "source": [
        "So, we have printed `\"You entered\"`. Notice that the text written after the hash (`#`) symbol is not a code rather it is a plain text. Anything written after `#` is read as a plain text by Python. Such plain texts are called **comments** made by a coder to briefly explain the code.\n",
        "\n",
        "Now you print `\"Computer predicted\"` message using the `print()` function."
      ]
    },
    {
      "cell_type": "code",
      "metadata": {
        "id": "OUCYA-WXXDwd",
        "colab": {
          "base_uri": "https://localhost:8080/",
          "height": 68
        },
        "outputId": "d7183228-c844-4549-a752-b5a834f5a45a"
      },
      "source": [
        "# Student Action: Print \"Computer predicted\" message to a player using the 'print()' function.\n",
        "print(\"Computer predicted\")\n",
        "print(\"White Hat\")\n",
        "print(10)"
      ],
      "execution_count": null,
      "outputs": [
        {
          "output_type": "stream",
          "text": [
            "Computer predicted\n",
            "White Hat\n",
            "10\n"
          ],
          "name": "stdout"
        }
      ]
    },
    {
      "cell_type": "markdown",
      "metadata": {
        "id": "eC5-Kf5ne1ON"
      },
      "source": [
        "---"
      ]
    },
    {
      "cell_type": "markdown",
      "metadata": {
        "id": "Ww9Zh65UZ-M3"
      },
      "source": [
        "#### Activity 2: Variables And Data-Types^\n",
        "\n",
        "As part of the algorithm, the Mind Reader game should take input (either `0` or `1` where `0` indicates `Heads` and `1` indicates `Tails`) from a player and store it somewhere so that we can use the input value later. To store a value, we need to create a variable.\n",
        "\n",
        "**What is a variable?**\n",
        "\n",
        "A variable is like a container. For example, a mug stores coffee or tea, a tiffin box stores your school lunch. Similarly in Python, a variable stores a value which is either a text (for e.g., `\"You entered\"`) or a number or any other data-type.\n",
        "\n",
        "**What are data-types in Python?**\n",
        "\n",
        "The data types in Python are as follows:\n",
        "\n",
        "1. *An integer* (denoted as `int`): a number without the decimal point. For e.g., `0, 1, -234, 12500` etc.\n",
        "\n",
        "2. *A floating-point number* (denoted as `float`): a number having a digit after the decimal point. For e.g., `0.0, 1.0, 3.14, 1.618` etc.\n",
        "\n",
        "3. *A string* (denoted as `str`): a value enclosed between either single-quotes (`''`) or double-quotes (`\"\"`). For e.g., `\"Computer predicted\"`, `'Windows 10'`, `'Xbox 360'` etc.  \n",
        "\n",
        "4. *A boolean* (denoted as `bool`): either `True` or `False` value. The 'Yes' or 'No' values are generally represented as `True` or `False` in Python. It cannot understand Yes or No because that's how Python has been designed by its creators.\n",
        "\n",
        "**Note:**\n",
        "1. The `T` in `True` and `F` in `False` must be capital because Python is case-sensitive.\n",
        "\n",
        "2. A variable can store only one value at a time.\n",
        "\n",
        "Now, let's practice Python variables by storing the various information about Mercury and Saturn planets in variables.\n",
        "\n",
        "||Mercury|Saturn|\n",
        "|-|-|-|\n",
        "|Diameter ($km$)|4879|120536|\n",
        "|Gravity ($m/s^2$)|3.7|9.0|\n",
        "|Ring|No|Yes|\n",
        "\n",
        "\n"
      ]
    },
    {
      "cell_type": "code",
      "metadata": {
        "id": "h-abfjmcA1c6"
      },
      "source": [
        "# Teacher Action: Create 4 different variables and store the planet name, diameter, gravity and ring values of the first planet in the variables.\n",
        "# 1. Store a string value in a variable\n",
        "planet1_name=\"Mercury\"\n",
        "# 2. Store an integer value in a variable.\n",
        "planet1_dia=4879\n",
        "# 3. Store a float-point number in a variable.\n",
        "planet1_gravity=3.7\n",
        "# 4. Store a boolean value in a number.\n",
        "planet1_has_ring=\"no\"\n",
        "# Python can also store a boolean value, i.e., either True or False. \n",
        "# The 'Yes' or 'No' values are generally represented as True or False in Python. It cannot understand Yes or No.\n",
        "\n",
        "# If we run the code cell, we won't get any output. But the values will be assigned to these 4 variables."
      ],
      "execution_count": null,
      "outputs": []
    },
    {
      "cell_type": "markdown",
      "metadata": {
        "id": "ZAxW4fIcQPNn"
      },
      "source": [
        "So far we have stored 4 different types of values in 4 different variables. Now, let's print the values stored in these variables using the `print()` function."
      ]
    },
    {
      "cell_type": "code",
      "metadata": {
        "id": "YZWNWc9cQNLl",
        "colab": {
          "base_uri": "https://localhost:8080/",
          "height": 85
        },
        "outputId": "6b61579a-ecee-46ef-9996-a659908adf36"
      },
      "source": [
        "9# Teacher Action: Print the values stored in all the 4 variables.\n",
        "print(planet1_name)\n",
        "print(planet1_dia)\n",
        "print(planet1_gravity)\n",
        "print(planet1_has_ring)"
      ],
      "execution_count": null,
      "outputs": [
        {
          "output_type": "stream",
          "text": [
            "Mercury\n",
            "4879\n",
            "3.7\n",
            "no\n"
          ],
          "name": "stdout"
        }
      ]
    },
    {
      "cell_type": "markdown",
      "metadata": {
        "id": "3KoCO6gacmav"
      },
      "source": [
        "As a good practice, name a variable in such a way that it reflects the nature of the value stored in it. In this case, the value that needs to be stored is the diameter of a planet. So, we have named a variable `planet1_dia` suggesting that the value stored in it is indeed the diameter of a planet.\n",
        "\n",
        "This is just a good practice. It is NOT compulsory to name a variable in this manner. You are free to provide any name to your variable. \n",
        "\n",
        "**Note:**\n",
        "\n",
        "- The first letter of a variable must be a lowercase letter. Otherwise, your variable name may clash with the existing predefined Python functions and objects. \n",
        "\n",
        "- Never name a variable beginning with a number. For e.g., the variable `1st_prize_winner` begins with the number `1`. Avoid creating variables with such names as it is a very bad practice. \n",
        "\n",
        "- As part of the naming process of a variable, never provide spaces between two or more letters or words because Python will consider them as different variables. For e.g., the variable `planet1 dia` are actually two different variables. So either provide no space between two words or letters in a variable or add the underscore (`_`) sign between them.\n",
        "\n",
        "Now, it's your turn to write the codes."
      ]
    },
    {
      "cell_type": "code",
      "metadata": {
        "id": "urESyr17HWFL",
        "colab": {
          "base_uri": "https://localhost:8080/",
          "height": 85
        },
        "outputId": "50234d74-fc4a-413f-ffcc-69cc2c57c60b"
      },
      "source": [
        "# Student Home Work : Create 4 different variables and store the planet name, diameter, graviy and ring values of the second planet in them.\n",
        "# 1. Create a variable and name it 'planet1_name'. Store the value \"mercury\" in it.\n",
        "planet1_name=\"mercury\"\n",
        "# 2. Create a variable and name it 'planet1_dia'. Store the diameter value of mercury in it.\n",
        "planet1_dia=4879\n",
        "# 3. Create a variable and name it 'planet1_gravity'. Store the gravity value of mercury in it.\n",
        "planet1_gravity=3.7\n",
        "# 4. Create a variable and name it 'planet1_has_ring'. Store True or False in it.\n",
        "planet1_has_ring='no'\n",
        "# Print the values stored in all the 4 variables.\n",
        "print(planet1_name)\n",
        "print(planet1_dia)\n",
        "print(planet1_gravity)\n",
        "print(planet1_has_ring)"
      ],
      "execution_count": null,
      "outputs": [
        {
          "output_type": "stream",
          "text": [
            "mercury\n",
            "4879\n",
            "3.7\n",
            "no\n"
          ],
          "name": "stdout"
        }
      ]
    },
    {
      "cell_type": "code",
      "metadata": {
        "id": "j7oxVkxELqHC",
        "colab": {
          "base_uri": "https://localhost:8080/",
          "height": 85
        },
        "outputId": "6ab16ea3-5b19-4d44-95e7-b0d4bfc84984"
      },
      "source": [
        "# Student Home work: Create 4 different variables and store the planet name, diameter, graviy and ring values of the second planet in them.\n",
        "# 1. Create a variable and name it 'planet2_name'. Store the value \"venus\" in it.\n",
        "planet2_name=\"venus\"\n",
        "# 2. Create a variable and name it 'planet2_dia'. Store the diameter value of venus in it.\n",
        "planet2_dia=12104\n",
        "# 3. Create a variable and name it 'planet2_gravity'. Store the gravity value of venus in it.\n",
        "planet2_gravity=8.9\n",
        "# 4. Create a variable and name it 'planet2_has_ring'. Store True or False in it.\n",
        "planet2_has_ring=\"no\"\n",
        "# Print the values stored in all the 4 variables.\n",
        "print(planet2_name)\n",
        "print(planet2_dia)\n",
        "print(planet2_gravity)\n",
        "print(planet2_has_ring)"
      ],
      "execution_count": null,
      "outputs": [
        {
          "output_type": "stream",
          "text": [
            "venus\n",
            "12104\n",
            "8.9\n",
            "no\n"
          ],
          "name": "stdout"
        }
      ]
    },
    {
      "cell_type": "code",
      "metadata": {
        "id": "ZR-KuMfFMPUX",
        "colab": {
          "base_uri": "https://localhost:8080/",
          "height": 85
        },
        "outputId": "abdf5d1d-f491-4977-c839-8203a2c5e3ff"
      },
      "source": [
        "# Student Home work: Create 4 different variables and store the planet name, diameter, graviy and ring values of the second planet in them.\n",
        "# 1. Create a variable and name it 'planet3_name'. Store the value \"earth\" in it.\n",
        "planet3_name=\"earth\"\n",
        "# 2. Create a variable and name it 'planet3_dia'. Store the diameter value of earth in it.\n",
        "planet3_dia=12756\n",
        "# 3. Create a variable and name it 'planet3_gravity'. Store the gravity value of earth in it.\n",
        "planet3_gravity=9.8\n",
        "# 4. Create a variable and name it 'planet3_has_ring'. Store True or False in it.\n",
        "planet3_has_ring=\"no\"\n",
        "# Print the values stored in all the 4 variables.\n",
        "print(planet3_name)\n",
        "print(planet3_dia)\n",
        "print(planet3_gravity)\n",
        "print(planet3_has_ring)"
      ],
      "execution_count": null,
      "outputs": [
        {
          "output_type": "stream",
          "text": [
            "earth\n",
            "12756\n",
            "9.8\n",
            "no\n"
          ],
          "name": "stdout"
        }
      ]
    },
    {
      "cell_type": "code",
      "metadata": {
        "id": "COwTSknKMdvv",
        "colab": {
          "base_uri": "https://localhost:8080/",
          "height": 85
        },
        "outputId": "7d79b928-e58b-4954-f5ae-ade6fac0e912"
      },
      "source": [
        "# Student Home work: Create 4 different variables and store the planet name, diameter, graviy and ring values of the second planet in them.\n",
        "# 1. Create a variable and name it 'planet4_name'. Store the value \"mars\" in it.\n",
        "planet4_name=\"mars\"\n",
        "# 2. Create a variable and name it 'planet4_dia'. Store the diameter value of mars in it.\n",
        "planet4_dia=6792\n",
        "# 3. Create a variable and name it 'planet4_gravity'. Store the gravity value of mars in it.\n",
        "planet4_gravity=3.7\n",
        "# 4. Create a variable and name it 'planet4_has_ring'. Store True or False in it.\n",
        "planet4_has_ring=\"no\"\n",
        "# Print the values stored in all the 4 variables.\n",
        "print(planet4_name)\n",
        "print(planet4_dia)\n",
        "print(planet4_gravity)\n",
        "print(planet4_gravity)"
      ],
      "execution_count": null,
      "outputs": [
        {
          "output_type": "stream",
          "text": [
            "mars\n",
            "6792\n",
            "3.7\n",
            "3.7\n"
          ],
          "name": "stdout"
        }
      ]
    },
    {
      "cell_type": "markdown",
      "metadata": {
        "id": "ZFlx26pK8EPr"
      },
      "source": [
        "So in this way, we can store some information (or data) in a variable and print their values using the `print()` function.\n",
        "\n",
        "After the class, you can refer to the link provided in the **Activities** section under the title **NASA Planetary Fact Sheet** to get the most accurate facts about the planets in our solar system."
      ]
    },
    {
      "cell_type": "markdown",
      "metadata": {
        "id": "dN-Mc4dg7xvt"
      },
      "source": [
        "---"
      ]
    },
    {
      "cell_type": "markdown",
      "metadata": {
        "id": "9uje_j6zditR"
      },
      "source": [
        "#### Activity 3: The `input()` Function^^\n",
        "\n",
        "As part of the algorithm, the Mind Reader game needs to ask a player to enter either `0` or `1` where `0` denotes `Heads` and `1` denotes `Tails`.\n",
        " \n",
        "To take input from a user in Python, you can use another function called `input()`.\n",
        "\n",
        "Let's ask the player of the Mind Reader game to enter either `0` or `1` and store it in the `player_input` variable. Inside the `input()` function, you can also write a message to the player to display the message before taking the required input.\n",
        "\n",
        "In the next line, let's also print the value stored in the `player_input` variable.\n",
        "\n"
      ]
    },
    {
      "cell_type": "code",
      "metadata": {
        "id": "-dpOB_mse2kx",
        "colab": {
          "base_uri": "https://localhost:8080/",
          "height": 51
        },
        "outputId": "c958cbea-f9f6-41dd-9b84-ddb344cab2ec"
      },
      "source": [
        "# Teacher Action: Take input from a user and store it in the 'player_input' variable.\n",
        "player_input=input(\"Enter either 0 or 1 : \")\n",
        "print(\"you entered\",player_input)\n"
      ],
      "execution_count": null,
      "outputs": [
        {
          "output_type": "stream",
          "text": [
            "Enter either 0 or 1 : 0\n",
            "you entered 0\n"
          ],
          "name": "stdout"
        }
      ]
    },
    {
      "cell_type": "markdown",
      "metadata": {
        "id": "dnqIGlzzeSda"
      },
      "source": [
        "Here, using the `print()` function, we printed a message `\"You entered\"` along with the value stored in the `player_input` variable. The message and the `player_input` are separated by a comma. \n",
        "\n",
        "*You can print multiple entities using the `print()` function by separating them with a comma.*\n",
        "\n",
        "Now, you ask a player to enter their name using the `input()` function,  display the `\"Enter your name: \"` message while taking the input and store the name entered by the player in the `player_name` variable. Then print the following message using the `print()` function.\n",
        "\n",
        "`\"Hello, player_name ! Welcome to the Mind Reader Game.\"` \n",
        "\n",
        "where `player_name` is the name entered by the player."
      ]
    },
    {
      "cell_type": "code",
      "metadata": {
        "id": "5LD6mU8GtwOK",
        "colab": {
          "base_uri": "https://localhost:8080/",
          "height": 51
        },
        "outputId": "95ed28eb-67cd-4acf-ac77-ea972f4d0b6a"
      },
      "source": [
        "# Student Action: Write a code to take input from a player and then print \"Hello, player_name ! Welcome to the Mind Reader Game\" message.\n",
        "# Create a variable and name it 'player_name'. Take input from the player using the 'input()' function.\n",
        "player_name=input(\"Enter player name :\")\n",
        "# Print \"Hello, player_name ! Welcome to the Mind Reader Game.\"\n",
        "print(\"Hello\", player_name , \"Welcome to the Mind Reader Game\")"
      ],
      "execution_count": null,
      "outputs": [
        {
          "output_type": "stream",
          "text": [
            "Enter player name :Mayank\n",
            "Hello Mayank Welcome to the Mind Reader Game\n"
          ],
          "name": "stdout"
        }
      ]
    },
    {
      "cell_type": "markdown",
      "metadata": {
        "id": "faTX4j4_nQCR"
      },
      "source": [
        "---"
      ]
    },
    {
      "cell_type": "markdown",
      "metadata": {
        "id": "NhWXS7kufHgs"
      },
      "source": [
        "#### Activity 4: Importing A Module\n",
        "\n",
        "So far we have completed the first two steps of creating the Mind Reader game algorithm, i.e., taking an input from a player and then printing the input given by the player.\n",
        "\n",
        "```\n",
        "import random\n",
        "\n",
        "player_input = input(\"Enter either 0 or 1: \")\n",
        "print(\"You entered\", player_input)\n",
        "```\n",
        "\n",
        "For the next step, we need the computer to predict `0` or `1` randomly where `0` denotes `Heads` and `1` denotes `Tails`. For this step, we need a function called `randint()` which returns a random integer between two integers. In our case, it must return either `0` or `1` randomly.\n",
        "\n",
        "However, we can't use this function directly like the `print()` and `input()` functions. We first need to import a module called `random`.\n",
        "\n",
        "Some functions in Python cannot be used directly. To use such a function, you first need to import a module in which that function exists and then use the required function. \n",
        "\n",
        "*For all practical purposes, a module is a collection of some special functions which are used occasionally.*\n",
        "\n",
        "The **syntax** for using a special function which exists in a module is\n",
        "\n",
        "`import module_name`    \n",
        "\n",
        "`module_name.function_name`\n",
        "\n",
        "**Note:** \n",
        "\n",
        "1. A syntax is like a grammar of a programing language. It is a standard protocol that must be following while writing code.\n",
        "\n",
        "2. Always import a module at the very beginning in your code. \n",
        "\n",
        "3. A module needs to be imported only once. However, both the student and the teacher has to import a module at-least-once at their respective ends.\n",
        "\n",
        "4. The dot (`.`) operator is used to call a function from a module.\n",
        "\n",
        "4. Based on your requirements you can use the relevant modules which are listed on the official Python documentation. The link to the Python official documentation is provided in the **Activities** section under the title **Python Official Documentation**.\n",
        "\n",
        "Let's try to generate a random number between `1` and `6` using the `randint()` function. It will return either `1, 2, 3, 4, 5` or `6`. In case you have noticed, this is a simulation of a die roll.\n",
        "\n",
        "<img src='https://student-datasets-bucket.s3.ap-south-1.amazonaws.com/images/fair-die.jpg' width=200>"
      ]
    },
    {
      "cell_type": "code",
      "metadata": {
        "id": "a4iQ512__59G",
        "colab": {
          "base_uri": "https://localhost:8080/",
          "height": 34
        },
        "outputId": "2dbf047f-c822-4228-f9d5-d87c1fe3f303"
      },
      "source": [
        "# Teacher Action: Import the 'random' module to use the 'randint()' function to generate an integer between 1 and 6 randomly.\n",
        "import random\n",
        "die_roll=random.randint(1,6)\n",
        "print(die_roll)"
      ],
      "execution_count": null,
      "outputs": [
        {
          "output_type": "stream",
          "text": [
            "6\n"
          ],
          "name": "stdout"
        }
      ]
    },
    {
      "cell_type": "markdown",
      "metadata": {
        "id": "2O07tCjUu3BL"
      },
      "source": [
        "In the above code,\n",
        "\n",
        "- We have first imported the `random` module\n",
        "\n",
        "- Then we have generated an integer between `1` and `6` and stored it in a variable called `die_roll`.\n",
        "\n",
        "- Then, we have printed the value stored in the `die_roll` variable using the `print()` function.\n",
        "\n",
        "You may get a different number as an output every time you run the above code. \n",
        "\n",
        "Now, using the `randint()` function, you need to \n",
        "\n",
        "- generate `0` or `1` randomly and store it in a variable called `predict`.\n",
        "\n",
        "- Then, print the value stored in the `predict` variable using the `print()` function."
      ]
    },
    {
      "cell_type": "code",
      "metadata": {
        "id": "WIjr_zTyHxhQ",
        "colab": {
          "base_uri": "https://localhost:8080/",
          "height": 34
        },
        "outputId": "24a8362e-4207-4d36-9c83-0d29975a114f"
      },
      "source": [
        "# Student Action: Using the 'randint()' function, generate 0 or 1 randomly.\n",
        "# 1. Import the 'random' module.\n",
        "import random\n",
        "# 2. Generate 0 or 1 randomly and then store the value obtained in the 'predict' variable.\n",
        "predict=random.randint(1,6)\n",
        "# 3. Print the value stored in the 'predict' variable.\n",
        "print(predict)"
      ],
      "execution_count": null,
      "outputs": [
        {
          "output_type": "stream",
          "text": [
            "2\n"
          ],
          "name": "stdout"
        }
      ]
    },
    {
      "cell_type": "markdown",
      "metadata": {
        "id": "9ed6iMjYvOtd"
      },
      "source": [
        "We have to import a module just once before using its functions. We don't have to import it again and again."
      ]
    },
    {
      "cell_type": "markdown",
      "metadata": {
        "id": "cOTsGjXEAAlM"
      },
      "source": [
        "---"
      ]
    },
    {
      "cell_type": "markdown",
      "metadata": {
        "id": "yGBbg3WNveFT"
      },
      "source": [
        "#### Activity 5: The Very Simple Algorithm^^^\n",
        "\n",
        "Now, we have successfully completed all the steps of creating a very simple Mind Reader game algorithm. Let's put all the steps together in one place to run the algorithm.\n",
        "\n",
        "We have to do the following:\n",
        "\n",
        "1. Take input from the player using the `input()` function and store it in the `player_input` variable. With the `input()` function, print the `\"Enter either 0 or 1: \"` message.\n",
        "\n",
        "2. Using the `print()` function, print the `\"You entered\"` message along with the value stored in the `player_input` variable.\n",
        "\n",
        "3. Create a variable and name it `predict`. Store the value returned by the `randint(0, 1)` function in the `predict` variable.\n",
        "\n",
        "4. Using the `print()` function, print the `\"Computer predicted\"` message along with the value stored in the `predict` variable.\n",
        "\n",
        "And voila! We have our algorithm ready."
      ]
    },
    {
      "cell_type": "code",
      "metadata": {
        "id": "yvas4G2yAKLJ",
        "colab": {
          "base_uri": "https://localhost:8080/",
          "height": 68
        },
        "outputId": "982375e2-4cd7-4ed6-970a-02de6316d406"
      },
      "source": [
        "# Student Action: Put all the steps of creating the Mind Reader game algorithm in one place to run it.\n",
        "# 1. Create 'player_input' variable and store the input given by the player in it\n",
        "import random\n",
        "player_input=input(\"Enter either 0 or 1: \")\n",
        "# 2. Print the \"You entered\" message along with the value stored in the 'player_input' variable.\n",
        "print(\"You entered\", player_input)\n",
        "# 3. Create a variable called 'predict' and store the value returned by the 'randint(0, 1)' function inside the variabl\n",
        "predict=random.randint(0,1)\n",
        "# 4. Print the \"Computer predicted\" message along with the value stored in the 'predict' variable.\n",
        "print(\"Computer predicted\",predict)"
      ],
      "execution_count": null,
      "outputs": [
        {
          "output_type": "stream",
          "text": [
            "Enter either 0 or 1: 0\n",
            "You entered 0\n",
            "Computer predicted 1\n"
          ],
          "name": "stdout"
        }
      ]
    },
    {
      "cell_type": "markdown",
      "metadata": {
        "id": "nyhzrlAJ1ImW"
      },
      "source": [
        "So we have created a very simple algorithm in which a player enters either `0` or `1` and the computer predicts `0` and `1` randomly.\n",
        "\n",
        "\n",
        "In the subsequent classes, we will add the following functionalities to the our algorithm:\n",
        "\n",
        "1. Keep a track of the scores for both the player and the computer.\n",
        "\n",
        "2. Restrict a player from entering invalid inputs, i.e., inputs other than `0` or `1`.\n",
        "\n",
        "3. Continue running the game until one of the players reaches a score of `50`.\n",
        "\n",
        "4. If the player wins, then print `\"Congrats, You Won!` else print `\"Bad Luck, You Lost!\"` messages.\n",
        "\n",
        "Additionally, we will improve the algorithm so that the computer can predict player moves accurately. \n"
      ]
    },
    {
      "cell_type": "markdown",
      "metadata": {
        "id": "Pu86T_jToJ2z"
      },
      "source": [
        "---"
      ]
    },
    {
      "cell_type": "markdown",
      "metadata": {
        "id": "Og5x-0qmoK8D"
      },
      "source": [
        "### Fun Fact\n",
        "\n",
        "One of the cool things about Jupyter notebook is that you don't always have to use the `print()` function to get an output. Let's say you want to print the value stored in a variable without using the `print()` function, then you simply have to write the variable at the end of the code in a code cell."
      ]
    },
    {
      "cell_type": "code",
      "metadata": {
        "id": "zO3rA3M5lf0d"
      },
      "source": [
        "# Student Action: Create a variable called 'game_name' and store the value 'Mind Reader Game' in it. \n",
        "# Print the value stored in the 'game_name' variable without using the 'print()' function"
      ],
      "execution_count": null,
      "outputs": []
    },
    {
      "cell_type": "markdown",
      "metadata": {
        "id": "0PIfbKuHl1qX"
      },
      "source": [
        "This functionality is not available in any other software for writing Python codes."
      ]
    },
    {
      "cell_type": "markdown",
      "metadata": {
        "id": "mBZsIflh5viR"
      },
      "source": [
        "---"
      ]
    }
  ]
}
