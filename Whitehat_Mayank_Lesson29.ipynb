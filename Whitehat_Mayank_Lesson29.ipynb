{
  "nbformat": 4,
  "nbformat_minor": 0,
  "metadata": {
    "colab": {
      "name": "2020-12-mayank- Lesson 29 ",
      "provenance": [],
      "collapsed_sections": [],
      "include_colab_link": true
    },
    "kernelspec": {
      "name": "python3",
      "display_name": "Python 3"
    }
  },
  "cells": [
    {
      "cell_type": "markdown",
      "metadata": {
        "id": "view-in-github",
        "colab_type": "text"
      },
      "source": [
        "<a href=\"https://colab.research.google.com/github/Mayank224472/Mayank_Yadav/blob/WhiteHat_Mayank_Applied_Tech/Whitehat_Mayank_Lesson29.ipynb\" target=\"_parent\"><img src=\"https://colab.research.google.com/assets/colab-badge.svg\" alt=\"Open In Colab\"/></a>"
      ]
    },
    {
      "cell_type": "markdown",
      "metadata": {
        "id": "aMbswDYFUt_1"
      },
      "source": [
        "# Lesson 29: Capstone Class - Meteorite Landings "
      ]
    },
    {
      "cell_type": "markdown",
      "metadata": {
        "id": "8yGmgpzD9yca"
      },
      "source": [
        "### Teacher-Student Activities\n",
        "\n",
        "Two classes ago, we learnt how to create a histogram. We also created a histogram for 10 different classes of meteorites. In this class, we will learn about chondrites and will compute the percentage of minimum ordinary chondrite type meteorites fallen on Earth.\n",
        "\n",
        "Let's do a quick recap and start the class with **Activity 1: Conclusion** section.\n"
      ]
    },
    {
      "cell_type": "markdown",
      "metadata": {
        "id": "0btx_ehOLDK5"
      },
      "source": [
        "---"
      ]
    },
    {
      "cell_type": "markdown",
      "metadata": {
        "id": "DoShzic97iBl"
      },
      "source": [
        "#### Recap\n",
        "\n",
        "Dataset Link (don't click on it):\n",
        "\n",
        "https://student-datasets-bucket.s3.ap-south-1.amazonaws.com/whitehat-ds-datasets/meteorite-landings/meteorite-landings.csv\n"
      ]
    },
    {
      "cell_type": "code",
      "metadata": {
        "id": "ThLLbqIzUd9f",
        "colab": {
          "base_uri": "https://localhost:8080/"
        },
        "outputId": "e3703cef-ee10-4046-ad78-a74926243ca4"
      },
      "source": [
        "# Below are the activities that have been covered in the previous class.\n",
        "# 1. Import the necessary libraries for this class and create a DataFrame.\n",
        "import numpy as np\n",
        "import pandas as pd\n",
        "import matplotlib.pyplot as plt\n",
        "\n",
        "met_df = pd.read_csv('https://student-datasets-bucket.s3.ap-south-1.amazonaws.com/whitehat-ds-datasets/meteorite-landings/meteorite-landings.csv')\n",
        "\n",
        "# 2. Find the number of rows and columns in the DataFrame. \n",
        "print(met_df.shape)\n",
        "\n",
        "# 3. Rows containing the year values less than 860 and greater than 2016.\n",
        "correct_years_df = met_df[(met_df['year'] >= 860) & (met_df['year'] <= 2016)]\n",
        "\n",
        "# 4. Rows having the 'reclong' values greater than or equal to -180 degrees and less than or equal to 180 degrees.\n",
        "correct_long_df = correct_years_df[(correct_years_df['reclong'] >= -180) & (correct_years_df['reclong'] <= 180)]\n",
        "\n",
        "# 5. Rows containing the '0 reclat' and '0 reclong' values from the 'correct_long_df'.\n",
        "correct_lat_long_df = correct_long_df[~((correct_long_df['reclat'] == 0 ) & (correct_long_df['reclong'] == 0))]\n",
        "\n",
        "# 6. Indices of the rows having missing mass values.\n",
        "row_indices = correct_lat_long_df[correct_lat_long_df['mass'].isnull() == True].index\n",
        "\n",
        "# 7. Missing values in the 'mass' column in the 'correct_lat_long_df' DataFrame with median of mass.\n",
        "median_mass = correct_lat_long_df['mass'].median()\n",
        "correct_lat_long_df.loc[row_indices, 'mass'] = median_mass\n",
        "\n",
        "# 8. Convert the 'year' values into integer type values.\n",
        "correct_lat_long_df.loc[:, 'year'] = correct_lat_long_df.loc[:, 'year'].astype('int')"
      ],
      "execution_count": null,
      "outputs": [
        {
          "output_type": "stream",
          "text": [
            "(45716, 10)\n"
          ],
          "name": "stdout"
        },
        {
          "output_type": "stream",
          "text": [
            "/usr/local/lib/python3.6/dist-packages/pandas/core/indexing.py:1763: SettingWithCopyWarning: \n",
            "A value is trying to be set on a copy of a slice from a DataFrame.\n",
            "Try using .loc[row_indexer,col_indexer] = value instead\n",
            "\n",
            "See the caveats in the documentation: https://pandas.pydata.org/pandas-docs/stable/user_guide/indexing.html#returning-a-view-versus-a-copy\n",
            "  isetter(loc, value)\n",
            "/usr/local/lib/python3.6/dist-packages/pandas/core/indexing.py:1743: SettingWithCopyWarning: \n",
            "A value is trying to be set on a copy of a slice from a DataFrame.\n",
            "Try using .loc[row_indexer,col_indexer] = value instead\n",
            "\n",
            "See the caveats in the documentation: https://pandas.pydata.org/pandas-docs/stable/user_guide/indexing.html#returning-a-view-versus-a-copy\n",
            "  isetter(ilocs[0], value)\n"
          ],
          "name": "stderr"
        }
      ]
    },
    {
      "cell_type": "markdown",
      "metadata": {
        "id": "mAHPBr8hmtGf"
      },
      "source": [
        "---"
      ]
    },
    {
      "cell_type": "markdown",
      "metadata": {
        "id": "E1dRYFoRzSp_"
      },
      "source": [
        "#### Meteorite Class-wise Histograms\n",
        "\n",
        "The number of unique classes of meteorites present in the dataset."
      ]
    },
    {
      "cell_type": "code",
      "metadata": {
        "id": "9U3xbkhsd5rw",
        "colab": {
          "base_uri": "https://localhost:8080/"
        },
        "outputId": "45d98824-3ed2-4c68-c45d-63564c90ee46"
      },
      "source": [
        "# Calculate the number of unique classes of meteorites.\n",
        "len(correct_lat_long_df['recclass'].unique())"
      ],
      "execution_count": null,
      "outputs": [
        {
          "output_type": "execute_result",
          "data": {
            "text/plain": [
              "394"
            ]
          },
          "metadata": {
            "tags": []
          },
          "execution_count": 2
        }
      ]
    },
    {
      "cell_type": "markdown",
      "metadata": {
        "id": "VnX6b45R0fqe"
      },
      "source": [
        "There are 394 different classes of meteorites. "
      ]
    },
    {
      "cell_type": "code",
      "metadata": {
        "id": "zT4HRB2ld9kI",
        "colab": {
          "base_uri": "https://localhost:8080/"
        },
        "outputId": "3f46861e-6054-4afe-c215-c1ced85cb754"
      },
      "source": [
        "# Count of the fall of the different classes of meteorites.\n",
        "correct_lat_long_df['recclass'].value_counts()"
      ],
      "execution_count": null,
      "outputs": [
        {
          "output_type": "execute_result",
          "data": {
            "text/plain": [
              "L6              6529\n",
              "H5              5590\n",
              "H4              3324\n",
              "H6              3231\n",
              "L5              2725\n",
              "                ... \n",
              "L3.3-3.5           1\n",
              "L/LL5-6            1\n",
              "H(?)4              1\n",
              "L(LL)3.5-3.7       1\n",
              "EH7-an             1\n",
              "Name: recclass, Length: 394, dtype: int64"
            ]
          },
          "metadata": {
            "tags": []
          },
          "execution_count": 3
        }
      ]
    },
    {
      "cell_type": "markdown",
      "metadata": {
        "id": "LWw5dZk4GnG9"
      },
      "source": [
        "The `value_counts()` function returns a Pandas series."
      ]
    },
    {
      "cell_type": "code",
      "metadata": {
        "id": "MxveeXXCeThX",
        "colab": {
          "base_uri": "https://localhost:8080/"
        },
        "outputId": "96b0439c-2ebc-4436-b363-df9deae0482c"
      },
      "source": [
        "# Store the 'correct_lat_long_df['recclass'].value_counts()' Pandas series in a new variable.\n",
        "met_class_counts = correct_lat_long_df['recclass'].value_counts()\n",
        "met_class_counts"
      ],
      "execution_count": null,
      "outputs": [
        {
          "output_type": "execute_result",
          "data": {
            "text/plain": [
              "L6              6529\n",
              "H5              5590\n",
              "H4              3324\n",
              "H6              3231\n",
              "L5              2725\n",
              "                ... \n",
              "L3.3-3.5           1\n",
              "L/LL5-6            1\n",
              "H(?)4              1\n",
              "L(LL)3.5-3.7       1\n",
              "EH7-an             1\n",
              "Name: recclass, Length: 394, dtype: int64"
            ]
          },
          "metadata": {
            "tags": []
          },
          "execution_count": 4
        }
      ]
    },
    {
      "cell_type": "markdown",
      "metadata": {
        "id": "A7vLHa-OY0-h"
      },
      "source": [
        "Display the top 10 classes of the meteorites with the highest number of falls."
      ]
    },
    {
      "cell_type": "code",
      "metadata": {
        "id": "dt8j4JGNese-",
        "colab": {
          "base_uri": "https://localhost:8080/"
        },
        "outputId": "a676721f-b631-408e-cdab-106013bc586a"
      },
      "source": [
        "# Display the top 10 most number of fallen meteorite classes.\n",
        "met_class_counts[:10].index"
      ],
      "execution_count": null,
      "outputs": [
        {
          "output_type": "execute_result",
          "data": {
            "text/plain": [
              "Index(['L6', 'H5', 'H4', 'H6', 'L5', 'LL5', 'LL6', 'L4', 'H4/5', 'CM2'], dtype='object')"
            ]
          },
          "metadata": {
            "tags": []
          },
          "execution_count": 5
        }
      ]
    },
    {
      "cell_type": "markdown",
      "metadata": {
        "id": "5yBhlS4dHC8s"
      },
      "source": [
        "Create a histogram for the top ten most number of fallen class of meteorites to see if there is any kind of similarity in the pattern of their falls. Make sure that each histogram has exactly 50 bins."
      ]
    },
    {
      "cell_type": "code",
      "metadata": {
        "id": "AO_UfL7gfE5w",
        "colab": {
          "base_uri": "https://localhost:8080/",
          "height": 1000
        },
        "outputId": "d87860f9-738e-48c2-a6e8-3b075ae3f1a0"
      },
      "source": [
        "# Plot the histograms for the top 10 most number of fallen meteorite classes using the 'hist()' function.\n",
        "for c in met_class_counts[:10].index:\n",
        "  plt.figure(figsize=(20, 5))\n",
        "  plt.title(c) # The 'title()' function adds a title to the graph. Here, we are providing the meteorite class as a title.\n",
        "  plt.hist(correct_lat_long_df.loc[(correct_lat_long_df['recclass'] == c) & (correct_lat_long_df['year'] > 1900), 'year'], bins=50)\n",
        "  plt.grid()\n",
        "  plt.show()"
      ],
      "execution_count": null,
      "outputs": [
        {
          "output_type": "display_data",
          "data": {
            "image/png": "[encoded data removed]",
            "text/plain": [
              "<Figure size 1440x360 with 1 Axes>"
            ]
          },
          "metadata": {
            "tags": [],
            "needs_background": "light"
          }
        },
        {
          "output_type": "display_data",
          "data": {
            "image/png": "[encoded data removed]",
            "text/plain": [
              "<Figure size 1440x360 with 1 Axes>"
            ]
          },
          "metadata": {
            "tags": [],
            "needs_background": "light"
          }
        },
        {
          "output_type": "display_data",
          "data": {
            "image/png": "[encoded data removed]",
            "text/plain": [
              "<Figure size 1440x360 with 1 Axes>"
            ]
          },
          "metadata": {
            "tags": [],
            "needs_background": "light"
          }
        },
        {
          "output_type": "display_data",
          "data": {
            "image/png": "[encoded data removed]",
            "text/plain": [
              "<Figure size 1440x360 with 1 Axes>"
            ]
          },
          "metadata": {
            "tags": [],
            "needs_background": "light"
          }
        },
        {
          "output_type": "display_data",
          "data": {
            "image/png": "[encoded data removed]",
            "text/plain": [
              "<Figure size 1440x360 with 1 Axes>"
            ]
          },
          "metadata": {
            "tags": [],
            "needs_background": "light"
          }
        },
        {
          "output_type": "display_data",
          "data": {
            "image/png": "[encoded data removed]",
            "text/plain": [
              "<Figure size 1440x360 with 1 Axes>"
            ]
          },
          "metadata": {
            "tags": [],
            "needs_background": "light"
          }
        },
        {
          "output_type": "display_data",
          "data": {
            "image/png": "[encoded data removed]",
            "text/plain": [
              "<Figure size 1440x360 with 1 Axes>"
            ]
          },
          "metadata": {
            "tags": [],
            "needs_background": "light"
          }
        },
        {
          "output_type": "display_data",
          "data": {
            "image/png": "[encoded data removed]",
            "text/plain": [
              "<Figure size 1440x360 with 1 Axes>"
            ]
          },
          "metadata": {
            "tags": [],
            "needs_background": "light"
          }
        },
        {
          "output_type": "display_data",
          "data": {
            "image/png": "[encoded data removed]",
            "text/plain": [
              "<Figure size 1440x360 with 1 Axes>"
            ]
          },
          "metadata": {
            "tags": [],
            "needs_background": "light"
          }
        },
        {
          "output_type": "display_data",
          "data": {
            "image/png": "[encoded data removed]",
            "text/plain": [
              "<Figure size 1440x360 with 1 Axes>"
            ]
          },
          "metadata": {
            "tags": [],
            "needs_background": "light"
          }
        }
      ]
    },
    {
      "cell_type": "markdown",
      "metadata": {
        "id": "77Ob_q--3MSB"
      },
      "source": [
        "There is no definite recognisable pattern in the fall of the meteorites over the years for a class of a meteorite. \n",
        "\n",
        "The only concrete observation that we can make from the histograms is that the most number of `LL5` class meteorites fell between the years 1995 and 2005 and the most number of the `H4/5` class meteorites fell between the years 1975 and 1980. \n",
        "\n"
      ]
    },
    {
      "cell_type": "markdown",
      "metadata": {
        "id": "LWoqeCo969Nw"
      },
      "source": [
        "---"
      ]
    },
    {
      "cell_type": "markdown",
      "metadata": {
        "id": "uqfiFnN86-fJ"
      },
      "source": [
        "#### Activity 1: Conclusion\n",
        "\n",
        "Here is an interesting fun fact. **Most of the meteorites that fell on Earth are chondrites**.  \n",
        "\n",
        "According to Wikipedia, *Chondrites are the most common type of meteorite that falls to Earth with estimates for the proportion of the total fall that they represent varying between 85.7% and 86.2%.*\n",
        "\n",
        "We are interested in **ordinary chondrites** because they contain chondrules. Any rock containing a chondrule is called a chondrite.\n",
        "\n",
        "**Why are chondrules important?**\n",
        "\n",
        "Chondrules were formed at the time of formation of the solar system. The ordinary chondrites falling down on Earth have exactly the same composition as the surface of the sun. About 87% of the silicates (a type of minerals) in most meteorites are made up of chondrules.\n",
        "\n",
        "Now, watch a video on chondrules by clicking on the link provided in the **Activities** section under the title **Chondrules**.\n",
        "\n"
      ]
    },
    {
      "cell_type": "markdown",
      "metadata": {
        "id": "YuWknFoL7L02"
      },
      "source": [
        "---"
      ]
    },
    {
      "cell_type": "markdown",
      "metadata": {
        "id": "94GRrKDTw2Xv"
      },
      "source": [
        "#### Activity 2: Percentage of Ordinary Chondrites^\n",
        "\n",
        "Before we go into more details of chondrites and chondrules, let's compute the percentage of ordinary chondrites that have fallen on Earth given in the dataset.\n",
        "\n",
        "Here's a list of different types of ordinary chondrites.\n",
        "\n",
        "|Subtype|Distinguishing features/Chondrule character|Letter designation|\n",
        "|-|-|-|\n",
        "|H|Abundant|H3-H3,9|\n",
        "||Distinct|H4|\n",
        "||Less distinct|H5|\n",
        "||Indistinct|H6|\n",
        "||Melted|H7|\n",
        "||||\n",
        "|L|Abundant|L3-L3,9|\n",
        "||Distinct|L4|\n",
        "||Less distinct|L5|\n",
        "||Indistinct|L6|\n",
        "||Melted|L7|\n",
        "||||\n",
        "|LL|Abundant|LL3-LL3,9|\n",
        "||Distinct|LL4|\n",
        "||Less distinct|LL5|\n",
        "||Indistinct|LL6|\n",
        "||Melted|LL7|\n",
        "\n",
        "*Source: https://en.wikipedia.org/wiki/Chondrite*\n",
        "\n",
        "If you list out the top 10 meteorites in the DataFrame, you will notice that except for the `CM2`, all other meteorites are ordinary chondrites.\n"
      ]
    },
    {
      "cell_type": "code",
      "metadata": {
        "id": "TCNS2sQTGiDn",
        "colab": {
          "base_uri": "https://localhost:8080/"
        },
        "outputId": "7b5a1bce-f0ef-4eb7-da46-22579692ca64"
      },
      "source": [
        "# Student Action: Display the top 10 most number of classes of meteorites fallen on Earth.\n",
        "met_class_counts[:10]"
      ],
      "execution_count": null,
      "outputs": [
        {
          "output_type": "execute_result",
          "data": {
            "text/plain": [
              "L6      6529\n",
              "H5      5590\n",
              "H4      3324\n",
              "H6      3231\n",
              "L5      2725\n",
              "LL5     1897\n",
              "LL6      963\n",
              "L4       799\n",
              "H4/5     380\n",
              "CM2      281\n",
              "Name: recclass, dtype: int64"
            ]
          },
          "metadata": {
            "tags": []
          },
          "execution_count": 12
        }
      ]
    },
    {
      "cell_type": "markdown",
      "metadata": {
        "id": "rK_nL9-6HHHH"
      },
      "source": [
        "Notice that among the top 10 classes of meteorites that fall on Earth, 9 classes are ordinary chondrites. In the above list, except for the `CM2` class, all other classes of meteorites are chondrites.\n",
        "\n",
        "Now, using the table above, let's create a Python list containing the ordinary chondrites to calculate the percentage of ordinary chondrites in the `correct_lat_long_df` DataFrame."
      ]
    },
    {
      "cell_type": "code",
      "metadata": {
        "id": "U8Cz-MJY6cC3"
      },
      "source": [
        "# Student Action: Run the code below to create a list containing letter designations of the ordinary chondrites.\n",
        "ord_chon = ['H3-H3,9', 'H4', 'H5', 'H6', 'H7', 'L3-L3,9', 'L4', 'L5', 'L6', 'L7', 'LL3-LL3,9', 'LL4', 'LL5', 'LL6', 'LL7', 'H', 'L', 'LL', 'H-H']"
      ],
      "execution_count": null,
      "outputs": []
    },
    {
      "cell_type": "markdown",
      "metadata": {
        "id": "m9Y-a486FQZW"
      },
      "source": [
        "The above list contains the letter designations of most of the ordinary chondrites that we have in the `correct_lat_long_df` DataFrame. There can be more ordinary chondrites. But using the above list, we can find out the minimum number of ordinary chondrites in the `correct_lat_long_df` DataFrame.\n",
        "\n",
        "Let's calculate the percentage of the ordinary chondrites fallen on Earth."
      ]
    },
    {
      "cell_type": "code",
      "metadata": {
        "id": "XJWO_2eTH0Do",
        "colab": {
          "base_uri": "https://localhost:8080/"
        },
        "outputId": "6ffbe806-3155-4f43-cba1-170cb5e47a2a"
      },
      "source": [
        "# Student Action: Calculate the percentage of ordinary chondrites fallen on Earth.\n",
        "total=0\n",
        "for c in ord_chon:\n",
        "  for j in correct_lat_long_df['recclass']:\n",
        "    if c==j:\n",
        "      total=total+1\n",
        "round(total*100/correct_lat_long_df.shape[0])\n"
      ],
      "execution_count": null,
      "outputs": [
        {
          "output_type": "execute_result",
          "data": {
            "text/plain": [
              "80"
            ]
          },
          "metadata": {
            "tags": []
          },
          "execution_count": 19
        }
      ]
    },
    {
      "cell_type": "markdown",
      "metadata": {
        "id": "BYkw32qAJXZD"
      },
      "source": [
        "In the above code:\n",
        "\n",
        "1. We have created a variable (`total`) to store the total counts of the ordinary chondrites in the `correct_lat_long_df` DataFrame.\n",
        "\n",
        "2. Using the `for` loop, we iterate through each item contained in the `ord_chon` list. Using another `for` loop, we iterate through each item contained in the `correct_lat_long_df['recclass']` series.\n",
        "\n",
        "  - Inside the inner `for` loop, we compare each item of the `ord_chon` list with each item of the `correct_lat_long_df['recclass']` series.\n",
        "\n",
        "  - If the above two items are the same, then we increase the value stored in the `total` variable by one.\n",
        "\n",
        "- Using the `print()` function, we printed the total counts and percentage of the ordinary chondrites in the `correct_lat_long_df` DataFrame.\n",
        "\n",
        "**The `round()` Function**\n",
        "\n",
        "The `round()` function rounds off a float value up to a fixed number of digits after the decimal. \n",
        "\n",
        "**Syntax:** `round(some_float_value, number_of_digits)`\n",
        "\n",
        "where \n",
        "\n",
        "- `some_float_value` is the value that needs to be rounded off and\n",
        "\n",
        "- `number_of_digits` is the number of digits to be kept after the decimal.\n",
        "\n",
        "E.g., `round(21.8794, 2)` will return `21.89` as an output.\n"
      ]
    },
    {
      "cell_type": "code",
      "metadata": {
        "id": "uPzXu8d3cl79",
        "colab": {
          "base_uri": "https://localhost:8080/"
        },
        "outputId": "fbb0e47f-41cf-4321-80f3-fd2a30fe4a64"
      },
      "source": [
        "# Student Action: Round off the 21.8794 value up to 2 digits after the decimal.\n",
        "round(21.8748,3)"
      ],
      "execution_count": null,
      "outputs": [
        {
          "output_type": "execute_result",
          "data": {
            "text/plain": [
              "21.875"
            ]
          },
          "metadata": {
            "tags": []
          },
          "execution_count": 24
        }
      ]
    },
    {
      "cell_type": "markdown",
      "metadata": {
        "id": "O8-GyIAycnGB"
      },
      "source": [
        "We confirmed that at least 79% of the meteorites are ordinary chondrites in the `correct_lat_long_df` DataFrame. \n",
        "\n",
        "According to Wikipedia, *Ordinary chondrites are by far the most common type of meteorite to fall to Earth: about 80% of all meteorites and over 90% of chondrites are ordinary chondrites.*\n",
        "\n",
        "<img src='https://student-datasets-bucket.s3.ap-south-1.amazonaws.com/images/ordinary-chondrites-wiki.png'>\n",
        "\n",
        "As per our calculation, at least 79% per cent of the meteorites fallen on Earth are ordinary chondrites. Our calculation is very close to Wikipedia's claim.\n",
        "\n",
        "There are more chondrites in the DataFrame, but finding them out manually is a laborious task. If we display all the classes of meteorites, you will realise how messed-up the data is."
      ]
    },
    {
      "cell_type": "markdown",
      "metadata": {
        "id": "vNLwm5rp0N_2"
      },
      "source": [
        "---"
      ]
    },
    {
      "cell_type": "markdown",
      "metadata": {
        "id": "Hn_esGQz0OqY"
      },
      "source": [
        "#### Activity 3: The `unique()` Function^^\n",
        "\n",
        "Let's create a list of all the unique classes of meteorites in the `correct_lat_long_df` DataFrame to see the different classes of meteorites. We already know that there are 394 different classes of meteorites."
      ]
    },
    {
      "cell_type": "code",
      "metadata": {
        "id": "CBSij2_O0GTZ",
        "colab": {
          "base_uri": "https://localhost:8080/"
        },
        "outputId": "ca2f81bd-1484-48af-ee83-eeb3d75249fd"
      },
      "source": [
        "# Student Action: Create a list of all the unique classes of meteorites in the 'correct_lat_long_df' DataFrame.\n",
        "len(correct_lat_long_df['recclass'].unique())\n",
        "\n",
        "# We already know that there are 394 different classes of meteorites. Let's confirm it.\n"
      ],
      "execution_count": null,
      "outputs": [
        {
          "output_type": "execute_result",
          "data": {
            "text/plain": [
              "394"
            ]
          },
          "metadata": {
            "tags": []
          },
          "execution_count": 30
        }
      ]
    },
    {
      "cell_type": "markdown",
      "metadata": {
        "id": "IWY2XmsWz8I4"
      },
      "source": [
        "As you can see, the list containing the different classes of meteorites is very long. They are also annotated with some other type of meteorites. Hence, segregating the ordinary class of meteorites from the above list is quite difficult and a very time-consuming exercise. So, we will accept the fact that at least 79% of the meteorites that fall on Earth are ordinary chondrites.\n"
      ]
    },
    {
      "cell_type": "markdown",
      "metadata": {
        "id": "K48lhujzw1hd"
      },
      "source": [
        "---"
      ]
    },
    {
      "cell_type": "markdown",
      "metadata": {
        "id": "8Y-LTYz_t0zY"
      },
      "source": [
        "#### Activity 4: Theory of Formation of Chondrules^^^\n",
        "\n",
        "Let's learn more about chondrules and the origin of meteorites. Click on the link provided in the **Activities** section under the title **Chondrules and the Origin of Meteorites**\n",
        "\n",
        "It is an article explaining the formation of meteorites and chondrules. The formation theory is a hypothesis, i.e., it is yet to be proved. You can also see some of the examples of different types of chondrules which you can see in your own time.\n"
      ]
    },
    {
      "cell_type": "markdown",
      "metadata": {
        "id": "GKy-WfZgtzoi"
      },
      "source": [
        "---"
      ]
    },
    {
      "cell_type": "markdown",
      "metadata": {
        "id": "-BZ3PAoJ2WbI"
      },
      "source": [
        "#### Final Thoughts\n",
        "\n",
        "So, more the ordinary chondrites fall on Earth, more will be the availability of chondrules. We have already established that the study of chondrules allows us to understand the creation of our solar system. That's why the study of meteorites is important. If you ever get an ordinary chondrite, protect it. Don't lose it because you essentially will be carrying the history of the solar system in your hands.\n",
        "\n",
        "To learn more about chondrules, you can watch another video on chondrules. The link to the video is provided in the **Activities** section under the title **Origins of Chondrites and Chondrules - Derek Sears (SETI Talks)**.\n",
        "\n",
        "**Note:** You can atttempt **Project 8** now."
      ]
    },
    {
      "cell_type": "markdown",
      "metadata": {
        "id": "nZR81Nk52VBe"
      },
      "source": [
        "---"
      ]
    }
  ]
}