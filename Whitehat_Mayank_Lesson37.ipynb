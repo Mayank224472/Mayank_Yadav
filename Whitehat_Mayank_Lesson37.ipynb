{
  "nbformat": 4,
  "nbformat_minor": 0,
  "metadata": {
    "colab": {
      "name": "2021-4-4-Mayank - Lesson 37 ",
      "provenance": [],
      "collapsed_sections": [],
      "include_colab_link": true
    },
    "kernelspec": {
      "name": "python3",
      "display_name": "Python 3"
    }
  },
  "cells": [
    {
      "cell_type": "markdown",
      "metadata": {
        "id": "view-in-github",
        "colab_type": "text"
      },
      "source": [
        "<a href=\"https://colab.research.google.com/github/Mayank224472/Mayank_Yadav/blob/WhiteHat_Mayank_Applied_Tech/Whitehat_Mayank_Lesson37.ipynb\" target=\"_parent\"><img src=\"https://colab.research.google.com/assets/colab-badge.svg\" alt=\"Open In Colab\"/></a>"
      ]
    },
    {
      "cell_type": "markdown",
      "metadata": {
        "id": "LHMNPeUke3VC"
      },
      "source": [
        "# Lesson 37: Capstone Class - String Operations III"
      ]
    },
    {
      "cell_type": "markdown",
      "metadata": {
        "id": "d0RqwmGHOaUo"
      },
      "source": [
        "### Teacher-Student Activities\n",
        "\n",
        "Welcome to the Capstone Class. Are you prepared for today's challenge? \n",
        "Let's continue our quest to understand String Operations further. \n",
        " \n",
        "In this class, we will learn the remaining string operations/functions in Python."
      ]
    },
    {
      "cell_type": "markdown",
      "metadata": {
        "id": "1ndsjaU3X0V7"
      },
      "source": [
        "---"
      ]
    },
    {
      "cell_type": "markdown",
      "metadata": {
        "id": "CFg0CuZyh1o5"
      },
      "source": [
        "#### Activity 1: The `strip(), lstrip()` & `rstrip()` Functions\n",
        "\n",
        "The `strip()` function removes any unwanted item from a string present at both ends of a string. By-default it removes the whitespaces unless otherwise specified.\n",
        "\n",
        "The string below contains many `#` symbols, whitespaces and commas`.\n",
        "\n",
        "`' #food, #foodie, #yummy, #delicious, #foodislife ## '`\n",
        "\n",
        "Let's remove the whitespaces and `#` symbols from both ends of the string using the `strip()` function.\n",
        "\n",
        "**Syntax:** `string.strip(character)`\n",
        "\n",
        "where `character` is the character to be removed from both ends of a string."
      ]
    },
    {
      "cell_type": "code",
      "metadata": {
        "id": "mxbTH791h0cD",
        "colab": {
          "base_uri": "https://localhost:8080/",
          "height": 35
        },
        "outputId": "e328b94f-7ac9-486a-c613-46fb8937e713"
      },
      "source": [
        "# Student Action: Remove whitespaces from both ends of the given string.\n",
        "food_hacks=' #food, #foodie, #yummy, #delicious, #foodislife ## '\n",
        "food_hacks.strip(' #')"
      ],
      "execution_count": null,
      "outputs": [
        {
          "output_type": "execute_result",
          "data": {
            "application/vnd.google.colaboratory.intrinsic+json": {
              "type": "string"
            },
            "text/plain": [
              "'food, #foodie, #yummy, #delicious, #foodislife'"
            ]
          },
          "metadata": {
            "tags": []
          },
          "execution_count": 2
        }
      ]
    },
    {
      "cell_type": "code",
      "metadata": {
        "id": "pYt-Qka3eHsM",
        "colab": {
          "base_uri": "https://localhost:8080/",
          "height": 35
        },
        "outputId": "8291de90-58f6-4907-c884-a7ff0fa7fe86"
      },
      "source": [
        "# Student Action: Strip whitespaces and '#' symbols from both ends of the given string.\n",
        "food_hacks=' #food, #foodie, #yummy, #delicious, #foodislife ## '\n",
        "food_hacks.strip(' ')"
      ],
      "execution_count": null,
      "outputs": [
        {
          "output_type": "execute_result",
          "data": {
            "application/vnd.google.colaboratory.intrinsic+json": {
              "type": "string"
            },
            "text/plain": [
              "'#food, #foodie, #yummy, #delicious, #foodislife ##'"
            ]
          },
          "metadata": {
            "tags": []
          },
          "execution_count": 3
        }
      ]
    },
    {
      "cell_type": "markdown",
      "metadata": {
        "id": "aoY0M97aokd_"
      },
      "source": [
        "If you want to remove some character only from the rightmost end side of a string, then you can use the `rstrip()` function.\n",
        "\n",
        "**Syntax:** `string.rstrip(character)`\n",
        "\n",
        "where `character` is the character to be removed from the rightmost end of a string."
      ]
    },
    {
      "cell_type": "code",
      "metadata": {
        "id": "n0TMCqhlleeb",
        "colab": {
          "base_uri": "https://localhost:8080/",
          "height": 35
        },
        "outputId": "e269556b-ace3-480a-a8ef-a214ddfa1bdb"
      },
      "source": [
        "# Student Action: Strip whitespaces and '#' symbols from the rightmost end of the given string.\n",
        "food_hacks=' #food, #foodie, #yummy, #delicious, #foodislife ## '\n",
        "food_hacks.rstrip(' #')"
      ],
      "execution_count": null,
      "outputs": [
        {
          "output_type": "execute_result",
          "data": {
            "application/vnd.google.colaboratory.intrinsic+json": {
              "type": "string"
            },
            "text/plain": [
              "' #food, #foodie, #yummy, #delicious, #foodislife'"
            ]
          },
          "metadata": {
            "tags": []
          },
          "execution_count": 4
        }
      ]
    },
    {
      "cell_type": "markdown",
      "metadata": {
        "id": "GoYtEnCRuklj"
      },
      "source": [
        "If you want to remove some character only from the leftmost end side of a string, then you can use the `lstrip()` function.\n",
        "\n",
        "**Syntax:** `string.lstrip(character)`\n",
        "\n",
        "where `character` is the character to be removed from the leftmost end of a string."
      ]
    },
    {
      "cell_type": "code",
      "metadata": {
        "id": "cJpIOHAspGhN",
        "colab": {
          "base_uri": "https://localhost:8080/",
          "height": 35
        },
        "outputId": "ffabbc7c-9192-4579-994b-69c54a5c8535"
      },
      "source": [
        "# Student Action: Strip whitespaces and '#' symbols from the leftmost end of the given string.\n",
        "food_hacks=' #food, #foodie, #yummy, #delicious, #foodislife ## '\n",
        "food_hacks.lstrip(' #')"
      ],
      "execution_count": null,
      "outputs": [
        {
          "output_type": "execute_result",
          "data": {
            "application/vnd.google.colaboratory.intrinsic+json": {
              "type": "string"
            },
            "text/plain": [
              "'food, #foodie, #yummy, #delicious, #foodislife ## '"
            ]
          },
          "metadata": {
            "tags": []
          },
          "execution_count": 5
        }
      ]
    },
    {
      "cell_type": "markdown",
      "metadata": {
        "id": "yCZ_uXveu-fz"
      },
      "source": [
        "---"
      ]
    },
    {
      "cell_type": "markdown",
      "metadata": {
        "id": "ZiFoVm3Iu_v6"
      },
      "source": [
        "#### Activity 2: The `split()` Function\n",
        "\n",
        "The `split()` function splits a string and returns a list of splitted strings.\n",
        "\n",
        "For example, the `split()` function will split the string `' #food, #foodie, #yummy, #delicious, #foodislife ## '` and will return a list containing its fragments as items."
      ]
    },
    {
      "cell_type": "code",
      "metadata": {
        "id": "XYMb7xHPu_Hu"
      },
      "source": [
        "# Student Action: Apply the 'split()' function without passing any input to it on the given string.\n",
        "required_food=food_hacks.split(',')"
      ],
      "execution_count": null,
      "outputs": []
    },
    {
      "cell_type": "markdown",
      "metadata": {
        "id": "wVMLyWJzvqGu"
      },
      "source": [
        "By default, the `split()` function splits a string about whitespace. If you want to split a string about a particular item, then you have to specify that item as an input to the `split()` function.\n",
        "\n",
        "Let's split the string `' #food, #foodie, #yummy, #delicious, #foodislife ## '` about the comma and whitespace."
      ]
    },
    {
      "cell_type": "code",
      "metadata": {
        "id": "Fa6QhswjdeLX",
        "colab": {
          "base_uri": "https://localhost:8080/"
        },
        "outputId": "ee99b5a2-42dd-4a01-8fe4-dfd9f9de3996"
      },
      "source": [
        "# Student Action: Split the string ' #food, #foodie, #yummy, #delicious, #foodislife ## ' about the whitespace and comma.\n",
        "food_hacks.split()"
      ],
      "execution_count": null,
      "outputs": [
        {
          "output_type": "execute_result",
          "data": {
            "text/plain": [
              "['#food,', '#foodie,', '#yummy,', '#delicious,', '#foodislife', '##']"
            ]
          },
          "metadata": {
            "tags": []
          },
          "execution_count": 7
        }
      ]
    },
    {
      "cell_type": "code",
      "metadata": {
        "id": "vzj5y1FbvojZ",
        "colab": {
          "base_uri": "https://localhost:8080/"
        },
        "outputId": "0cd6824b-6f9c-4feb-d9fa-c4c71a62f43d"
      },
      "source": [
        "# Student Action: Remove the hash symbols and whitespaces from all the items contained in the above list. Store the cleaned items in a new list.\n",
        "list_1=[]\n",
        "for i in required_food:\n",
        "  list_1.append(i.strip(' #'))\n",
        "  print(list_1)\n"
      ],
      "execution_count": null,
      "outputs": [
        {
          "output_type": "stream",
          "text": [
            "['food']\n",
            "['food', 'foodie']\n",
            "['food', 'foodie', 'yummy']\n",
            "['food', 'foodie', 'yummy', 'delicious']\n",
            "['food', 'foodie', 'yummy', 'delicious', 'foodislife']\n"
          ],
          "name": "stdout"
        }
      ]
    },
    {
      "cell_type": "markdown",
      "metadata": {
        "id": "Q0bB5qCCwQ5G"
      },
      "source": [
        "---"
      ]
    },
    {
      "cell_type": "markdown",
      "metadata": {
        "id": "4cDLkzOHwbeY"
      },
      "source": [
        "#### Activity 3: The `join()` Function\n",
        "\n",
        "To join the items contained in a list to form a string, you can use the `join()` function. \n",
        "\n",
        "**Syntax:** `joining_character.join(list)`\n",
        "\n",
        "\n",
        "**Note:** This function works on the lists containing only the string items.\n"
      ]
    },
    {
      "cell_type": "code",
      "metadata": {
        "id": "Cs48MLoFvU6_",
        "colab": {
          "base_uri": "https://localhost:8080/",
          "height": 35
        },
        "outputId": "e8103f28-0639-4290-9f2c-0e2a6ed06901"
      },
      "source": [
        "# Student Action: Create a new string by joining the items of the above list (containing clean items) about whitespace.\n",
        "join_1=''.join(list_1)\n",
        "join_1"
      ],
      "execution_count": null,
      "outputs": [
        {
          "output_type": "execute_result",
          "data": {
            "application/vnd.google.colaboratory.intrinsic+json": {
              "type": "string"
            },
            "text/plain": [
              "'foodfoodieyummydeliciousfoodislife'"
            ]
          },
          "metadata": {
            "tags": []
          },
          "execution_count": 9
        }
      ]
    },
    {
      "cell_type": "markdown",
      "metadata": {
        "id": "Ve4pjwAKkx6I"
      },
      "source": [
        "Let's write a code to create a 12 character long password containing a combination of lowercase & uppercase English letters numbers and special characters.\n",
        "\n",
        "For this exercise, we have to import the `string` module that contains the following string constants.\n",
        "\n",
        "1. `string.ascii_lowercase`: A constant string of lowercase letters, i.e.,`'abcdefghijklmnopqrstuvwxyz'`\n",
        "\n",
        "2. `string.ascii_uppercase`: A constant string of uppercase letters, i.e., `'ABCDEFGHIJKLMNOPQRSTUVWXYZ'`\n",
        "\n",
        "3. `string.ascii_letters`: A constant string containing the concatenation of the `ascii_lowercase` and `ascii_uppercase` constants, i.e., `'abcdefghijklmnopqrstuvwxyzABCDEFGHIJKLMNOPQRSTUVWXYZ'`\n",
        "\n",
        "4. `string.digits`: A constant string of the digits, i.e, `'0123456789'`\n",
        "\n",
        "5. `string.punctuation`: A constant string of ASCII characters which are considered as punctuation characters, i.e., ``!\"#$%&'()*+,-./:;<=>?@[\\]^_`{|}~``\n",
        "\n",
        "The constants are those values which are universally true. E.g., value of `pi = 3.141` etc.\n",
        "\n",
        "Of course, you can create all of the above on your own by typing them individually. But then your life will become miserable."
      ]
    },
    {
      "cell_type": "code",
      "metadata": {
        "id": "l7UvAgLqthax",
        "colab": {
          "base_uri": "https://localhost:8080/"
        },
        "outputId": "9ecd9c6b-1dcd-454d-d85e-544c3d9bb158"
      },
      "source": [
        "# Student Action: Write a code to generate a 12 character long random password containing a combination of lowercase & \n",
        "# uppercase English letters numbers and special characters.\n",
        "import string \n",
        "import random\n",
        "new_password= string.ascii_letters+string.digits+string.punctuation\n",
        "new_password\n",
        "for i in range(0,12):\n",
        " new_pass=new_password[random.randint(0,len(new_password)-1)]\n",
        " print(new_pass)\n",
        "\n"
      ],
      "execution_count": null,
      "outputs": [
        {
          "output_type": "stream",
          "text": [
            ":\n",
            "P\n",
            "E\n",
            ">\n",
            ":\n",
            "8\n",
            "B\n",
            "f\n",
            ",\n",
            "?\n",
            "+\n",
            "0\n"
          ],
          "name": "stdout"
        }
      ]
    },
    {
      "cell_type": "markdown",
      "metadata": {
        "id": "VqSTUpO-o-8X"
      },
      "source": [
        "In the above code:\n",
        "\n",
        "- An alphanumeric string is created by concatenating the `string.ascii_letters, string.digits, string.punctuation` constants.\n",
        "\n",
        "- A list is created using the list comprehension method: \n",
        "\n",
        "    - By first generating 12 random integers between `0` and `93`. They act as indices for any 12 items of the alphanumeric string.\n",
        "\n",
        "    - Then, by adding the items to the list that are retrieved from the alphanumeric string.\n",
        "\n",
        "- The `join()` function joins the items of the above list about an empty string."
      ]
    },
    {
      "cell_type": "markdown",
      "metadata": {
        "id": "ASoiuhx3yPzV"
      },
      "source": [
        "---"
      ]
    },
    {
      "cell_type": "markdown",
      "metadata": {
        "id": "JEnaq7CeyQ9Q"
      },
      "source": [
        "#### Activity 4: The `capitalize(), lower(), upper()` & `title()` Functions\n",
        "\n",
        "The `capitalize()` function, capitalizes only the item at `index = 0` provided that the item is a lowercase English letter. The syntax is `string.capitalize()`."
      ]
    },
    {
      "cell_type": "code",
      "metadata": {
        "id": "ln7sQZkV9h-_"
      },
      "source": [
        "# Student Action: Create a string having the first item as a lowercase English letter. Then, apply the 'capitalize()' function on it.\n",
        "quote='tell me and i forgot , teach me and i forgot, teach me and i remember, teach me and i learn'\n",
        "capi_1=quote.capitalize()\n",
        "low=capi_1.lower()\n",
        "upp=capi_1.upper()\n",
        "title=capi_1.title()"
      ],
      "execution_count": null,
      "outputs": []
    },
    {
      "cell_type": "markdown",
      "metadata": {
        "id": "CyONvRyCJCB-"
      },
      "source": [
        "The `lower()` function converts all the uppercase English letters to the lowercase letters. The syntax is `string.lower()`"
      ]
    },
    {
      "cell_type": "code",
      "metadata": {
        "id": "2nFS5jxiw0Kt"
      },
      "source": [
        "# Student Action: Apply the 'lower()' function on the above capitalized string.\n"
      ],
      "execution_count": null,
      "outputs": []
    },
    {
      "cell_type": "markdown",
      "metadata": {
        "id": "l-z_bvzIJoXo"
      },
      "source": [
        "The `upper()` function converts all the lowercase English letters to the uppercase letters. The syntax is `string.upper()`"
      ]
    },
    {
      "cell_type": "code",
      "metadata": {
        "id": "sbVqMkPCZxpv"
      },
      "source": [
        "# Student Action: Apply the 'upper()' function on the above lowercase string.\n"
      ],
      "execution_count": null,
      "outputs": []
    },
    {
      "cell_type": "markdown",
      "metadata": {
        "id": "trc26JlyK9Fk"
      },
      "source": [
        "The `title()` function capitalizes the first English letter of every word in a string provided that the words are separated in some way. The syntax is `string.title()`"
      ]
    },
    {
      "cell_type": "code",
      "metadata": {
        "id": "G3NPpHQPZwMK"
      },
      "source": [
        "# Student Action: Apply the 'title()' function on the above uppercase string.\n"
      ],
      "execution_count": null,
      "outputs": []
    },
    {
      "cell_type": "markdown",
      "metadata": {
        "id": "jw7jMsa2NQ1q"
      },
      "source": [
        "---"
      ]
    },
    {
      "cell_type": "markdown",
      "metadata": {
        "id": "DtKI0JeVN9U5"
      },
      "source": [
        "#### Activity 5: The `isupper(), islower()` & `istitle()` Functions\n",
        "\n",
        "The `istitle()` function returns `True` if the words in a string are in a title case. Otherwise, it returns `False`."
      ]
    },
    {
      "cell_type": "code",
      "metadata": {
        "id": "9Rg7h5KHNipJ",
        "colab": {
          "base_uri": "https://localhost:8080/"
        },
        "outputId": "cb4faac3-3881-4d7c-d1aa-337c9536e032"
      },
      "source": [
        "# Student Action: Apply the 'istitle()' function on the string that is in the title case.\n",
        "title.istitle()"
      ],
      "execution_count": null,
      "outputs": [
        {
          "output_type": "execute_result",
          "data": {
            "text/plain": [
              "True"
            ]
          },
          "metadata": {
            "tags": []
          },
          "execution_count": 15
        }
      ]
    },
    {
      "cell_type": "markdown",
      "metadata": {
        "id": "FXNvpkRgPQto"
      },
      "source": [
        "While applying the `istitle()` function on each English letter one-by-one, it returns `True` if the letter is in uppercase. Otherwise, it returns `False`."
      ]
    },
    {
      "cell_type": "code",
      "metadata": {
        "id": "soYffnhONsmM",
        "colab": {
          "base_uri": "https://localhost:8080/"
        },
        "outputId": "9819f95d-7b72-4af5-9e3d-eb9850f7ba0a"
      },
      "source": [
        "# Student Action: Iterate through the first 10 items in the title cased string and also apply the 'istitle()' function.\n",
        "upp.istitle()"
      ],
      "execution_count": null,
      "outputs": [
        {
          "output_type": "execute_result",
          "data": {
            "text/plain": [
              "False"
            ]
          },
          "metadata": {
            "tags": []
          },
          "execution_count": 16
        }
      ]
    },
    {
      "cell_type": "markdown",
      "metadata": {
        "id": "Mcn0DPyIQK4h"
      },
      "source": [
        "Similarly, the `isupper()` function returns `True` if an English letter is in uppercase and the `islower()` function returns `True` if an English letter is in lowercase. Otherwise, they return `False`."
      ]
    },
    {
      "cell_type": "markdown",
      "metadata": {
        "id": "UChMXLiTaWe3"
      },
      "source": [
        "---"
      ]
    },
    {
      "cell_type": "markdown",
      "metadata": {
        "id": "FppweQm1RI-U"
      },
      "source": [
        "#### Activity 6: The `ljust(), rjust()` & `center()` Functions^^^\n",
        "\n",
        "The `ljust()` function returns a fixed-length string padded with some special character and justifies (or aligns) it on the left-hand side of the output console. The syntax is `string.ljust(length, character)`\n",
        "\n",
        "Let's write a code to get the following output using the `ljust()` function.\n",
        "\n",
        "```\n",
        "1000\n",
        "2000\n",
        "3000\n",
        "4000\n",
        "5000\n",
        "```\n",
        "\n",
        "Each item in the above output is a string of length `4` padded with `0` and left justified.\n"
      ]
    },
    {
      "cell_type": "code",
      "metadata": {
        "id": "cuyFG-I2VaBP",
        "colab": {
          "base_uri": "https://localhost:8080/"
        },
        "outputId": "8a154932-1f28-4c89-e674-6bed11671ea7"
      },
      "source": [
        "# Teacher Action: Write a code to get the above output using the 'ljust()' function.\n",
        "for i in range(1,10):\n",
        "  print(f'{i}'.rjust(4,'0'))\n"
      ],
      "execution_count": null,
      "outputs": [
        {
          "output_type": "stream",
          "text": [
            "0001\n",
            "0002\n",
            "0003\n",
            "0004\n",
            "0005\n",
            "0006\n",
            "0007\n",
            "0008\n",
            "0009\n"
          ],
          "name": "stdout"
        }
      ]
    },
    {
      "cell_type": "markdown",
      "metadata": {
        "id": "ZXwRU3aaWjxQ"
      },
      "source": [
        "**The `rjust()` function** returns a fixed-length string padded with some special character and justifies (or aligns) it on the right-hand side of the output console. The syntax is `string.rjust(length, character)`\n",
        "\n",
        "Now, write a code to get the following output using the `rjust()` function.\n",
        "\n",
        "```\n",
        "00001\n",
        "00002\n",
        "00003\n",
        "00004\n",
        "00005\n",
        "```\n",
        "\n",
        "Each item in the above output is a string of length `5` padded with `0` and right justified."
      ]
    },
    {
      "cell_type": "code",
      "metadata": {
        "id": "19-SPOeqW-tj"
      },
      "source": [
        "# Student Action: Write a code to get the above output using the 'rjust()' function.\n"
      ],
      "execution_count": null,
      "outputs": []
    },
    {
      "cell_type": "markdown",
      "metadata": {
        "id": "BC-_dts8XKQ5"
      },
      "source": [
        "**The `center()` function** returns a fixed-length string padded with some special character and justifies (or aligns) it at the center of the output console. The syntax is `string.center(length, character)`\n",
        "\n",
        "Now, write a code to get the following output.\n",
        "\n",
        "```\n",
        "-------#-------\n",
        "------###------\n",
        "-----#####-----\n",
        "----#######----\n",
        "---#########---\n",
        "--###########--\n",
        "-#############-\n",
        "###############\n",
        "```\n",
        "\n",
        "Each item in the above output is a string of length `15` padded with `-` and centre justified."
      ]
    },
    {
      "cell_type": "code",
      "metadata": {
        "id": "8rd5mmeMXfqu",
        "colab": {
          "base_uri": "https://localhost:8080/"
        },
        "outputId": "51a5716a-aee7-4430-de24-5684de12c402"
      },
      "source": [
        "# Student Action: Write a code to get the above output using the 'center()' function.\n",
        "for i in range(1, 16):\n",
        "  if i % 2 != 0:\n",
        "    print(f\"{'#' * i}\".center(15, '-'))"
      ],
      "execution_count": null,
      "outputs": [
        {
          "output_type": "stream",
          "text": [
            "-------#-------\n",
            "------###------\n",
            "-----#####-----\n",
            "----#######----\n",
            "---#########---\n",
            "--###########--\n",
            "-#############-\n",
            "###############\n"
          ],
          "name": "stdout"
        }
      ]
    },
    {
      "cell_type": "markdown",
      "metadata": {
        "id": "1gvWPJgHZY2R"
      },
      "source": [
        "**Note:** If the `character` value is not defined in the `ljust(), rjust()` and `center()` functions, then they take whitespace as the default character."
      ]
    },
    {
      "cell_type": "markdown",
      "metadata": {
        "id": "BXxvHiMXZHyC"
      },
      "source": [
        "---"
      ]
    },
    {
      "cell_type": "markdown",
      "metadata": {
        "id": "Wql1_zNhFaYO"
      },
      "source": [
        "#### Activity 7: The `replace()` Function^^\n",
        "\n",
        "If you want to replace an item in a string with some other item, then you can use the `replace()` function.\n",
        "\n",
        "**Syntax:** `string.replace(item_to_be_replaced, new_item)`\n",
        "\n",
        "Let's learn this concept with the help of an example. Consider the text below.\n",
        "\n",
        "*Who invented the sole? How can we scientifically prove that a sole exists? If the sole is an energy, then what kind of energy it is? The laws of physics state that energy can neither be created nor be destroyed. So, if the sole is an energy, then how does it transfer from one form to another after the death of a person? We know that the laws of physics are universally true. So, it means either the sole is not an energy or it doesn't exist.*\n",
        "\n",
        "The word *soul* has been mistakenly reported as *sole* by a machine because they are *homophone*. Two or more words having the same pronunciation are called *homophone*. \n",
        "\n",
        "We can replace the word *sole* with *soul* using the `replace()` function."
      ]
    },
    {
      "cell_type": "code",
      "metadata": {
        "id": "-SSWzWCWFzQX",
        "colab": {
          "base_uri": "https://localhost:8080/",
          "height": 71
        },
        "outputId": "bf37ec24-fdd2-4949-9bf1-a3dd8d006dae"
      },
      "source": [
        "# Student Action: Replace the word 'sole' with 'soul' in the given paragraph.\n",
        "s=\"\"\"Who invented the sole? How can we scientifically prove that a sole exists?\n",
        " If the sole is an energy, then what kind of energy it is?\n",
        "  The laws of physics state that energy can neither be created nor be destroyed. \n",
        "  So, if the sole is an energy, then how does it transfer from one form to another after the death of a person?\n",
        "   We know that the laws of physics are universally true. So, it means either the sole is not an energy or it doesn't exist\"\"\"\n",
        "string_new=s.replace('sole', \"soul\")\n",
        "string_new"
      ],
      "execution_count": null,
      "outputs": [
        {
          "output_type": "execute_result",
          "data": {
            "application/vnd.google.colaboratory.intrinsic+json": {
              "type": "string"
            },
            "text/plain": [
              "\"Who invented the soul? How can we scientifically prove that a soul exists?\\n If the soul is an energy, then what kind of energy it is?\\n  The laws of physics state that energy can neither be created nor be destroyed. \\n  So, if the soul is an energy, then how does it transfer from one form to another after the death of a person?\\n   We know that the laws of physics are universally true. So, it means either the soul is not an energy or it doesn't exist\""
            ]
          },
          "metadata": {
            "tags": []
          },
          "execution_count": 20
        }
      ]
    },
    {
      "cell_type": "markdown",
      "metadata": {
        "id": "IRf9TEYTZryM"
      },
      "source": [
        "**Note:** If you print a multiline string without using the `print()` function, then you will get a single-line string containing the newline `\\n` character. In fact, this is how all the multiline strings are stored in Python."
      ]
    },
    {
      "cell_type": "code",
      "metadata": {
        "id": "Ej-CGR7yFBYT",
        "colab": {
          "base_uri": "https://localhost:8080/"
        },
        "outputId": "242146e8-ec89-4655-b6db-775f571c50df"
      },
      "source": [
        "# Student Action: Print the above modified multiline string without using the 'print()' function.\n",
        "print(string_new)"
      ],
      "execution_count": null,
      "outputs": [
        {
          "output_type": "stream",
          "text": [
            "Who invented the soul? How can we scientifically prove that a soul exists?\n",
            " If the soul is an energy, then what kind of energy it is?\n",
            "  The laws of physics state that energy can neither be created nor be destroyed. \n",
            "  So, if the soul is an energy, then how does it transfer from one form to another after the death of a person?\n",
            "   We know that the laws of physics are universally true. So, it means either the soul is not an energy or it doesn't exist\n"
          ],
          "name": "stdout"
        }
      ]
    },
    {
      "cell_type": "markdown",
      "metadata": {
        "id": "LJIdIS5Zaa-Z"
      },
      "source": [
        "Let's split the above string about the newline character."
      ]
    },
    {
      "cell_type": "code",
      "metadata": {
        "id": "qnZHgVG1CDwS"
      },
      "source": [
        "# Student Action: Split the above string about the newline character.\n",
        "string_new=s.split(',')"
      ],
      "execution_count": null,
      "outputs": []
    },
    {
      "cell_type": "markdown",
      "metadata": {
        "id": "cFqmonOnatLL"
      },
      "source": [
        "The output is a list containing several single-line strings without having the newline character.\n",
        "\n",
        "Now, right justify the strings in the above list such that each string length is equal to the length of the longest string. But before that remove any unwanted strings from the list using the `remove()` function."
      ]
    },
    {
      "cell_type": "code",
      "metadata": {
        "id": "xLl67ztwbc_y"
      },
      "source": [
        "# Student Action: Remove the unwanted strings from the above list. \n",
        "# Note: This exercise may not be required depending on how you indent a multiline string.\n"
      ],
      "execution_count": null,
      "outputs": []
    },
    {
      "cell_type": "code",
      "metadata": {
        "id": "clb2lNO-Sdh4"
      },
      "source": [
        "# Student Action: Right justify the strings in the above list such that each string length is equal to the length of the longest string.\n"
      ],
      "execution_count": null,
      "outputs": []
    },
    {
      "cell_type": "code",
      "metadata": {
        "id": "IB4QPuapDjKY"
      },
      "source": [
        "# Student Action: Center justify the strings in the above list such that each string length is equal to the length of the longest string.\n"
      ],
      "execution_count": null,
      "outputs": []
    },
    {
      "cell_type": "markdown",
      "metadata": {
        "id": "g7Ke-E7hpwS8"
      },
      "source": [
        "---"
      ]
    },
    {
      "cell_type": "markdown",
      "metadata": {
        "id": "WZuh0OGvpxqo"
      },
      "source": [
        "#### Activity 8: The Escape Character (`\\`)^\n",
        "\n",
        "Sometimes you might have to create a string which would contain a combination of single quotes (`''`), double quotes (`\"\"`) or an apostrophe (`'`). In such cases, Python will terminate the string before it is complete. To create such strings, you can use the **escape character** represented by backslash sign (`\\`).\n",
        "\n",
        "Let's create the following string using the escape character.\n",
        "\n",
        "`\"She just said 'That should work' and walked out the door\", he clarified.`\n",
        "\n",
        "To create the above string using double-quotes, you will have to put one backslash before `\"She...` as shown below.\n",
        "\n",
        "`\\\"She...`\n",
        "\n",
        "and one backslash before `\", he...` as shown below\n",
        "\n",
        "`\\\", he...`\n"
      ]
    },
    {
      "cell_type": "code",
      "metadata": {
        "id": "1fm0xW6ip2_V",
        "colab": {
          "base_uri": "https://localhost:8080/",
          "height": 132
        },
        "outputId": "e8debcff-055f-4804-e4d9-b10db306c50a"
      },
      "source": [
        "# Student Action: Create the above string using double quotes and the escape character.\n",
        "new_1='\\\"She just said 'That should work' and walked out the door\", he clarified./'\n"
      ],
      "execution_count": null,
      "outputs": [
        {
          "output_type": "error",
          "ename": "SyntaxError",
          "evalue": "ignored",
          "traceback": [
            "\u001b[0;36m  File \u001b[0;32m\"<ipython-input-29-23ca64fc7b03>\"\u001b[0;36m, line \u001b[0;32m2\u001b[0m\n\u001b[0;31m    new_1='\\\"She just said 'That should work' and walked out the door\", he clarified./'\u001b[0m\n\u001b[0m                               ^\u001b[0m\n\u001b[0;31mSyntaxError\u001b[0m\u001b[0;31m:\u001b[0m invalid syntax\n"
          ]
        }
      ]
    },
    {
      "cell_type": "markdown",
      "metadata": {
        "id": "g15ezx0gdLHR"
      },
      "source": [
        "To create the given string using single-quotes, you will have to put one backslash before `'That...` as shown below\n",
        "\n",
        "`\\'That...`\n",
        "\n",
        "and one backslash before `' and...\"` as shown below\n",
        "\n",
        "`\\' and...'`"
      ]
    },
    {
      "cell_type": "code",
      "metadata": {
        "id": "T8mbYWCedAuY"
      },
      "source": [
        "# Student Action: Create the given string using single quotes and the escape character.\n",
        "print(new_1)"
      ],
      "execution_count": null,
      "outputs": []
    },
    {
      "cell_type": "markdown",
      "metadata": {
        "id": "ncUKXmHXsalK"
      },
      "source": [
        "If you create the above string without putting the escape character, then Python will throw a `SyntaxError`."
      ]
    },
    {
      "cell_type": "code",
      "metadata": {
        "id": "NQhTFa9OsgrW"
      },
      "source": [
        "# Student Action: Create the above string without putting the escape character.\n"
      ],
      "execution_count": null,
      "outputs": []
    },
    {
      "cell_type": "markdown",
      "metadata": {
        "id": "sNreCXeMfx02"
      },
      "source": [
        "We have covered pretty much everything about the string operations that we need. \n",
        "\n",
        "Congratulations! You have set a new benchmark. Brace yourself! Your new challenge is ready. You have to apply the programming constructs learned during the past few classes to develop the **Guess a word game** (Capstone Project 10).\n",
        "\n",
        "In the next class, we will learn how to work with `datetime` values, i.e., how to extract date, time, day, month and year from a `datetime` value.\n",
        "\n",
        "\n",
        "\n",
        "\n",
        "\n",
        "\n"
      ]
    },
    {
      "cell_type": "markdown",
      "metadata": {
        "id": "tzBGoUi1_vIj"
      },
      "source": [
        "---"
      ]
    }
  ]
}