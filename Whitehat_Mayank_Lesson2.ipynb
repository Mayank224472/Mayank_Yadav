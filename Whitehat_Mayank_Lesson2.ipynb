{
  "nbformat": 4,
  "nbformat_minor": 0,
  "metadata": {
    "colab": {
      "name": "20200726_Mayank_Lesson2",
      "provenance": [],
      "collapsed_sections": [],
      "include_colab_link": true
    },
    "kernelspec": {
      "name": "python3",
      "display_name": "Python 3"
    }
  },
  "cells": [
    {
      "cell_type": "markdown",
      "metadata": {
        "id": "view-in-github",
        "colab_type": "text"
      },
      "source": [
        "<a href=\"https://colab.research.google.com/github/Mayank224472/Mayank224472/blob/main/Whitehat%20Mayank_Lesson2.ipynb\" target=\"_parent\"><img src=\"https://colab.research.google.com/assets/colab-badge.svg\" alt=\"Open In Colab\"/></a>"
      ]
    },
    {
      "cell_type": "markdown",
      "metadata": {
        "id": "mFDyd3uB4WBx"
      },
      "source": [
        "# Lesson 2: Mind Reader Game - While Loop, Data-Type Conversion & Conditional Statements\n"
      ]
    },
    {
      "cell_type": "markdown",
      "metadata": {
        "id": "Jqh0LwcvwTJA"
      },
      "source": [
        "### Teacher-Student Activities\n",
        "\n",
        "In the trial class, we created a very simple algorithm for the Mind Reader game in which a computer predicts `0` or `1` randomly.\n",
        "\n",
        "Here's the algorithm we built in the last class.\n",
        "\n",
        "```\n",
        "import random\n",
        "\n",
        "predict = random.randint(0, 1) # Prediction should happen before taking input from a player.\n",
        "player_input = input(\"Enter either 0 or 1: \")\n",
        "print(\"You entered\", player_input)\n",
        "print(\"Computer predicted\", predict)\n",
        "```\n",
        "\n",
        "In this class, we are going to add more functionalities to the algorithm. They are as follows:\n",
        "\n",
        "1. Keep a track of the scores for both the player and the computer.\n",
        "\n",
        "2. Restrict a player from entering invalid inputs, i.e., inputs other than `0` or `1`.\n",
        "\n",
        "3. Continue running the game until one of the players reaches a score of `50`.\n",
        "\n",
        "4. If the player wins, then print `\"Congrats, You Won!` else print the `\"Bad Luck, You Lost!\"`.\n",
        "\n",
        "After adding the above functionalities, we will have the final version of the most simple algorithm which is shown below:\n",
        "\n",
        "```\n",
        "import random\n",
        "\n",
        "player_score = 0\n",
        "computer_score = 0\n",
        "\n",
        "valid_entries = ['0', '1']\n",
        "\n",
        "while True:\n",
        "  predict = random.randint(0, 1)\n",
        "  player_input = input(\"Enter either 0 or 1: \")\n",
        "  while player_input not in valid_entries:\n",
        "    print(\"Invalid Input!\")\n",
        "    player_input = input(\"Please enter either 0 or 1: \")\n",
        "   \n",
        "  player_input = int(player_input)\n",
        " \n",
        "  if predict == player_input:\n",
        "    computer_score = computer_score + 1\n",
        "    print(\"Player Score:\", player_score)\n",
        "    print(\"Computer Score:\", computer_score)\n",
        "  else:\n",
        "    player_score = player_score + 1\n",
        "    print(\"Player Score:\", player_score)\n",
        "    print(\"Computer Score:\", computer_score)\n",
        "\n",
        "  if computer_score == 50:\n",
        "    print(\"Bad Luck, Computer Wins!\")\n",
        "    break\n",
        "  elif player_score == 50:\n",
        "    print(\"Congrats, You Won!\")\n",
        "    break\n",
        "```\n",
        "\n",
        "Let's break this code down and look at how each functionality is added in the code. Let's get started."
      ]
    },
    {
      "cell_type": "markdown",
      "metadata": {
        "id": "7JH1aKsDiqST"
      },
      "source": [
        "---"
      ]
    },
    {
      "cell_type": "markdown",
      "metadata": {
        "id": "9p4gmk7cT5pP"
      },
      "source": [
        "#### Activity 1: Score Keeping\n",
        "\n",
        "First, we will start by keeping the scores for both the computer and a player. We want to run the game until either the player or the computer reaches a score of `50`. At that point, the game should stop.\n",
        "\n",
        "So, let's create the `player_score` variable to record the score of a player and also create the `computer_score` variable to record the score of the computer and set their initial values as zero.\n"
      ]
    },
    {
      "cell_type": "code",
      "metadata": {
        "id": "bW7I8cgDXmKe"
      },
      "source": [
        "# Student Action: Create 'player_score' and 'computer_score' variables and set their initial values as 0.\n",
        "player_score=0\n",
        "computer_score=0"
      ],
      "execution_count": null,
      "outputs": []
    },
    {
      "cell_type": "markdown",
      "metadata": {
        "id": "veuvbzBprnP_"
      },
      "source": [
        "We have initiated the required variables to keep the scores for both the players. Now, we need to update the scores as the game progresses.\n",
        "\n",
        "Let's first increase the scores by `1` for both the players. **In the process, we will learn how to increase the value stored in a variable.**\n",
        "\n",
        "To increase the `player_score` value by `1`, add `1` to the `player_score` using the `+` operator. Then re-assign the increased value to the `player_score` variable using the `=` operator. \n",
        "\n",
        "In computer programing, a single equals to (`=`) symbol denotes **assigning value to a variable**.\n",
        "\n",
        "This operation is often referred to as the **right-to-left** operation because we go from the rightward direction to the leftward direction as indicated by the **right-to-left** arrow in the equation below.\n",
        "\n",
        "`player_score` \n",
        "$\\longleftarrow$ \n",
        "`player_score + 1`\n",
        "\n",
        "The \n",
        "$\\longleftarrow$ \n",
        "arrow indicates that first increase the value of the `player_score` variable and then assign the value back to the same variable.\n",
        "\n",
        "Let's write this logic using the code."
      ]
    },
    {
      "cell_type": "code",
      "metadata": {
        "id": "JLC7qnO_t8ZY",
        "colab": {
          "base_uri": "https://localhost:8080/",
          "height": 34
        },
        "outputId": "9cca6d5c-c400-44b6-9966-f78e433cb80b"
      },
      "source": [
        "# Teacher Action: Increase the value stored in the 'player_score' variable.\n",
        "player_score=0\n",
        "player_score=player_score+1\n",
        "player_score"
      ],
      "execution_count": null,
      "outputs": [
        {
          "output_type": "execute_result",
          "data": {
            "text/plain": [
              "1"
            ]
          },
          "metadata": {
            "tags": []
          },
          "execution_count": 2
        }
      ]
    },
    {
      "cell_type": "markdown",
      "metadata": {
        "id": "81m74oqNu-9A"
      },
      "source": [
        "Here, we have increased the value stored in the `player_score` variable by `1`.\n",
        "\n",
        "Now using the same approach, you increase the value stored in the `computer_score` variable."
      ]
    },
    {
      "cell_type": "code",
      "metadata": {
        "id": "JKNPhIFavOr_",
        "colab": {
          "base_uri": "https://localhost:8080/",
          "height": 34
        },
        "outputId": "6ac2f1d6-08fb-426c-9c55-71ef5aa16d7e"
      },
      "source": [
        "# Student Action: Write a code to increase the value stored in the 'computer_score' variable.\n",
        "computer_score=0\n",
        "computer_score=computer_score+1\n",
        "computer_score"
      ],
      "execution_count": null,
      "outputs": [
        {
          "output_type": "execute_result",
          "data": {
            "text/plain": [
              "1"
            ]
          },
          "metadata": {
            "tags": []
          },
          "execution_count": 3
        }
      ]
    },
    {
      "cell_type": "markdown",
      "metadata": {
        "id": "OfNvRrSlfugO"
      },
      "source": [
        "---"
      ]
    },
    {
      "cell_type": "markdown",
      "metadata": {
        "id": "fA09LBPiIEJw"
      },
      "source": [
        "#### Activity 2: The `while` Loop^^\n",
        "\n",
        "So far, we increased the values stored in the `player_score` and `computer_score` variables by just `1` unit. But we want to increase the values stored in these variables continuously until the value of these variables reach `50`. To do this, we will use the `while` loop.\n",
        "\n",
        "The `while` loop runs based on a condition. As long as the condition is `True`, the `while` loop will run endlessly. The moment, the condition becomes `False`, the `while` loop stops. \n",
        "\n",
        "You can refer to the following flowchart to visualise how the while loop works.\n",
        "\n",
        "<img src='https://student-datasets-bucket.s3.ap-south-1.amazonaws.com/images/while-loop-flowchart.png' width=600>\n",
        "\n",
        "Let's try to increase the value stored in the `player_score` variable using the `while` loop. To do this exercise, we need to follow 3 steps:\n",
        "\n",
        "- Step 1: Set the `player_score` value equal to `0` once again because we have already updated its value to `1` in the previous codes.\n",
        "\n",
        "- Step 2: In the next line, write the `while player_score < 50` statement followed by the colon (`:`) sign, i.e., `while player_score < 50:`\n",
        "\n",
        "- Step 3: Press the `enter` key. In the new line, increase the value of the `player_score` variable by writing the `player_score = player_score + 1` statement. Make sure that there are two blank spaces between the code cell and the statement. This is to ensure that the instructions are being written inside the while loop, not outside it.\n",
        "\n",
        "- Step 4: Press the `enter` key. In the new line, remove the blank spaces between the code cell and the cursor. Then, print the value stored in the `player_score` variable."
      ]
    },
    {
      "cell_type": "code",
      "metadata": {
        "id": "Jdr2h0hNyyen",
        "colab": {
          "base_uri": "https://localhost:8080/",
          "height": 34
        },
        "outputId": "ed04e706-f949-4edc-8b7e-6519685b9a02"
      },
      "source": [
        "# Teacher Action: Increase the value stored in a variable using the 'while' loop.\n",
        "player_score=0\n",
        "while player_score<50:\n",
        "    player_score=player_score+1\n",
        "print(player_score)"
      ],
      "execution_count": null,
      "outputs": [
        {
          "output_type": "stream",
          "text": [
            "50\n"
          ],
          "name": "stdout"
        }
      ]
    },
    {
      "cell_type": "markdown",
      "metadata": {
        "id": "73XIG-B8z7jj"
      },
      "source": [
        "As you can see, the `player_score` value has been increased to `50` using the `while` loop.\n",
        "\n",
        "**How does the `while` loop work?**\n",
        "\n",
        "Here, we have set the value stored in the `player_score` variable equal to `0`.\n",
        "\n",
        "Next, to initiate the `while` loop, we are providing a condition to the loop by saying that *while the value of the `player_score` variable is less than 50, keep running the loop. The moment the value of the `player_score` variable reaches 50, stop the loop.*\n",
        "\n",
        "The code in the next line, i.e., `player_score = player_score + 1` will increase the value of `player_score` by `1` unit until the value of `player_score` reaches `50`. \n",
        "\n",
        "Initially, the `player_score = 0`, so the `while` loop will check if the statement `player_score < 50` is `True` or `False`. At this point, the statement, `player_score < 50` is `True`, so the value of the `player_score` variable increases by `1`.\n",
        "\n",
        "In the next turn, the value of the `player_score` variable will be `1`. Similarly, the `while` loop next time again will check whether the condition is `True` or `False`. This process will continue until the value of the `player_score` variable reaches `50`. \n",
        "\n",
        "Now using the same process, you increase the value of the `computer_score` variable until it reaches `50`."
      ]
    },
    {
      "cell_type": "code",
      "metadata": {
        "id": "mAsQQVNY11ZR",
        "colab": {
          "base_uri": "https://localhost:8080/",
          "height": 34
        },
        "outputId": "21711e85-aaae-439d-dc39-28ed7d249dc3"
      },
      "source": [
        "# Student Action: Write a code to increase the value of the 'computer_score' variable until it reaches 50.\n",
        "computer_score=0\n",
        "while computer_score<50:\n",
        "  computer_score=computer_score+1\n",
        "print(computer_score)"
      ],
      "execution_count": null,
      "outputs": [
        {
          "output_type": "stream",
          "text": [
            "50\n"
          ],
          "name": "stdout"
        }
      ]
    },
    {
      "cell_type": "markdown",
      "metadata": {
        "id": "L63HNPrHjKX2"
      },
      "source": [
        "---"
      ]
    },
    {
      "cell_type": "markdown",
      "metadata": {
        "id": "bRVMkkJTCmvC"
      },
      "source": [
        "#### Activity 3: Data-Type Conversion\n",
        "\n",
        "Recall the algorithm we created in the trial class. It stores the values entered by a player in the `player_input` variable and stores the values predicted by the computer in the `predict` variable.\n",
        "\n",
        "As the next step for our algorithm, we need to compare the `predict` value predicted by the computer with the `player_input` value.\n",
        "\n",
        "But before that, we need to convert the `player_input` value to an integer because the `input()` function takes input in the form of string. \n",
        "\n",
        "**We can compare two or more values only if they are of the same data-type.**\n",
        "\n",
        "You can check the data-type of a value using the `type()` function. Let's apply this function on the value stored in the `player_input` variable.\n"
      ]
    },
    {
      "cell_type": "code",
      "metadata": {
        "id": "X_RpajwREJeV",
        "colab": {
          "base_uri": "https://localhost:8080/",
          "height": 51
        },
        "outputId": "a38ceeec-e625-4173-fc2d-a8d9e8c36249"
      },
      "source": [
        "# Teacher Action: Verify that the 'input()' function takes any value as a string.\n",
        "player_input=input(\"enter either 0 or 1 : \")\n",
        "type(player_input)"
      ],
      "execution_count": null,
      "outputs": [
        {
          "output_type": "stream",
          "text": [
            "enter either 0 or 1 : 0\n"
          ],
          "name": "stdout"
        },
        {
          "output_type": "execute_result",
          "data": {
            "text/plain": [
              "str"
            ]
          },
          "metadata": {
            "tags": []
          },
          "execution_count": 7
        }
      ]
    },
    {
      "cell_type": "markdown",
      "metadata": {
        "id": "PddrUvKvEp9I"
      },
      "source": [
        "You can see that the `type()` function returned `str` as an output. The `str` keyword denotes that a value is a string.\n",
        "\n",
        "Similarly,\n",
        "\n",
        "- `int` denotes an integer value. \n",
        "\n",
        "- `float` denotes a floating-point number.\n",
        "\n",
        "- `bool` denotes a boolean value.\n",
        "\n",
        "The `str` output by the `type()` function confirms that the `input()` function indeed takes an input value in the form of a string data-type. \n",
        "\n",
        "But we want an integer input. So, we can use the `int()` function. It converts a value into an integer value.\n",
        "\n",
        "Let's convert the value stored in the `player_input` variable to an integer value and verify whether the conversion happened using the `type()` function."
      ]
    },
    {
      "cell_type": "code",
      "metadata": {
        "id": "V9TqpcgpE12z",
        "colab": {
          "base_uri": "https://localhost:8080/",
          "height": 34
        },
        "outputId": "bdfe9a11-1532-4cf7-c3f0-5fe20616e0f9"
      },
      "source": [
        "# Teacher Action: Convert the value stored in the 'player_input' variable into an integer.\n",
        "player_input=int(player_input)\n",
        "# Using 'type()' function, verify whether the conversion happened or not.\n",
        "type(player_input)"
      ],
      "execution_count": null,
      "outputs": [
        {
          "output_type": "execute_result",
          "data": {
            "text/plain": [
              "int"
            ]
          },
          "metadata": {
            "tags": []
          },
          "execution_count": 11
        }
      ]
    },
    {
      "cell_type": "markdown",
      "metadata": {
        "id": "Kf1UsBWUMN_L"
      },
      "source": [
        "As you can see, we first converted the value stored in the `player_input` variable to an integer value using the `int()` function. Then re-assigned the converted value to the same variable. This operation is again the **right-to-left** operation.\n",
        "\n",
        "`player_input` \n",
        "$\\longleftarrow$ \n",
        "`int(player_input)`\n",
        "\n",
        "Similarly, to convert any data-type into \n",
        "\n",
        "- a string, use the `str()` function.\n",
        "\n",
        "- a floating-point number, use the `float()` function.\n",
        "\n",
        "- a boolean, use the `bool()` function."
      ]
    },
    {
      "cell_type": "markdown",
      "metadata": {
        "id": "d_BR_mwLEIhU"
      },
      "source": [
        "---"
      ]
    },
    {
      "cell_type": "markdown",
      "metadata": {
        "id": "WC-7ScvE6xa-"
      },
      "source": [
        "#### Activity 4: The Conditional Statements^\n",
        "\n",
        "Now, we are ready to compare the `player_input` value with the `predict` value. \n",
        "\n",
        "To compare two or more values, we use conditional statements. They are of two types:\n",
        "\n",
        "1. `if-else` statement\n",
        "\n",
        "2. `if-elif-else` statement\n",
        "\n",
        "Let's go through each one of them.\n",
        "\n",
        "**The `if-else` statement**\n",
        "\n",
        "Consider a fair die. \n",
        "\n",
        "\n",
        "<img src='https://student-datasets-bucket.s3.ap-south-1.amazonaws.com/images/fair-die.jpg' width=200>\n",
        "\n",
        "If you roll a die, then there are 6 possible outcomes. They are `1, 2, 3, 4, 5` and `6`.\n",
        "\n",
        "Suppose you want to write a code which prints `\"Outcome is one.\"` if the die roll results in `1` and prints `\"Outcome is not one.\"` if the die roll results either in `2, 3, 4, 5` or `6`. Then, you can use the `if-else` statement.\n",
        "\n",
        "The `if` statement covers one specific condition which you need to specify. In this case, the specific condition is `if die_roll is 1`.\n",
        "\n",
        "The `else` statement covers all the remaining conditions. You don't have to specify the remaining conditions in the `else` statement.\n",
        "\n",
        "**To compare two values, we use double equals to (`==`) sign in any programming language**\n",
        "\n"
      ]
    },
    {
      "cell_type": "code",
      "metadata": {
        "id": "azu2Efdk_oR3",
        "colab": {
          "base_uri": "https://localhost:8080/",
          "height": 51
        },
        "outputId": "ad923d10-d642-4d70-c01a-fdbaad1aa9f1"
      },
      "source": [
        "# Teacher Action: Use the 'if-else' conditional statement to compare two values in Python.\n",
        "import random\n",
        "# Generate a random number between 1 and 6. Store it in the 'die_roll' variable.\n",
        "die_roll=random.randint(1,6)\n",
        "# Print the value stored in the 'die_roll' variable.\n",
        "print(die_roll)\n",
        "# Check if the value stored in the 'die_roll' variable is 1 or not.\n",
        "if die_roll==1:\n",
        "    print(\"outcome is one\")\n",
        "else:\n",
        "    print(\"outcome is not one\")"
      ],
      "execution_count": null,
      "outputs": [
        {
          "output_type": "stream",
          "text": [
            "2\n",
            "outcome is not one\n"
          ],
          "name": "stdout"
        }
      ]
    },
    {
      "cell_type": "markdown",
      "metadata": {
        "id": "bevuFAJfAj6W"
      },
      "source": [
        "In the above code: \n",
        "\n",
        "- The `randint(1, 6)` function returns a number between `1` and `6`. It mimicks the die roll. We have imported the `random` module in the second line of the code to use the `randint()` function.\n",
        "\n",
        "- The `print()` function prints the value returned by the `randint()` function which is stored in the `die_roll` variable.\n",
        "\n",
        "- The `if` statement compares the value stored in the `die_roll` variable with `1`. If this condition is `True`, i.e., if the value stored in the `die_roll` variable is indeed `1`, then the `print()` function prints `\"Outcome is one.\"`. The code stops here. Python completely ignores the `else` statement.\n",
        "\n",
        "- However, if the condition specified in the `if` statement is `False`, i.e, the value stored in the `die_roll` variable is NOT equal to `1`, then Python ignores the `if` statement and moves to the `else` statement. It executes the code written under the `else` statement. Hence, in this case, Python prints `\"Outcome is not one.\"`\n",
        "\n",
        "Run the above code several times to understand the `if-else` behaviour. You can also refer to the flowchart below to understand the `if-else` behaviour.\n",
        "\n",
        "<img src='https://student-datasets-bucket.s3.ap-south-1.amazonaws.com/images/if-else-block.png' width=400>\n",
        "\n",
        "\n",
        "**The `if-elif-else` statement**\n",
        "\n",
        "To specify more than one specific conditions, we use the `if-elif-else` statement. \n",
        "\n",
        "The term `elif` stands for **else if**.\n",
        "\n",
        "Suppose you want to write a code which prints `\"Outcome is a prime number.\"` if the die roll results either in `2, 3` or `5` and prints `\"Outcome is not a prime number.\"` if the die roll results either in `1, 4` or `6`. Then, you can write the `if-elif-else` statement."
      ]
    },
    {
      "cell_type": "code",
      "metadata": {
        "id": "xiXQtlVNDomg",
        "colab": {
          "base_uri": "https://localhost:8080/",
          "height": 51
        },
        "outputId": "141fadae-71ba-4a2e-a915-e4afbb0900fd"
      },
      "source": [
        "# Teacher Action: Use the 'if-elif-else' conditional statement to compare two values in Python.\n",
        "import random\n",
        "die_roll=random.randint(1,6)\n",
        "print(die_roll)\n",
        "if die_roll==2:\n",
        "    print(\"outcome is a prime number\")\n",
        "elif die_roll==3:\n",
        "    print(\"outcome is a prime number\")\n",
        "elif die_roll==5:\n",
        "    print(\"outcome is a prime number\")\n",
        "else:\n",
        "    print(\"outcome is not a prime number\")"
      ],
      "execution_count": null,
      "outputs": [
        {
          "output_type": "stream",
          "text": [
            "4\n",
            "outcome is not a prime number\n"
          ],
          "name": "stdout"
        }
      ]
    },
    {
      "cell_type": "markdown",
      "metadata": {
        "id": "wxhiDyOaEdgE"
      },
      "source": [
        "In the above code: \n",
        "\n",
        "- The `randint(1, 6)` function returns a number between `1` and `6`. It mimicks the die roll. \n",
        "\n",
        "- The `print()` function prints the value returned by the `randint()` function which is stored in the `die_roll` variable.\n",
        "\n",
        "- The `if` statement compares the value stored in the `die_roll` variable with `2`. If this condition is `True`, i.e., if the value stored in the `die_roll` variable is indeed `2`, then the `print()` function prints `\"Outcome is a prime number.\"`. The code stops here. Python completely ignores the subsequent statements.\n",
        "\n",
        "- Else if the value stored in the `die_roll` variable is NOT `2`, then the `elif` statement compares the value stored in the `die_roll` variable with `3`. If this condition is `True`, i.e., if the value stored in the `die_roll` variable is indeed `3`, then the `print()` function prints `\"Outcome is a prime number.\"`. The code stops here. Python completely ignores the subsequent statements.\n",
        "\n",
        "\n",
        "- Else if the value stored in the `die_roll` variable is NOT `3`, then the `elif` statement compares the value stored in the `die_roll` variable with `5`. If this condition is `True`, i.e., if the value stored in the `die_roll` variable is indeed `5`, then the `print()` function prints `\"Outcome is a prime number.\"`. The code stops here. Python completely ignores the subsequent statements.\n",
        "\n",
        "- However, if the condition specified in the `elif` statement is `False`, i.e, the value stored in the `die_roll` variable is neither equal to `2, 3` nor equal to `5`, then Python ignores the `elif` statement and moves to the `else` statement. It executes the code written under the `else` statement. Hence, in this case, Python prints `\"Outcome is not a prime number.\"`\n",
        "\n",
        "Run the above code several times to understand the `if-elif-else` behaviour. You can also refer to the flowchart below to understand the `if-elif-else` behaviour.\n",
        "\n",
        "<img src='https://student-datasets-bucket.s3.ap-south-1.amazonaws.com/images/if-elif-else-block.png' width=700>\n",
        "\n",
        "Now, using the `if-else` statement, compare the `player_input` value with the `predict` value in our algorithm. Then do the following:\n",
        "\n",
        "- If the `predict == player_input`, then increase the `computer_score` value by 1. Then, print the updated values of the `player_score` and `computer_score` variables. \n",
        "\n",
        "- Else, increase the `player_score` value by 1. Then, print the updated values of the `player_score` and `computer_score` variables."
      ]
    },
    {
      "cell_type": "code",
      "metadata": {
        "id": "HedSSdYRHSs5",
        "colab": {
          "base_uri": "https://localhost:8080/",
          "height": 68
        },
        "outputId": "4159aa33-abe1-4370-9f4e-013df1953343"
      },
      "source": [
        "# Student Action: Write a code to compare the 'predict' value with the 'player_input' value in our algorithm.\n",
        "# Note: Don't forget to convert the 'player_input' value to an integer.\n",
        "import random\n",
        "# Initialise the 'player_score' and 'computer_score' values.\n",
        "player_score=0 \n",
        "computer_score=0\n",
        "# Predict 0 or 1 randomly.\n",
        "predict=random.randint=(0,1)\n",
        "# Take input from the player.\n",
        "player_input=input(\"enter either 0 or 1 : \")\n",
        "# Convert the 'player_input' value to an integer.\n",
        "player_input=int(player_input)\n",
        "# Compare the 'predict' and 'player_input' values.\n",
        "if predict==player_input:\n",
        "  computer_score=computer_score+1\n",
        "  print(\"computer_score is :\",computer_score)\n",
        "  print(\"player_score : \",player_score)\n",
        "else:\n",
        "  player_score=player_score+1\n",
        "  print(\"computer_score is :\",computer_score)\n",
        "  print(\"player_score : \",player_score)"
      ],
      "execution_count": null,
      "outputs": [
        {
          "output_type": "stream",
          "text": [
            "enter either 0 or 1 : 0\n",
            "computer_score is : 0\n",
            "player_score :  1\n"
          ],
          "name": "stdout"
        }
      ]
    },
    {
      "cell_type": "markdown",
      "metadata": {
        "id": "yMdYlRFAJJgg"
      },
      "source": [
        "In the above code:\n",
        "\n",
        "- If the `predict == player_input`, the `computer_score` value gets increased by 1. Then, Python prints the updated values stored in the `player_score` and `computer_score` variables. \n",
        "\n",
        "- Else, the `player_score` value gets increased by 1. Then, Python prints the updated values stored in the `player_score` and `computer_score` variables."
      ]
    },
    {
      "cell_type": "markdown",
      "metadata": {
        "id": "SxNUVmhP6vaN"
      },
      "source": [
        "---"
      ]
    },
    {
      "cell_type": "markdown",
      "metadata": {
        "id": "4X2Rl4FSXD6W"
      },
      "source": [
        "#### Activity 5: Restrict Invalid Inputs And Run The Game^^^\n",
        "\n",
        "Now, we will restrict the player to enter any input other than `0` or `1`. We will learn this concept in the future classes but for now, let's use it.\n",
        "\n",
        "Also, we will use a `while` loop inside another `while` loop to run the game until either the player or the computer reaches a score of `50`. At every `player_input`, we will also print the scores for both the computer and the player.\n",
        "\n",
        "To test the working of the algorithm, let's run the game until either the player or the computer reaches a score of `10`. Otherwise, the game will get too long. Later you can replace `10` with `50`."
      ]
    },
    {
      "cell_type": "code",
      "metadata": {
        "id": "9Ted5QSbTskd"
      },
      "source": [
        "# Student Action: Follow the instructions mentioned in the comments below. Accordingly, write the code.\n",
        "# Import the random module below.\n",
        "import random\n",
        "# Initialise the 'player_score' and 'computer_score' variables below.\n",
        "player_score=0\n",
        "computer_score=0\n",
        "valid_entries = ['0', '1']\n",
        "\n",
        "while True:\n",
        "  # Predict 0 or 1 ranomly below.\n",
        "  predict=random.randint=(0,1)\n",
        "  # Take input from the player below.\n",
        "  player_input=input(\"enter either 0 or 1 : \")\n",
        "  while player_input not in valid_entries:\n",
        "    print(\"Invalid Input!\")\n",
        "    player_input = input(\"Please enter either 0 or 1: \")\n",
        "   \n",
        "  # Convert the value stored in the 'player_input' variable into an integer value below.\n",
        "\n",
        "  # Compare the 'predict' and the 'player_input' values below.\n",
        "\n",
        "  # Compare the 'computer_score' and 'player_score' values with 10.\n",
        "  if computer_score == 10:\n",
        "    print(\"Bad Luck, Computer Wins!\")\n",
        "    break\n",
        "  elif player_score == 10:\n",
        "    print(\"Congrats, You Won!\")\n",
        "    break"
      ],
      "execution_count": null,
      "outputs": []
    },
    {
      "cell_type": "markdown",
      "metadata": {
        "id": "xbSSwE0lNZfe"
      },
      "source": [
        "There are some parts in the code above which we haven't covered in this class. We will learn them in the subsequent classes."
      ]
    },
    {
      "cell_type": "markdown",
      "metadata": {
        "id": "U5hYb01ZTL7o"
      },
      "source": [
        "---"
      ]
    }
  ]
}
